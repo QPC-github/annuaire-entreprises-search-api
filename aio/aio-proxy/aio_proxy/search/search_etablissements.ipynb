{
 "cells": [
  {
   "cell_type": "code",
   "execution_count": 1,
   "id": "19517bc4-424e-4703-9326-8bd1e96a0266",
   "metadata": {},
   "outputs": [],
   "source": [
    "from elasticsearch import Elasticsearch\n",
    "from elasticsearch_dsl import query, Search\n",
    "from pprint import pprint\n",
    "from IPython.display import display, JSON "
   ]
  },
  {
   "cell_type": "code",
   "execution_count": 2,
   "id": "fbaa0a87-0352-4728-9b04-aa3889a76284",
   "metadata": {},
   "outputs": [],
   "source": [
    "ELASTIC_URL = \"http://search.sirene.dataeng.etalab.studio:80\"\n",
    "ELASTIC_USER = \"elastic\"\n",
    "ELASTIC_PASSWORD = \"etalab123\""
   ]
  },
  {
   "cell_type": "code",
   "execution_count": 3,
   "id": "6f4c3404-1801-48cf-9e42-f4957915e32a",
   "metadata": {},
   "outputs": [],
   "source": [
    "client = Elasticsearch(\n",
    "    ELASTIC_URL,\n",
    "    http_auth=(ELASTIC_USER, ELASTIC_PASSWORD)\n",
    ")"
   ]
  },
  {
   "cell_type": "code",
   "execution_count": 4,
   "id": "0bbbcf1a-c025-4a88-9776-feee4e3ef33d",
   "metadata": {},
   "outputs": [
    {
     "data": {
      "text/plain": [
       "{'name': 'elastic-sirene',\n",
       " 'cluster_name': 'es-docker-cluster',\n",
       " 'cluster_uuid': 'UU-S6-DJSl2qi4YOAneMPQ',\n",
       " 'version': {'number': '7.12.1',\n",
       "  'build_flavor': 'default',\n",
       "  'build_type': 'docker',\n",
       "  'build_hash': '3186837139b9c6b6d23c3200870651f10d3343b7',\n",
       "  'build_date': '2021-04-20T20:56:39.040728659Z',\n",
       "  'build_snapshot': False,\n",
       "  'lucene_version': '8.8.0',\n",
       "  'minimum_wire_compatibility_version': '6.8.0',\n",
       "  'minimum_index_compatibility_version': '6.0.0-beta1'},\n",
       " 'tagline': 'You Know, for Search'}"
      ]
     },
     "execution_count": 4,
     "metadata": {},
     "output_type": "execute_result"
    }
   ],
   "source": [
    "client.info()"
   ]
  },
  {
   "cell_type": "code",
   "execution_count": 5,
   "id": "0af9a9ba-7775-41cb-9fe3-b8baf3a5eaf9",
   "metadata": {},
   "outputs": [],
   "source": [
    "s = Search(using=client, index=\"siren-green\")"
   ]
  },
  {
   "cell_type": "code",
   "execution_count": 6,
   "id": "a0cc08bd-44aa-4df3-9f7d-e75d089bbb2e",
   "metadata": {},
   "outputs": [
    {
     "data": {
      "text/plain": [
       "'\\nshould means: If these clauses match, they increase the _score;\\notherwise, they have no effect.\\nThey are simply used to refine the relevance score for each document.\\n'"
      ]
     },
     "execution_count": 6,
     "metadata": {},
     "output_type": "execute_result"
    }
   ],
   "source": [
    "\"\"\"\n",
    "should means: If these clauses match, they increase the _score;\n",
    "otherwise, they have no effect.\n",
    "They are simply used to refine the relevance score for each document.\n",
    "\"\"\"\n"
   ]
  },
  {
   "cell_type": "code",
   "execution_count": 7,
   "id": "3cea832a-8805-4617-9cfe-c5d9b23b25ee",
   "metadata": {},
   "outputs": [],
   "source": [
    "terms = \"la poste paris\""
   ]
  },
  {
   "cell_type": "code",
   "execution_count": 8,
   "id": "b65c3321-e093-4b8d-909c-057a8873afda",
   "metadata": {},
   "outputs": [
    {
     "data": {
      "text/plain": [
       "({'function_score': {'query': {'multi_match': {'query': 'term',\n",
       "     'fields': ['nom_complet^3', 'etablissements.adresse'],\n",
       "     'type': 'cross_fields',\n",
       "     'operator': 'AND'}},\n",
       "   'field_value_factor': {'field': 'nombre_etablissements_ouverts',\n",
       "    'factor': 1,\n",
       "    'modifier': 'log1p',\n",
       "    'missing': 1}}},)"
      ]
     },
     "execution_count": 8,
     "metadata": {},
     "output_type": "execute_result"
    }
   ],
   "source": [
    " {\n",
    "          \"function_score\": {\n",
    "            \"query\": {\n",
    "              \"multi_match\": {\n",
    "                \"query\": \"term\",\n",
    "                \"fields\": [\n",
    "                  \"nom_complet^3\",\n",
    "                  \"etablissements.adresse\",\n",
    "                ],\n",
    "                \"type\": \"cross_fields\",\n",
    "                \"operator\": \"AND\",\n",
    "              }\n",
    "            },\n",
    "            \"field_value_factor\": {\n",
    "              \"field\": \"nombre_etablissements_ouverts\",\n",
    "              \"factor\": 1,\n",
    "              \"modifier\": \"log1p\",\n",
    "              \"missing\": 1\n",
    "            },\n",
    "          }\n",
    "        },"
   ]
  },
  {
   "cell_type": "code",
   "execution_count": 95,
   "id": "72cb2dc9-0359-4894-86ad-51e43e8406ab",
   "metadata": {},
   "outputs": [],
   "source": [
    "query_body = {\n",
    "    \"bool\": {\n",
    "      \"should\": [\n",
    "          {\n",
    "          \"function_score\": {\n",
    "            \"query\": {\n",
    "              \"match_phrase\":{ \n",
    "                \"identifiant_association_unite_legale\":\n",
    "                {\n",
    "                \"query\": terms,\n",
    "                \"boost\": 50,\n",
    "                \"_name\": \"exact match identifiant association\"\n",
    "              }\n",
    "            }},\n",
    "            \"field_value_factor\": {\n",
    "              \"field\": \"nombre_etablissements_ouverts\",\n",
    "              \"factor\": 1,\n",
    "              \"modifier\": \"log1p\",\n",
    "              \"missing\": 1\n",
    "            },\n",
    "          }\n",
    "        },\n",
    "        {\n",
    "          \"function_score\": {\n",
    "            \"query\": {\n",
    "              \"match_phrase\":{ \n",
    "                \"nom_complet.keyword\":\n",
    "                {\n",
    "                \"query\": terms,\n",
    "                \"boost\": 100,\n",
    "                \"_name\": \"exact nom_complet match\"\n",
    "              }\n",
    "            }},\n",
    "            \"field_value_factor\": {\n",
    "              \"field\": \"nombre_etablissements_ouverts\",\n",
    "              \"factor\": 1,\n",
    "              \"modifier\": \"log1p\",\n",
    "              \"missing\": 1\n",
    "            },\n",
    "          }\n",
    "        },\n",
    "          {\n",
    "          \"function_score\": {\n",
    "            \"query\": {\n",
    "              \"match\":{ \n",
    "                \"nom_complet\":\n",
    "                {\n",
    "                \"query\": terms,\n",
    "                \"operator\": \"AND\",\n",
    "                \"boost\": 50,\n",
    "                \"_name\": \"partial nom_complet match with AND\"\n",
    "              }\n",
    "            }},\n",
    "            \"field_value_factor\": {\n",
    "              \"field\": \"nombre_etablissements_ouverts\",\n",
    "              \"factor\": 1,\n",
    "              \"modifier\": \"log1p\",\n",
    "              \"missing\": 1\n",
    "            },\n",
    "          }\n",
    "        },\n",
    "          \n",
    "        {\n",
    "          \"function_score\": {\n",
    "            \"query\": {\n",
    "              \"nested\": {\n",
    "                \"path\": \"etablissements\",\n",
    "                \"query\": {\n",
    "                  \"bool\": {\n",
    "                    \"should\": [\n",
    "                        { \n",
    "                        \"match_phrase\": {\n",
    "                            \"etablissements.enseigne_1.keyword\": \n",
    "                            { \n",
    "                                \"query\": terms,\n",
    "                                \"boost\": 25,\n",
    "                                \"_name\": \"exact match enseigne 1\"\n",
    "                            }\n",
    "                        }\n",
    "                            },\n",
    "                        {\n",
    "                         \"match\": {\n",
    "                            \"etablissements.enseigne_1\": \n",
    "                            { \n",
    "                                \"query\": terms,\n",
    "                                \"operator\": \"AND\",\n",
    "                                \"boost\": 1,\n",
    "                                \"_name\": \"partial match enseigne 1\"\n",
    "                            }\n",
    "                        }\n",
    "                        },\n",
    "                        { \n",
    "                        \"match_phrase\": {\n",
    "                            \"etablissements.enseigne_2.keyword\": \n",
    "                            { \n",
    "                                \"query\": terms,\n",
    "                                \"boost\": 25,\n",
    "                                \"_name\": \"exact match enseigne 2\"\n",
    "                            }\n",
    "                        }\n",
    "                            },\n",
    "                        {\n",
    "                         \"match\": {\n",
    "                            \"etablissements.enseigne_2\": \n",
    "                            { \n",
    "                                \"query\": terms,\n",
    "                                \"operator\": \"AND\",\n",
    "                                \"boost\": 1,\n",
    "                                \"_name\": \"partial match enseigne 2\"\n",
    "                            }\n",
    "                        }\n",
    "                        },\n",
    "                        { \n",
    "                        \"match_phrase\": {\n",
    "                            \"etablissements.enseigne_3.keyword\": \n",
    "                            { \n",
    "                                \"query\": terms,\n",
    "                                \"boost\": 25,\n",
    "                                \"_name\": \"exact match enseigne 3\"\n",
    "                            }\n",
    "                        }\n",
    "                            },\n",
    "                        {\n",
    "                         \"match\": {\n",
    "                            \"etablissements.enseigne_3\": \n",
    "                            { \n",
    "                                \"query\": terms,\n",
    "                                \"operator\": \"AND\",\n",
    "                                \"boost\": 1,\n",
    "                                \"_name\": \"partial match enseigne 3\"\n",
    "                            }\n",
    "                        }\n",
    "                        },\n",
    "                        {\n",
    "                         \"match\": {\n",
    "                            \"etablissements.adresse\": \n",
    "                            { \n",
    "                                \"query\": terms,\n",
    "                                \"operator\": \"AND\",\n",
    "                                \"boost\": 15,\n",
    "                                \"_name\": \"partial match adresse\"\n",
    "                            }\n",
    "                        }\n",
    "                        },\n",
    "                        {\n",
    "                         \"match\": {\n",
    "                            \"etablissements.geo_adresse\": \n",
    "                            { \n",
    "                                \"query\": terms,\n",
    "                                \"operator\": \"AND\",\n",
    "                                \"boost\": 5,\n",
    "                                \"_name\": \"partial match adresse\"\n",
    "                            }\n",
    "                        }\n",
    "                        },\n",
    "                        {\n",
    "                        \"multi_match\": {\n",
    "                            \"query\": terms,\n",
    "                            \"fields\": [\n",
    "                                \"etablissements.nom_complet^50\",\n",
    "                                \"etablissements.adresse\",\n",
    "                                \"etablissements.concat_enseigne_adresse_siren_siret\",\n",
    "                            ],\n",
    "                            \"type\": \"cross_fields\",\n",
    "                            \"operator\": \"AND\",\n",
    "                            \"boost\": 5,\n",
    "                            \"_name\": \"match nom complet et adresse\",\n",
    "                        }\n",
    "                        },\n",
    "                         \n",
    "                    ]\n",
    "                  }\n",
    "                },\n",
    "                  \"inner_hits\": {}\n",
    "              }},\n",
    "            \n",
    "          \"field_value_factor\": {\n",
    "              \"field\": \"nombre_etablissements_ouverts\",\n",
    "              \"factor\": 1,\n",
    "              \"modifier\": \"log1p\",\n",
    "              \"missing\": 1\n",
    "            },\n",
    "          }\n",
    "        },\n",
    "         {\n",
    "          \"function_score\": {\n",
    "            \"query\": {\n",
    "              \"match\":{ \n",
    "                \"liste_dirigeants\":\n",
    "                {\n",
    "                \"query\": terms,\n",
    "                \"operator\": \"AND\",\n",
    "                \"boost\": 10,\n",
    "                \"_name\": \"partial match liste dirigeants\"\n",
    "              }\n",
    "            }},\n",
    "            \"field_value_factor\": {\n",
    "              \"field\": \"nombre_etablissements_ouverts\",\n",
    "              \"factor\": 1,\n",
    "              \"modifier\": \"log1p\",\n",
    "              \"missing\": 1\n",
    "            },\n",
    "          }\n",
    "        },\n",
    "        {\n",
    "          \"function_score\": {\n",
    "            \"query\": {\n",
    "              \"match\":{ \n",
    "                \"liste_elus\":\n",
    "                {\n",
    "                \"query\": terms,\n",
    "                \"operator\": \"AND\",\n",
    "                \"boost\": 10,\n",
    "                \"_name\": \"partial match liste élus\"\n",
    "              }\n",
    "            }},\n",
    "            \"field_value_factor\": {\n",
    "              \"field\": \"nombre_etablissements_ouverts\",\n",
    "              \"factor\": 1,\n",
    "              \"modifier\": \"log1p\",\n",
    "              \"missing\": 1\n",
    "            },\n",
    "          }\n",
    "        },\n",
    "        \n",
    "      ],\n",
    "    }\n",
    "  }\n",
    "\n"
   ]
  },
  {
   "cell_type": "code",
   "execution_count": null,
   "id": "580fdbfe-902a-4149-95de-e53d76022d6d",
   "metadata": {},
   "outputs": [],
   "source": [
    "{\n",
    "          \"function_score\": {\n",
    "              \n",
    "            \"query\":{\n",
    "                        \"multi_match\": {\n",
    "                            \"query\": terms,\n",
    "                            \"fields\": [\n",
    "                                \"nom_complet^10\",\n",
    "                                \"liste_dirigeants^5\",\n",
    "                                \"liste_élus^5\",\n",
    "                                \"siren\",\n",
    "                            ],\n",
    "                            \"type\": \"best_fields\",\n",
    "                            \"_name\": \"match nom complet, dirigeants, élus, siren\",\n",
    "                        }\n",
    "                        },\n",
    "            \"field_value_factor\": {\n",
    "              \"field\": \"nombre_etablissements_ouverts\",\n",
    "              \"factor\": 1,\n",
    "              \"modifier\": \"log1p\",\n",
    "              \"missing\": 1\n",
    "            },\n",
    "          }\n",
    "        },\n",
    "       "
   ]
  },
  {
   "cell_type": "code",
   "execution_count": 94,
   "id": "f1a2d073-e391-426d-bbcd-7d7b2632f8c6",
   "metadata": {},
   "outputs": [],
   "source": [
    "terms = \"ganymede\""
   ]
  },
  {
   "cell_type": "code",
   "execution_count": 96,
   "id": "f9ce0db0-24bf-4f2a-b6ba-022cc14546b7",
   "metadata": {},
   "outputs": [],
   "source": [
    "response = client.search(index=\"siren-green\", query=query_body, explain=True)"
   ]
  },
  {
   "cell_type": "code",
   "execution_count": 97,
   "id": "4328b3a8-afa8-4438-9a85-7790a9fbc647",
   "metadata": {},
   "outputs": [
    {
     "data": {
      "text/plain": [
       "83"
      ]
     },
     "execution_count": 97,
     "metadata": {},
     "output_type": "execute_result"
    }
   ],
   "source": [
    "response['hits']['total']['value']"
   ]
  },
  {
   "cell_type": "code",
   "execution_count": 98,
   "id": "5be4c076-70b0-4f63-80d4-68c30817ae3f",
   "metadata": {},
   "outputs": [
    {
     "data": {
      "application/json": {
       "_shards": {
        "failed": 0,
        "skipped": 0,
        "successful": 4,
        "total": 4
       },
       "hits": {
        "hits": [
         {
          "_explanation": {
           "description": "sum of:",
           "details": [
            {
             "description": "sum of:",
             "details": [
              {
               "description": "function score, product of:",
               "details": [
                {
                 "description": "weight(nom_complet.keyword:ganymede in 8293693) [PerFieldSimilarity], result of:",
                 "details": [
                  {
                   "description": "score(freq=1.0), computed as boost * idf * tf from:",
                   "details": [
                    {
                     "description": "boost",
                     "details": [],
                     "value": 220
                    },
                    {
                     "description": "idf, computed as log(1 + (N - n + 0.5) / (n + 0.5)) from:",
                     "details": [
                      {
                       "description": "n, number of documents containing term",
                       "details": [],
                       "value": 1
                      },
                      {
                       "description": "N, total number of documents with field",
                       "details": [],
                       "value": 5928596
                      }
                     ],
                     "value": 15.189833
                    },
                    {
                     "description": "tf, computed as freq / (freq + k1 * (1 - b + b * dl / avgdl)) from:",
                     "details": [
                      {
                       "description": "freq, occurrences of term within document",
                       "details": [],
                       "value": 1
                      },
                      {
                       "description": "k1, term saturation parameter",
                       "details": [],
                       "value": 1.2
                      },
                      {
                       "description": "b, length normalization parameter",
                       "details": [],
                       "value": 0.75
                      },
                      {
                       "description": "dl, length of field",
                       "details": [],
                       "value": 1
                      },
                      {
                       "description": "avgdl, average length of field",
                       "details": [],
                       "value": 1
                      }
                     ],
                     "value": 0.45454544
                    }
                   ],
                   "value": 1518.9832
                  }
                 ],
                 "value": 1518.9832
                },
                {
                 "description": "min of:",
                 "details": [
                  {
                   "description": "field value function: log1p(doc['nombre_etablissements_ouverts'].value?:1.0 * factor=1.0)",
                   "details": [],
                   "value": 0.30103
                  },
                  {
                   "description": "maxBoost",
                   "details": [],
                   "value": 3.4028235e+38
                  }
                 ],
                 "value": 0.30103
                }
               ],
               "value": 457.25952
              },
              {
               "description": "function score, product of:",
               "details": [
                {
                 "description": "weight(nom_complet:ganymed in 8293693) [PerFieldSimilarity], result of:",
                 "details": [
                  {
                   "description": "score(freq=1.0), computed as boost * idf * tf from:",
                   "details": [
                    {
                     "description": "boost",
                     "details": [],
                     "value": 110
                    },
                    {
                     "description": "idf, computed as log(1 + (N - n + 0.5) / (n + 0.5)) from:",
                     "details": [
                      {
                       "description": "n, number of documents containing term",
                       "details": [],
                       "value": 5
                      },
                      {
                       "description": "N, total number of documents with field",
                       "details": [],
                       "value": 5926652
                      }
                     ],
                     "value": 13.890223
                    },
                    {
                     "description": "tf, computed as freq / (freq + k1 * (1 - b + b * dl / avgdl)) from:",
                     "details": [
                      {
                       "description": "freq, occurrences of term within document",
                       "details": [],
                       "value": 1
                      },
                      {
                       "description": "k1, term saturation parameter",
                       "details": [],
                       "value": 1.2
                      },
                      {
                       "description": "b, length normalization parameter",
                       "details": [],
                       "value": 0.75
                      },
                      {
                       "description": "dl, length of field",
                       "details": [],
                       "value": 1
                      },
                      {
                       "description": "avgdl, average length of field",
                       "details": [],
                       "value": 2.3830183
                      }
                     ],
                     "value": 0.596064
                    }
                   ],
                   "value": 910.74066
                  }
                 ],
                 "value": 910.74066
                },
                {
                 "description": "min of:",
                 "details": [
                  {
                   "description": "field value function: log1p(doc['nombre_etablissements_ouverts'].value?:1.0 * factor=1.0)",
                   "details": [],
                   "value": 0.30103
                  },
                  {
                   "description": "maxBoost",
                   "details": [],
                   "value": 3.4028235e+38
                  }
                 ],
                 "value": 0.30103
                }
               ],
               "value": 274.16028
              },
              {
               "description": "function score, product of:",
               "details": [
                {
                 "description": "Score based on 1 child docs in range from 8293689 to 8293692, best match:",
                 "details": [
                  {
                   "description": "sum of:",
                   "details": [
                    {
                     "description": "sum of:",
                     "details": [
                      {
                       "description": "max of:",
                       "details": [
                        {
                         "description": "weight(etablissements.nom_complet:ganymed in 8293691) [PerFieldSimilarity], result of:",
                         "details": [
                          {
                           "description": "score(freq=1.0), computed as boost * idf * tf from:",
                           "details": [
                            {
                             "description": "boost",
                             "details": [],
                             "value": 550
                            },
                            {
                             "description": "idf, computed as log(1 + (N - n + 0.5) / (n + 0.5)) from:",
                             "details": [
                              {
                               "description": "n, number of documents containing term",
                               "details": [],
                               "value": 8
                              },
                              {
                               "description": "N, total number of documents with field",
                               "details": [],
                               "value": 8396706
                              }
                             ],
                             "value": 13.803284
                            },
                            {
                             "description": "tf, computed as freq / (freq + k1 * (1 - b + b * dl / avgdl)) from:",
                             "details": [
                              {
                               "description": "freq, occurrences of term within document",
                               "details": [],
                               "value": 1
                              },
                              {
                               "description": "k1, term saturation parameter",
                               "details": [],
                               "value": 1.2
                              },
                              {
                               "description": "b, length normalization parameter",
                               "details": [],
                               "value": 0.75
                              },
                              {
                               "description": "dl, length of field",
                               "details": [],
                               "value": 1
                              },
                              {
                               "description": "avgdl, average length of field",
                               "details": [],
                               "value": 2.3941002
                              }
                             ],
                             "value": 0.5966857
                            }
                           ],
                           "value": 4529.9224
                          }
                         ],
                         "value": 4529.9224
                        }
                       ],
                       "value": 4529.9224
                      }
                     ],
                     "value": 4529.9224
                    },
                    {
                     "description": "match on required clause, product of:",
                     "details": [
                      {
                       "description": "# clause",
                       "details": [],
                       "value": 0
                      },
                      {
                       "description": "_type:__etablissements",
                       "details": [],
                       "value": 1
                      }
                     ],
                     "value": 0
                    }
                   ],
                   "value": 4529.9224
                  }
                 ],
                 "value": 4529.9224
                },
                {
                 "description": "min of:",
                 "details": [
                  {
                   "description": "field value function: log1p(doc['nombre_etablissements_ouverts'].value?:1.0 * factor=1.0)",
                   "details": [],
                   "value": 0.30103
                  },
                  {
                   "description": "maxBoost",
                   "details": [],
                   "value": 3.4028235e+38
                  }
                 ],
                 "value": 0.30103
                }
               ],
               "value": 1363.6426
              }
             ],
             "value": 2095.0623
            },
            {
             "description": "match on required clause, product of:",
             "details": [
              {
               "description": "# clause",
               "details": [],
               "value": 0
              },
              {
               "description": "DocValuesFieldExistsQuery [field=_primary_term]",
               "details": [],
               "value": 1
              }
             ],
             "value": 0
            }
           ],
           "value": 2095.0623
          },
          "_id": "803657048",
          "_index": "siren-green",
          "_node": "W2iIuGaVTAyI8840GgZc7Q",
          "_score": 2095.0623,
          "_shard": "[siren-green][0]",
          "_source": {
           "activite_principale_unite_legale": "68.20B",
           "date_creation_unite_legale": "2014-03-17",
           "date_mise_a_jour_unite_legale": "2019-11-19T03:47:05",
           "dirigeants_pp": [
            {
             "date_naissance": "1987-07-17",
             "nom": "bary",
             "pays_naissance": "FRANCE",
             "prenoms": "kévin vincent",
             "qualite": "Gérant, Associé indéfiniment et solidairement responsable",
             "ville_naissance": "57672 Thionville "
            },
            {
             "date_naissance": "1956-01-23",
             "nom": "bary (berezowski)",
             "pays_naissance": "FRANCE",
             "prenoms": "sylviane dominique raymonde",
             "qualite": "Gérant, Associé indéfiniment et solidairement responsable",
             "ville_naissance": "72176 Le Lude "
            }
           ],
           "economie_sociale_solidaire_unite_legale": "N",
           "est_entrepreneur_individuel": false,
           "etablissements": [
            {
             "activite_principale": "68.20B",
             "activite_principale_registre_metier": null,
             "adresse": "4 IMP BEL AIR 57757 YUTZ",
             "cedex": null,
             "cedex_2": null,
             "code_pays_etranger": null,
             "code_pays_etranger_2": null,
             "code_postal": "57970",
             "commune": "57757",
             "commune_2": null,
             "complement_adresse": null,
             "complement_adresse_2": null,
             "concat_enseigne_adresse_siren_siret": "4 IMP BEL AIR 57757 YUTZ 803657048 80365704800010",
             "coordonnees": "49.347506,6.197629",
             "date_creation": "2014-03-17",
             "date_debut_activite": "2014-03-17",
             "departement": "57",
             "distribution_speciale": null,
             "distribution_speciale_2": null,
             "enseigne_1": null,
             "enseigne_2": null,
             "enseigne_3": null,
             "est_siege": true,
             "etat_administratif": "A",
             "geo_adresse": "4 Impasse Bel Air 57970 Yutz",
             "geo_id": "57757_0043_00004",
             "indice_repetition": null,
             "indice_repetition_2": null,
             "latitude": "49.347506",
             "libelle_cedex": null,
             "libelle_cedex_2": null,
             "libelle_commune": "YUTZ",
             "libelle_commune_2": null,
             "libelle_commune_etranger": null,
             "libelle_commune_etranger_2": null,
             "libelle_pays_etranger": null,
             "libelle_pays_etranger_2": null,
             "libelle_voie": "BEL AIR",
             "libelle_voie_2": null,
             "liste_finess": null,
             "liste_idcc": null,
             "liste_rge": null,
             "liste_uai": null,
             "longitude": "6.197629",
             "nom_commercial": null,
             "nom_complet": "ganymede",
             "numero_voie": "4",
             "numero_voie_2": null,
             "siren": "803657048",
             "siret": "80365704800010",
             "tranche_effectif_salarie": null,
             "type_voie": "IMP",
             "type_voie_2": null
            }
           ],
           "etat_administratif_unite_legale": "A",
           "liste_dirigeants": [
            "sylviane dominique raymonde bary (berezowski)",
            "kévin vincent bary"
           ],
           "nature_juridique_unite_legale": "6599",
           "nom_complet": "ganymede",
           "nom_raison_sociale": "GANYMEDE",
           "nombre_etablissements": 1,
           "nombre_etablissements_ouverts": 1,
           "section_activite_principale": "L",
           "siege": {
            "activite_principale": "68.20B",
            "activite_principale_registre_metier": null,
            "adresse": "4 IMP BEL AIR 57757 YUTZ",
            "cedex": null,
            "cedex_2": null,
            "code_pays_etranger": null,
            "code_pays_etranger_2": null,
            "code_postal": "57970",
            "commune": "57757",
            "commune_2": null,
            "complement_adresse": null,
            "complement_adresse_2": null,
            "coordonnees": "49.347506,6.197629",
            "date_creation": "2014-03-17",
            "date_debut_activite": "2014-03-17",
            "departement": "57",
            "distribution_speciale": null,
            "distribution_speciale_2": null,
            "enseigne_1": null,
            "enseigne_2": null,
            "enseigne_3": null,
            "est_siege": true,
            "etat_administratif": "A",
            "geo_adresse": "4 Impasse Bel Air 57970 Yutz",
            "geo_id": "57757_0043_00004",
            "indice_repetition": null,
            "indice_repetition_2": null,
            "latitude": "49.347506",
            "libelle_cedex": null,
            "libelle_cedex_2": null,
            "libelle_commune": "YUTZ",
            "libelle_commune_2": null,
            "libelle_commune_etranger": null,
            "libelle_commune_etranger_2": null,
            "libelle_pays_etranger": null,
            "libelle_pays_etranger_2": null,
            "libelle_voie": "BEL AIR",
            "libelle_voie_2": null,
            "liste_finess": null,
            "liste_idcc": null,
            "liste_rge": null,
            "liste_uai": null,
            "longitude": "6.197629",
            "nom_commercial": null,
            "numero_voie": "4",
            "numero_voie_2": null,
            "siren": "803657048",
            "siret": "80365704800010",
            "tranche_effectif_salarie": null,
            "type_voie": "IMP",
            "type_voie_2": null
           },
           "siren": "803657048",
           "siret_siege": "80365704800010"
          },
          "_type": "_doc",
          "inner_hits": {
           "etablissements": {
            "hits": {
             "hits": [
              {
               "_id": "803657048",
               "_index": "siren-green",
               "_nested": {
                "field": "etablissements",
                "offset": 0
               },
               "_score": 4529.9224,
               "_source": {
                "activite_principale": "68.20B",
                "activite_principale_registre_metier": null,
                "adresse": "4 IMP BEL AIR 57757 YUTZ",
                "cedex": null,
                "cedex_2": null,
                "code_pays_etranger": null,
                "code_pays_etranger_2": null,
                "code_postal": "57970",
                "commune": "57757",
                "commune_2": null,
                "complement_adresse": null,
                "complement_adresse_2": null,
                "concat_enseigne_adresse_siren_siret": "4 IMP BEL AIR 57757 YUTZ 803657048 80365704800010",
                "coordonnees": "49.347506,6.197629",
                "date_creation": "2014-03-17",
                "date_debut_activite": "2014-03-17",
                "departement": "57",
                "distribution_speciale": null,
                "distribution_speciale_2": null,
                "enseigne_1": null,
                "enseigne_2": null,
                "enseigne_3": null,
                "est_siege": true,
                "etat_administratif": "A",
                "geo_adresse": "4 Impasse Bel Air 57970 Yutz",
                "geo_id": "57757_0043_00004",
                "indice_repetition": null,
                "indice_repetition_2": null,
                "latitude": "49.347506",
                "libelle_cedex": null,
                "libelle_cedex_2": null,
                "libelle_commune": "YUTZ",
                "libelle_commune_2": null,
                "libelle_commune_etranger": null,
                "libelle_commune_etranger_2": null,
                "libelle_pays_etranger": null,
                "libelle_pays_etranger_2": null,
                "libelle_voie": "BEL AIR",
                "libelle_voie_2": null,
                "liste_finess": null,
                "liste_idcc": null,
                "liste_rge": null,
                "liste_uai": null,
                "longitude": "6.197629",
                "nom_commercial": null,
                "nom_complet": "ganymede",
                "numero_voie": "4",
                "numero_voie_2": null,
                "siren": "803657048",
                "siret": "80365704800010",
                "tranche_effectif_salarie": null,
                "type_voie": "IMP",
                "type_voie_2": null
               },
               "_type": "_doc",
               "matched_queries": [
                "match nom complet et adresse"
               ]
              }
             ],
             "max_score": 4529.9224,
             "total": {
              "relation": "eq",
              "value": 1
             }
            }
           }
          },
          "matched_queries": [
           "exact nom_complet match",
           "partial nom_complet match with AND"
          ]
         },
         {
          "_explanation": {
           "description": "sum of:",
           "details": [
            {
             "description": "sum of:",
             "details": [
              {
               "description": "function score, product of:",
               "details": [
                {
                 "description": "weight(nom_complet.keyword:ganymede in 1336351) [PerFieldSimilarity], result of:",
                 "details": [
                  {
                   "description": "score(freq=1.0), computed as boost * idf * tf from:",
                   "details": [
                    {
                     "description": "boost",
                     "details": [],
                     "value": 220
                    },
                    {
                     "description": "idf, computed as log(1 + (N - n + 0.5) / (n + 0.5)) from:",
                     "details": [
                      {
                       "description": "n, number of documents containing term",
                       "details": [],
                       "value": 4
                      },
                      {
                       "description": "N, total number of documents with field",
                       "details": [],
                       "value": 5927198
                      }
                     ],
                     "value": 14.090985
                    },
                    {
                     "description": "tf, computed as freq / (freq + k1 * (1 - b + b * dl / avgdl)) from:",
                     "details": [
                      {
                       "description": "freq, occurrences of term within document",
                       "details": [],
                       "value": 1
                      },
                      {
                       "description": "k1, term saturation parameter",
                       "details": [],
                       "value": 1.2
                      },
                      {
                       "description": "b, length normalization parameter",
                       "details": [],
                       "value": 0.75
                      },
                      {
                       "description": "dl, length of field",
                       "details": [],
                       "value": 1
                      },
                      {
                       "description": "avgdl, average length of field",
                       "details": [],
                       "value": 1
                      }
                     ],
                     "value": 0.45454544
                    }
                   ],
                   "value": 1409.0985
                  }
                 ],
                 "value": 1409.0985
                },
                {
                 "description": "min of:",
                 "details": [
                  {
                   "description": "field value function: log1p(doc['nombre_etablissements_ouverts'].value?:1.0 * factor=1.0)",
                   "details": [],
                   "value": 0.30103
                  },
                  {
                   "description": "maxBoost",
                   "details": [],
                   "value": 3.4028235e+38
                  }
                 ],
                 "value": 0.30103
                }
               ],
               "value": 424.18094
              },
              {
               "description": "function score, product of:",
               "details": [
                {
                 "description": "weight(nom_complet:ganymed in 1336351) [PerFieldSimilarity], result of:",
                 "details": [
                  {
                   "description": "score(freq=1.0), computed as boost * idf * tf from:",
                   "details": [
                    {
                     "description": "boost",
                     "details": [],
                     "value": 110
                    },
                    {
                     "description": "idf, computed as log(1 + (N - n + 0.5) / (n + 0.5)) from:",
                     "details": [
                      {
                       "description": "n, number of documents containing term",
                       "details": [],
                       "value": 10
                      },
                      {
                       "description": "N, total number of documents with field",
                       "details": [],
                       "value": 5925219
                      }
                     ],
                     "value": 13.243353
                    },
                    {
                     "description": "tf, computed as freq / (freq + k1 * (1 - b + b * dl / avgdl)) from:",
                     "details": [
                      {
                       "description": "freq, occurrences of term within document",
                       "details": [],
                       "value": 1
                      },
                      {
                       "description": "k1, term saturation parameter",
                       "details": [],
                       "value": 1.2
                      },
                      {
                       "description": "b, length normalization parameter",
                       "details": [],
                       "value": 0.75
                      },
                      {
                       "description": "dl, length of field",
                       "details": [],
                       "value": 1
                      },
                      {
                       "description": "avgdl, average length of field",
                       "details": [],
                       "value": 2.3824754
                      }
                     ],
                     "value": 0.5960334
                    }
                   ],
                   "value": 868.28284
                  }
                 ],
                 "value": 868.28284
                },
                {
                 "description": "min of:",
                 "details": [
                  {
                   "description": "field value function: log1p(doc['nombre_etablissements_ouverts'].value?:1.0 * factor=1.0)",
                   "details": [],
                   "value": 0.30103
                  },
                  {
                   "description": "maxBoost",
                   "details": [],
                   "value": 3.4028235e+38
                  }
                 ],
                 "value": 0.30103
                }
               ],
               "value": 261.37918
              },
              {
               "description": "function score, product of:",
               "details": [
                {
                 "description": "Score based on 1 child docs in range from 23894645 to 23894647, best match:",
                 "details": [
                  {
                   "description": "sum of:",
                   "details": [
                    {
                     "description": "sum of:",
                     "details": [
                      {
                       "description": "max of:",
                       "details": [
                        {
                         "description": "weight(etablissements.nom_complet:ganymed in 1336349) [PerFieldSimilarity], result of:",
                         "details": [
                          {
                           "description": "score(freq=1.0), computed as boost * idf * tf from:",
                           "details": [
                            {
                             "description": "boost",
                             "details": [],
                             "value": 550
                            },
                            {
                             "description": "idf, computed as log(1 + (N - n + 0.5) / (n + 0.5)) from:",
                             "details": [
                              {
                               "description": "n, number of documents containing term",
                               "details": [],
                               "value": 13
                              },
                              {
                               "description": "N, total number of documents with field",
                               "details": [],
                               "value": 8383344
                              }
                             ],
                             "value": 13.339067
                            },
                            {
                             "description": "tf, computed as freq / (freq + k1 * (1 - b + b * dl / avgdl)) from:",
                             "details": [
                              {
                               "description": "freq, occurrences of term within document",
                               "details": [],
                               "value": 1
                              },
                              {
                               "description": "k1, term saturation parameter",
                               "details": [],
                               "value": 1.2
                              },
                              {
                               "description": "b, length normalization parameter",
                               "details": [],
                               "value": 0.75
                              },
                              {
                               "description": "dl, length of field",
                               "details": [],
                               "value": 1
                              },
                              {
                               "description": "avgdl, average length of field",
                               "details": [],
                               "value": 2.389612
                              }
                             ],
                             "value": 0.5964344
                            }
                           ],
                           "value": 4375.7334
                          }
                         ],
                         "value": 4375.7334
                        }
                       ],
                       "value": 4375.7334
                      }
                     ],
                     "value": 4375.7334
                    },
                    {
                     "description": "match on required clause, product of:",
                     "details": [
                      {
                       "description": "# clause",
                       "details": [],
                       "value": 0
                      },
                      {
                       "description": "_type:__etablissements",
                       "details": [],
                       "value": 1
                      }
                     ],
                     "value": 0
                    }
                   ],
                   "value": 4375.7334
                  }
                 ],
                 "value": 4375.7334
                },
                {
                 "description": "min of:",
                 "details": [
                  {
                   "description": "field value function: log1p(doc['nombre_etablissements_ouverts'].value?:1.0 * factor=1.0)",
                   "details": [],
                   "value": 0.30103
                  },
                  {
                   "description": "maxBoost",
                   "details": [],
                   "value": 3.4028235e+38
                  }
                 ],
                 "value": 0.30103
                }
               ],
               "value": 1317.227
              }
             ],
             "value": 2002.7871
            },
            {
             "description": "match on required clause, product of:",
             "details": [
              {
               "description": "# clause",
               "details": [],
               "value": 0
              },
              {
               "description": "DocValuesFieldExistsQuery [field=_primary_term]",
               "details": [],
               "value": 1
              }
             ],
             "value": 0
            }
           ],
           "value": 2002.7871
          },
          "_id": "817883150",
          "_index": "siren-green",
          "_node": "W2iIuGaVTAyI8840GgZc7Q",
          "_score": 2002.7871,
          "_shard": "[siren-green][1]",
          "_source": {
           "activite_principale_unite_legale": "70.22Z",
           "categorie_entreprise": "PME",
           "date_creation_unite_legale": "2016-01-15",
           "date_mise_a_jour_unite_legale": "2022-08-29T10:08:44",
           "dirigeants_pp": [
            {
             "date_naissance": "1966-01-09",
             "nom": "négrier",
             "pays_naissance": "FRANCE",
             "prenoms": "philippe",
             "qualite": "Président",
             "ville_naissance": "92051 Neuilly-sur-Seine (92)"
            }
           ],
           "economie_sociale_solidaire_unite_legale": "N",
           "est_entrepreneur_individuel": false,
           "etablissements": [
            {
             "activite_principale": "70.22Z",
             "activite_principale_registre_metier": null,
             "adresse": "3 RUE DE LA GAITE 75114 PARIS 14",
             "cedex": null,
             "cedex_2": null,
             "code_pays_etranger": null,
             "code_pays_etranger_2": null,
             "code_postal": "75014",
             "commune": "75114",
             "commune_2": null,
             "complement_adresse": null,
             "complement_adresse_2": null,
             "concat_enseigne_adresse_siren_siret": "3 RUE DE LA GAITE 75114 PARIS 14 817883150 81788315000010",
             "coordonnees": "48.84074,2.324549",
             "date_creation": "2016-01-15",
             "date_debut_activite": "2017-06-01",
             "departement": "75",
             "distribution_speciale": null,
             "distribution_speciale_2": null,
             "enseigne_1": null,
             "enseigne_2": null,
             "enseigne_3": null,
             "est_siege": true,
             "etat_administratif": "A",
             "geo_adresse": "3 Rue de la Gaîté 75014 Paris",
             "geo_id": "75114_3919_00003",
             "indice_repetition": null,
             "indice_repetition_2": null,
             "latitude": "48.84074",
             "libelle_cedex": null,
             "libelle_cedex_2": null,
             "libelle_commune": "PARIS 14",
             "libelle_commune_2": null,
             "libelle_commune_etranger": null,
             "libelle_commune_etranger_2": null,
             "libelle_pays_etranger": null,
             "libelle_pays_etranger_2": null,
             "libelle_voie": "DE LA GAITE",
             "libelle_voie_2": null,
             "liste_finess": null,
             "liste_idcc": [
              "1486"
             ],
             "liste_rge": null,
             "liste_uai": null,
             "longitude": "2.324549",
             "nom_commercial": null,
             "nom_complet": "ganymede",
             "numero_voie": "3",
             "numero_voie_2": null,
             "siren": "817883150",
             "siret": "81788315000010",
             "tranche_effectif_salarie": "01",
             "type_voie": "RUE",
             "type_voie_2": null
            }
           ],
           "etat_administratif_unite_legale": "A",
           "liste_dirigeants": [
            "philippe négrier"
           ],
           "nature_juridique_unite_legale": "5710",
           "nom_complet": "ganymede",
           "nom_raison_sociale": "GANYMEDE",
           "nombre_etablissements": 1,
           "nombre_etablissements_ouverts": 1,
           "section_activite_principale": "M",
           "siege": {
            "activite_principale": "70.22Z",
            "activite_principale_registre_metier": null,
            "adresse": "3 RUE DE LA GAITE 75114 PARIS 14",
            "cedex": null,
            "cedex_2": null,
            "code_pays_etranger": null,
            "code_pays_etranger_2": null,
            "code_postal": "75014",
            "commune": "75114",
            "commune_2": null,
            "complement_adresse": null,
            "complement_adresse_2": null,
            "coordonnees": "48.84074,2.324549",
            "date_creation": "2016-01-15",
            "date_debut_activite": "2017-06-01",
            "departement": "75",
            "distribution_speciale": null,
            "distribution_speciale_2": null,
            "enseigne_1": null,
            "enseigne_2": null,
            "enseigne_3": null,
            "est_siege": true,
            "etat_administratif": "A",
            "geo_adresse": "3 Rue de la Gaîté 75014 Paris",
            "geo_id": "75114_3919_00003",
            "indice_repetition": null,
            "indice_repetition_2": null,
            "latitude": "48.84074",
            "libelle_cedex": null,
            "libelle_cedex_2": null,
            "libelle_commune": "PARIS 14",
            "libelle_commune_2": null,
            "libelle_commune_etranger": null,
            "libelle_commune_etranger_2": null,
            "libelle_pays_etranger": null,
            "libelle_pays_etranger_2": null,
            "libelle_voie": "DE LA GAITE",
            "libelle_voie_2": null,
            "liste_finess": null,
            "liste_idcc": [
             "1486"
            ],
            "liste_rge": null,
            "liste_uai": null,
            "longitude": "2.324549",
            "nom_commercial": null,
            "numero_voie": "3",
            "numero_voie_2": null,
            "siren": "817883150",
            "siret": "81788315000010",
            "tranche_effectif_salarie": "01",
            "type_voie": "RUE",
            "type_voie_2": null
           },
           "siren": "817883150",
           "siret_siege": "81788315000010",
           "tranche_effectif_salarie_unite_legale": "01"
          },
          "_type": "_doc",
          "inner_hits": {
           "etablissements": {
            "hits": {
             "hits": [
              {
               "_id": "817883150",
               "_index": "siren-green",
               "_nested": {
                "field": "etablissements",
                "offset": 0
               },
               "_score": 4375.7334,
               "_source": {
                "activite_principale": "70.22Z",
                "activite_principale_registre_metier": null,
                "adresse": "3 RUE DE LA GAITE 75114 PARIS 14",
                "cedex": null,
                "cedex_2": null,
                "code_pays_etranger": null,
                "code_pays_etranger_2": null,
                "code_postal": "75014",
                "commune": "75114",
                "commune_2": null,
                "complement_adresse": null,
                "complement_adresse_2": null,
                "concat_enseigne_adresse_siren_siret": "3 RUE DE LA GAITE 75114 PARIS 14 817883150 81788315000010",
                "coordonnees": "48.84074,2.324549",
                "date_creation": "2016-01-15",
                "date_debut_activite": "2017-06-01",
                "departement": "75",
                "distribution_speciale": null,
                "distribution_speciale_2": null,
                "enseigne_1": null,
                "enseigne_2": null,
                "enseigne_3": null,
                "est_siege": true,
                "etat_administratif": "A",
                "geo_adresse": "3 Rue de la Gaîté 75014 Paris",
                "geo_id": "75114_3919_00003",
                "indice_repetition": null,
                "indice_repetition_2": null,
                "latitude": "48.84074",
                "libelle_cedex": null,
                "libelle_cedex_2": null,
                "libelle_commune": "PARIS 14",
                "libelle_commune_2": null,
                "libelle_commune_etranger": null,
                "libelle_commune_etranger_2": null,
                "libelle_pays_etranger": null,
                "libelle_pays_etranger_2": null,
                "libelle_voie": "DE LA GAITE",
                "libelle_voie_2": null,
                "liste_finess": null,
                "liste_idcc": [
                 "1486"
                ],
                "liste_rge": null,
                "liste_uai": null,
                "longitude": "2.324549",
                "nom_commercial": null,
                "nom_complet": "ganymede",
                "numero_voie": "3",
                "numero_voie_2": null,
                "siren": "817883150",
                "siret": "81788315000010",
                "tranche_effectif_salarie": "01",
                "type_voie": "RUE",
                "type_voie_2": null
               },
               "_type": "_doc",
               "matched_queries": [
                "match nom complet et adresse"
               ]
              }
             ],
             "max_score": 4375.7334,
             "total": {
              "relation": "eq",
              "value": 1
             }
            }
           }
          },
          "matched_queries": [
           "exact nom_complet match",
           "partial nom_complet match with AND"
          ]
         },
         {
          "_explanation": {
           "description": "sum of:",
           "details": [
            {
             "description": "sum of:",
             "details": [
              {
               "description": "function score, product of:",
               "details": [
                {
                 "description": "weight(nom_complet:ganymed in 213577) [PerFieldSimilarity], result of:",
                 "details": [
                  {
                   "description": "score(freq=1.0), computed as boost * idf * tf from:",
                   "details": [
                    {
                     "description": "boost",
                     "details": [],
                     "value": 110
                    },
                    {
                     "description": "idf, computed as log(1 + (N - n + 0.5) / (n + 0.5)) from:",
                     "details": [
                      {
                       "description": "n, number of documents containing term",
                       "details": [],
                       "value": 14
                      },
                      {
                       "description": "N, total number of documents with field",
                       "details": [],
                       "value": 5925958
                      }
                     ],
                     "value": 12.920705
                    },
                    {
                     "description": "tf, computed as freq / (freq + k1 * (1 - b + b * dl / avgdl)) from:",
                     "details": [
                      {
                       "description": "freq, occurrences of term within document",
                       "details": [],
                       "value": 1
                      },
                      {
                       "description": "k1, term saturation parameter",
                       "details": [],
                       "value": 1.2
                      },
                      {
                       "description": "b, length normalization parameter",
                       "details": [],
                       "value": 0.75
                      },
                      {
                       "description": "dl, length of field",
                       "details": [],
                       "value": 2
                      },
                      {
                       "description": "avgdl, average length of field",
                       "details": [],
                       "value": 2.3818636
                      }
                     ],
                     "value": 0.48644972
                    }
                   ],
                   "value": 691.38007
                  }
                 ],
                 "value": 691.38007
                },
                {
                 "description": "min of:",
                 "details": [
                  {
                   "description": "field value function: log1p(doc['nombre_etablissements_ouverts'].value?:1.0 * factor=1.0)",
                   "details": [],
                   "value": 0.47712126
                  },
                  {
                   "description": "maxBoost",
                   "details": [],
                   "value": 3.4028235e+38
                  }
                 ],
                 "value": 0.47712126
                }
               ],
               "value": 329.87213
              },
              {
               "description": "function score, product of:",
               "details": [
                {
                 "description": "Score based on 4 child docs in range from 22870853 to 22870861, best match:",
                 "details": [
                  {
                   "description": "sum of:",
                   "details": [
                    {
                     "description": "sum of:",
                     "details": [
                      {
                       "description": "max of:",
                       "details": [
                        {
                         "description": "weight(etablissements.nom_complet:ganymed in 213572) [PerFieldSimilarity], result of:",
                         "details": [
                          {
                           "description": "score(freq=1.0), computed as boost * idf * tf from:",
                           "details": [
                            {
                             "description": "boost",
                             "details": [],
                             "value": 550
                            },
                            {
                             "description": "idf, computed as log(1 + (N - n + 0.5) / (n + 0.5)) from:",
                             "details": [
                              {
                               "description": "n, number of documents containing term",
                               "details": [],
                               "value": 25
                              },
                              {
                               "description": "N, total number of documents with field",
                               "details": [],
                               "value": 8444072
                              }
                             ],
                             "value": 12.710297
                            },
                            {
                             "description": "tf, computed as freq / (freq + k1 * (1 - b + b * dl / avgdl)) from:",
                             "details": [
                              {
                               "description": "freq, occurrences of term within document",
                               "details": [],
                               "value": 1
                              },
                              {
                               "description": "k1, term saturation parameter",
                               "details": [],
                               "value": 1.2
                              },
                              {
                               "description": "b, length normalization parameter",
                               "details": [],
                               "value": 0.75
                              },
                              {
                               "description": "dl, length of field",
                               "details": [],
                               "value": 2
                              },
                              {
                               "description": "avgdl, average length of field",
                               "details": [],
                               "value": 2.394826
                              }
                             ],
                             "value": 0.4874196
                            }
                           ],
                           "value": 3407.3862
                          }
                         ],
                         "value": 3407.3862
                        }
                       ],
                       "value": 3407.3862
                      }
                     ],
                     "value": 3407.3862
                    },
                    {
                     "description": "match on required clause, product of:",
                     "details": [
                      {
                       "description": "# clause",
                       "details": [],
                       "value": 0
                      },
                      {
                       "description": "_type:__etablissements",
                       "details": [],
                       "value": 1
                      }
                     ],
                     "value": 0
                    }
                   ],
                   "value": 3407.3862
                  }
                 ],
                 "value": 3407.3862
                },
                {
                 "description": "min of:",
                 "details": [
                  {
                   "description": "field value function: log1p(doc['nombre_etablissements_ouverts'].value?:1.0 * factor=1.0)",
                   "details": [],
                   "value": 0.47712126
                  },
                  {
                   "description": "maxBoost",
                   "details": [],
                   "value": 3.4028235e+38
                  }
                 ],
                 "value": 0.47712126
                }
               ],
               "value": 1625.7365
              }
             ],
             "value": 1955.6086
            },
            {
             "description": "match on required clause, product of:",
             "details": [
              {
               "description": "# clause",
               "details": [],
               "value": 0
              },
              {
               "description": "DocValuesFieldExistsQuery [field=_primary_term]",
               "details": [],
               "value": 1
              }
             ],
             "value": 0
            }
           ],
           "value": 1955.6086
          },
          "_id": "414971929",
          "_index": "siren-green",
          "_node": "W2iIuGaVTAyI8840GgZc7Q",
          "_score": 1955.6086,
          "_shard": "[siren-green][3]",
          "_source": {
           "activite_principale_unite_legale": "64.30Z",
           "categorie_entreprise": "PME",
           "date_creation_unite_legale": "1997-12-08",
           "date_mise_a_jour_unite_legale": "2022-08-29T09:31:21",
           "dirigeants_pm": [
            {
             "denomination": "PROMETHEE GROUP",
             "qualite": "Président",
             "sigle": "",
             "siren": "432345783"
            },
            {
             "denomination": "ARESXPERT AUDIT",
             "qualite": "Commissaire aux comptes titulaire",
             "sigle": "",
             "siren": "702621590"
            }
           ],
           "dirigeants_pp": [
            {
             "date_naissance": "1944-05-10",
             "nom": "danan",
             "pays_naissance": "MAROC",
             "prenoms": "charles",
             "qualite": "Directeur général",
             "ville_naissance": " Fez "
            },
            {
             "date_naissance": "1971-11-05",
             "nom": "rousset",
             "pays_naissance": "FRANCE",
             "prenoms": "olivier",
             "qualite": "Commissaire aux comptes suppléant",
             "ville_naissance": "84087 ORANGE "
            }
           ],
           "economie_sociale_solidaire_unite_legale": "N",
           "est_entrepreneur_individuel": false,
           "etablissements": [
            {
             "activite_principale": "65.2E",
             "activite_principale_registre_metier": null,
             "adresse": "4 CHE DES SABLONS 78372 MARLY-LE-ROI",
             "cedex": null,
             "cedex_2": null,
             "code_pays_etranger": null,
             "code_pays_etranger_2": null,
             "code_postal": "78160",
             "commune": "78372",
             "commune_2": null,
             "complement_adresse": null,
             "complement_adresse_2": null,
             "concat_enseigne_adresse_siren_siret": "4 CHE DES SABLONS 78372 MARLY-LE-ROI 414971929 41497192900016",
             "coordonnees": "48.876263,2.097763",
             "date_creation": "1997-12-08",
             "date_debut_activite": "2002-10-30",
             "departement": "78",
             "distribution_speciale": null,
             "distribution_speciale_2": null,
             "enseigne_1": null,
             "enseigne_2": null,
             "enseigne_3": null,
             "est_siege": false,
             "etat_administratif": "F",
             "geo_adresse": "4 Chemin des Sablons 78160 Marly-le-Roi",
             "geo_id": "78372_1010_00004",
             "indice_repetition": null,
             "indice_repetition_2": null,
             "latitude": "48.876263",
             "libelle_cedex": null,
             "libelle_cedex_2": null,
             "libelle_commune": "MARLY-LE-ROI",
             "libelle_commune_2": null,
             "libelle_commune_etranger": null,
             "libelle_commune_etranger_2": null,
             "libelle_pays_etranger": null,
             "libelle_pays_etranger_2": null,
             "libelle_voie": "DES SABLONS",
             "libelle_voie_2": null,
             "liste_finess": null,
             "liste_idcc": null,
             "liste_rge": null,
             "liste_uai": null,
             "longitude": "2.097763",
             "nom_commercial": null,
             "nom_complet": "financiere ganymede",
             "numero_voie": "4",
             "numero_voie_2": null,
             "siren": "414971929",
             "siret": "41497192900016",
             "tranche_effectif_salarie": "NN",
             "type_voie": "CHE",
             "type_voie_2": null
            },
            {
             "activite_principale": "64.30Z",
             "activite_principale_registre_metier": null,
             "adresse": "26 BD SAINT ROCH 84007 AVIGNON",
             "cedex": null,
             "cedex_2": null,
             "code_pays_etranger": null,
             "code_pays_etranger_2": null,
             "code_postal": "84000",
             "commune": "84007",
             "commune_2": null,
             "complement_adresse": null,
             "complement_adresse_2": null,
             "concat_enseigne_adresse_siren_siret": "26 BD SAINT ROCH 84007 AVIGNON 414971929 41497192900032",
             "coordonnees": "43.942804,4.803129",
             "date_creation": "2006-05-22",
             "date_debut_activite": "2013-07-01",
             "departement": "84",
             "distribution_speciale": null,
             "distribution_speciale_2": null,
             "enseigne_1": null,
             "enseigne_2": null,
             "enseigne_3": null,
             "est_siege": false,
             "etat_administratif": "F",
             "geo_adresse": "26 Boulevard Saint-Roch 84000 Avignon",
             "geo_id": "84007_6072_00026",
             "indice_repetition": null,
             "indice_repetition_2": null,
             "latitude": "43.942804",
             "libelle_cedex": null,
             "libelle_cedex_2": null,
             "libelle_commune": "AVIGNON",
             "libelle_commune_2": null,
             "libelle_commune_etranger": null,
             "libelle_commune_etranger_2": null,
             "libelle_pays_etranger": null,
             "libelle_pays_etranger_2": null,
             "libelle_voie": "SAINT ROCH",
             "libelle_voie_2": null,
             "liste_finess": null,
             "liste_idcc": null,
             "liste_rge": null,
             "liste_uai": null,
             "longitude": "4.803129",
             "nom_commercial": null,
             "nom_complet": "financiere ganymede",
             "numero_voie": "26",
             "numero_voie_2": null,
             "siren": "414971929",
             "siret": "41497192900032",
             "tranche_effectif_salarie": "NN",
             "type_voie": "BD",
             "type_voie_2": null
            },
            {
             "activite_principale": "64.30Z",
             "activite_principale_registre_metier": null,
             "adresse": "ZAC DE COURTINE IV RUE RIGOBERTA MENCHU 84007 AVIGNON",
             "cedex": null,
             "cedex_2": null,
             "code_pays_etranger": null,
             "code_pays_etranger_2": null,
             "code_postal": "84000",
             "commune": "84007",
             "commune_2": null,
             "complement_adresse": "ZAC DE COURTINE IV",
             "complement_adresse_2": null,
             "concat_enseigne_adresse_siren_siret": "ZAC DE COURTINE IV RUE RIGOBERTA MENCHU 84007 AVIGNON 414971929 41497192900040",
             "coordonnees": "43.926703,4.784775",
             "date_creation": "2013-07-01",
             "date_debut_activite": "2022-07-18",
             "departement": "84",
             "distribution_speciale": null,
             "distribution_speciale_2": null,
             "enseigne_1": null,
             "enseigne_2": null,
             "enseigne_3": null,
             "est_siege": true,
             "etat_administratif": "A",
             "geo_adresse": "Rue Rigoberta Menchu 84000 Avignon",
             "geo_id": "84007_3796",
             "indice_repetition": null,
             "indice_repetition_2": null,
             "latitude": "43.926703",
             "libelle_cedex": null,
             "libelle_cedex_2": null,
             "libelle_commune": "AVIGNON",
             "libelle_commune_2": null,
             "libelle_commune_etranger": null,
             "libelle_commune_etranger_2": null,
             "libelle_pays_etranger": null,
             "libelle_pays_etranger_2": null,
             "libelle_voie": "RIGOBERTA MENCHU",
             "libelle_voie_2": null,
             "liste_finess": null,
             "liste_idcc": [
              "0478"
             ],
             "liste_rge": null,
             "liste_uai": null,
             "longitude": "4.784775",
             "nom_commercial": null,
             "nom_complet": "financiere ganymede",
             "numero_voie": null,
             "numero_voie_2": null,
             "siren": "414971929",
             "siret": "41497192900040",
             "tranche_effectif_salarie": "01",
             "type_voie": "RUE",
             "type_voie_2": null
            },
            {
             "activite_principale": "64.30Z",
             "activite_principale_registre_metier": null,
             "adresse": "60 AV DU GENERAL DE GAULLE 92062 PUTEAUX",
             "cedex": null,
             "cedex_2": null,
             "code_pays_etranger": null,
             "code_pays_etranger_2": null,
             "code_postal": "92800",
             "commune": "92062",
             "commune_2": null,
             "complement_adresse": null,
             "complement_adresse_2": null,
             "concat_enseigne_adresse_siren_siret": "60 AV DU GENERAL DE GAULLE 92062 PUTEAUX 414971929 41497192900024",
             "coordonnees": "48.887985,2.233045",
             "date_creation": "2002-10-30",
             "date_debut_activite": "2008-01-01",
             "departement": "92",
             "distribution_speciale": null,
             "distribution_speciale_2": null,
             "enseigne_1": null,
             "enseigne_2": null,
             "enseigne_3": null,
             "est_siege": false,
             "etat_administratif": "A",
             "geo_adresse": "60 Avenue du Général de Gaulle 92800 Puteaux",
             "geo_id": "92062_4121_00060",
             "indice_repetition": null,
             "indice_repetition_2": null,
             "latitude": "48.887985",
             "libelle_cedex": null,
             "libelle_cedex_2": null,
             "libelle_commune": "PUTEAUX",
             "libelle_commune_2": null,
             "libelle_commune_etranger": null,
             "libelle_commune_etranger_2": null,
             "libelle_pays_etranger": null,
             "libelle_pays_etranger_2": null,
             "libelle_voie": "DU GENERAL DE GAULLE",
             "libelle_voie_2": null,
             "liste_finess": null,
             "liste_idcc": null,
             "liste_rge": null,
             "liste_uai": null,
             "longitude": "2.233045",
             "nom_commercial": null,
             "nom_complet": "financiere ganymede",
             "numero_voie": "60",
             "numero_voie_2": null,
             "siren": "414971929",
             "siret": "41497192900024",
             "tranche_effectif_salarie": "NN",
             "type_voie": "AV",
             "type_voie_2": null
            }
           ],
           "etat_administratif_unite_legale": "A",
           "liste_dirigeants": [
            "olivier rousset",
            "PROMETHEE GROUP",
            "ARESXPERT AUDIT",
            "charles danan"
           ],
           "nature_juridique_unite_legale": "5710",
           "nom_complet": "financiere ganymede",
           "nom_raison_sociale": "FINANCIERE GANYMEDE",
           "nombre_etablissements": 4,
           "nombre_etablissements_ouverts": 2,
           "section_activite_principale": "K",
           "siege": {
            "activite_principale": "64.30Z",
            "activite_principale_registre_metier": null,
            "adresse": "ZAC DE COURTINE IV RUE RIGOBERTA MENCHU 84007 AVIGNON",
            "cedex": null,
            "cedex_2": null,
            "code_pays_etranger": null,
            "code_pays_etranger_2": null,
            "code_postal": "84000",
            "commune": "84007",
            "commune_2": null,
            "complement_adresse": "ZAC DE COURTINE IV",
            "complement_adresse_2": null,
            "coordonnees": "43.926703,4.784775",
            "date_creation": "2013-07-01",
            "date_debut_activite": "2022-07-18",
            "departement": "84",
            "distribution_speciale": null,
            "distribution_speciale_2": null,
            "enseigne_1": null,
            "enseigne_2": null,
            "enseigne_3": null,
            "est_siege": true,
            "etat_administratif": "A",
            "geo_adresse": "Rue Rigoberta Menchu 84000 Avignon",
            "geo_id": "84007_3796",
            "indice_repetition": null,
            "indice_repetition_2": null,
            "latitude": "43.926703",
            "libelle_cedex": null,
            "libelle_cedex_2": null,
            "libelle_commune": "AVIGNON",
            "libelle_commune_2": null,
            "libelle_commune_etranger": null,
            "libelle_commune_etranger_2": null,
            "libelle_pays_etranger": null,
            "libelle_pays_etranger_2": null,
            "libelle_voie": "RIGOBERTA MENCHU",
            "libelle_voie_2": null,
            "liste_finess": null,
            "liste_idcc": [
             "0478"
            ],
            "liste_rge": null,
            "liste_uai": null,
            "longitude": "4.784775",
            "nom_commercial": null,
            "numero_voie": null,
            "numero_voie_2": null,
            "siren": "414971929",
            "siret": "41497192900040",
            "tranche_effectif_salarie": "01",
            "type_voie": "RUE",
            "type_voie_2": null
           },
           "siren": "414971929",
           "siret_siege": "41497192900040",
           "tranche_effectif_salarie_unite_legale": "01"
          },
          "_type": "_doc",
          "inner_hits": {
           "etablissements": {
            "hits": {
             "hits": [
              {
               "_id": "414971929",
               "_index": "siren-green",
               "_nested": {
                "field": "etablissements",
                "offset": 0
               },
               "_score": 3407.3862,
               "_source": {
                "activite_principale": "65.2E",
                "activite_principale_registre_metier": null,
                "adresse": "4 CHE DES SABLONS 78372 MARLY-LE-ROI",
                "cedex": null,
                "cedex_2": null,
                "code_pays_etranger": null,
                "code_pays_etranger_2": null,
                "code_postal": "78160",
                "commune": "78372",
                "commune_2": null,
                "complement_adresse": null,
                "complement_adresse_2": null,
                "concat_enseigne_adresse_siren_siret": "4 CHE DES SABLONS 78372 MARLY-LE-ROI 414971929 41497192900016",
                "coordonnees": "48.876263,2.097763",
                "date_creation": "1997-12-08",
                "date_debut_activite": "2002-10-30",
                "departement": "78",
                "distribution_speciale": null,
                "distribution_speciale_2": null,
                "enseigne_1": null,
                "enseigne_2": null,
                "enseigne_3": null,
                "est_siege": false,
                "etat_administratif": "F",
                "geo_adresse": "4 Chemin des Sablons 78160 Marly-le-Roi",
                "geo_id": "78372_1010_00004",
                "indice_repetition": null,
                "indice_repetition_2": null,
                "latitude": "48.876263",
                "libelle_cedex": null,
                "libelle_cedex_2": null,
                "libelle_commune": "MARLY-LE-ROI",
                "libelle_commune_2": null,
                "libelle_commune_etranger": null,
                "libelle_commune_etranger_2": null,
                "libelle_pays_etranger": null,
                "libelle_pays_etranger_2": null,
                "libelle_voie": "DES SABLONS",
                "libelle_voie_2": null,
                "liste_finess": null,
                "liste_idcc": null,
                "liste_rge": null,
                "liste_uai": null,
                "longitude": "2.097763",
                "nom_commercial": null,
                "nom_complet": "financiere ganymede",
                "numero_voie": "4",
                "numero_voie_2": null,
                "siren": "414971929",
                "siret": "41497192900016",
                "tranche_effectif_salarie": "NN",
                "type_voie": "CHE",
                "type_voie_2": null
               },
               "_type": "_doc",
               "matched_queries": [
                "match nom complet et adresse"
               ]
              },
              {
               "_id": "414971929",
               "_index": "siren-green",
               "_nested": {
                "field": "etablissements",
                "offset": 1
               },
               "_score": 3407.3862,
               "_source": {
                "activite_principale": "64.30Z",
                "activite_principale_registre_metier": null,
                "adresse": "26 BD SAINT ROCH 84007 AVIGNON",
                "cedex": null,
                "cedex_2": null,
                "code_pays_etranger": null,
                "code_pays_etranger_2": null,
                "code_postal": "84000",
                "commune": "84007",
                "commune_2": null,
                "complement_adresse": null,
                "complement_adresse_2": null,
                "concat_enseigne_adresse_siren_siret": "26 BD SAINT ROCH 84007 AVIGNON 414971929 41497192900032",
                "coordonnees": "43.942804,4.803129",
                "date_creation": "2006-05-22",
                "date_debut_activite": "2013-07-01",
                "departement": "84",
                "distribution_speciale": null,
                "distribution_speciale_2": null,
                "enseigne_1": null,
                "enseigne_2": null,
                "enseigne_3": null,
                "est_siege": false,
                "etat_administratif": "F",
                "geo_adresse": "26 Boulevard Saint-Roch 84000 Avignon",
                "geo_id": "84007_6072_00026",
                "indice_repetition": null,
                "indice_repetition_2": null,
                "latitude": "43.942804",
                "libelle_cedex": null,
                "libelle_cedex_2": null,
                "libelle_commune": "AVIGNON",
                "libelle_commune_2": null,
                "libelle_commune_etranger": null,
                "libelle_commune_etranger_2": null,
                "libelle_pays_etranger": null,
                "libelle_pays_etranger_2": null,
                "libelle_voie": "SAINT ROCH",
                "libelle_voie_2": null,
                "liste_finess": null,
                "liste_idcc": null,
                "liste_rge": null,
                "liste_uai": null,
                "longitude": "4.803129",
                "nom_commercial": null,
                "nom_complet": "financiere ganymede",
                "numero_voie": "26",
                "numero_voie_2": null,
                "siren": "414971929",
                "siret": "41497192900032",
                "tranche_effectif_salarie": "NN",
                "type_voie": "BD",
                "type_voie_2": null
               },
               "_type": "_doc",
               "matched_queries": [
                "match nom complet et adresse"
               ]
              },
              {
               "_id": "414971929",
               "_index": "siren-green",
               "_nested": {
                "field": "etablissements",
                "offset": 2
               },
               "_score": 3407.3862,
               "_source": {
                "activite_principale": "64.30Z",
                "activite_principale_registre_metier": null,
                "adresse": "ZAC DE COURTINE IV RUE RIGOBERTA MENCHU 84007 AVIGNON",
                "cedex": null,
                "cedex_2": null,
                "code_pays_etranger": null,
                "code_pays_etranger_2": null,
                "code_postal": "84000",
                "commune": "84007",
                "commune_2": null,
                "complement_adresse": "ZAC DE COURTINE IV",
                "complement_adresse_2": null,
                "concat_enseigne_adresse_siren_siret": "ZAC DE COURTINE IV RUE RIGOBERTA MENCHU 84007 AVIGNON 414971929 41497192900040",
                "coordonnees": "43.926703,4.784775",
                "date_creation": "2013-07-01",
                "date_debut_activite": "2022-07-18",
                "departement": "84",
                "distribution_speciale": null,
                "distribution_speciale_2": null,
                "enseigne_1": null,
                "enseigne_2": null,
                "enseigne_3": null,
                "est_siege": true,
                "etat_administratif": "A",
                "geo_adresse": "Rue Rigoberta Menchu 84000 Avignon",
                "geo_id": "84007_3796",
                "indice_repetition": null,
                "indice_repetition_2": null,
                "latitude": "43.926703",
                "libelle_cedex": null,
                "libelle_cedex_2": null,
                "libelle_commune": "AVIGNON",
                "libelle_commune_2": null,
                "libelle_commune_etranger": null,
                "libelle_commune_etranger_2": null,
                "libelle_pays_etranger": null,
                "libelle_pays_etranger_2": null,
                "libelle_voie": "RIGOBERTA MENCHU",
                "libelle_voie_2": null,
                "liste_finess": null,
                "liste_idcc": [
                 "0478"
                ],
                "liste_rge": null,
                "liste_uai": null,
                "longitude": "4.784775",
                "nom_commercial": null,
                "nom_complet": "financiere ganymede",
                "numero_voie": null,
                "numero_voie_2": null,
                "siren": "414971929",
                "siret": "41497192900040",
                "tranche_effectif_salarie": "01",
                "type_voie": "RUE",
                "type_voie_2": null
               },
               "_type": "_doc",
               "matched_queries": [
                "match nom complet et adresse"
               ]
              }
             ],
             "max_score": 3407.3862,
             "total": {
              "relation": "eq",
              "value": 4
             }
            }
           }
          },
          "matched_queries": [
           "partial nom_complet match with AND"
          ]
         },
         {
          "_explanation": {
           "description": "sum of:",
           "details": [
            {
             "description": "sum of:",
             "details": [
              {
               "description": "function score, product of:",
               "details": [
                {
                 "description": "weight(nom_complet.keyword:ganymede in 9651717) [PerFieldSimilarity], result of:",
                 "details": [
                  {
                   "description": "score(freq=1.0), computed as boost * idf * tf from:",
                   "details": [
                    {
                     "description": "boost",
                     "details": [],
                     "value": 220
                    },
                    {
                     "description": "idf, computed as log(1 + (N - n + 0.5) / (n + 0.5)) from:",
                     "details": [
                      {
                       "description": "n, number of documents containing term",
                       "details": [],
                       "value": 6
                      },
                      {
                       "description": "N, total number of documents with field",
                       "details": [],
                       "value": 5927892
                      }
                     ],
                     "value": 13.723377
                    },
                    {
                     "description": "tf, computed as freq / (freq + k1 * (1 - b + b * dl / avgdl)) from:",
                     "details": [
                      {
                       "description": "freq, occurrences of term within document",
                       "details": [],
                       "value": 1
                      },
                      {
                       "description": "k1, term saturation parameter",
                       "details": [],
                       "value": 1.2
                      },
                      {
                       "description": "b, length normalization parameter",
                       "details": [],
                       "value": 0.75
                      },
                      {
                       "description": "dl, length of field",
                       "details": [],
                       "value": 1
                      },
                      {
                       "description": "avgdl, average length of field",
                       "details": [],
                       "value": 1
                      }
                     ],
                     "value": 0.45454544
                    }
                   ],
                   "value": 1372.3376
                  }
                 ],
                 "value": 1372.3376
                },
                {
                 "description": "min of:",
                 "details": [
                  {
                   "description": "field value function: log1p(doc['nombre_etablissements_ouverts'].value?:1.0 * factor=1.0)",
                   "details": [],
                   "value": 0.30103
                  },
                  {
                   "description": "maxBoost",
                   "details": [],
                   "value": 3.4028235e+38
                  }
                 ],
                 "value": 0.30103
                }
               ],
               "value": 413.1148
              },
              {
               "description": "function score, product of:",
               "details": [
                {
                 "description": "weight(nom_complet:ganymed in 9651717) [PerFieldSimilarity], result of:",
                 "details": [
                  {
                   "description": "score(freq=1.0), computed as boost * idf * tf from:",
                   "details": [
                    {
                     "description": "boost",
                     "details": [],
                     "value": 110
                    },
                    {
                     "description": "idf, computed as log(1 + (N - n + 0.5) / (n + 0.5)) from:",
                     "details": [
                      {
                       "description": "n, number of documents containing term",
                       "details": [],
                       "value": 14
                      },
                      {
                       "description": "N, total number of documents with field",
                       "details": [],
                       "value": 5925958
                      }
                     ],
                     "value": 12.920705
                    },
                    {
                     "description": "tf, computed as freq / (freq + k1 * (1 - b + b * dl / avgdl)) from:",
                     "details": [
                      {
                       "description": "freq, occurrences of term within document",
                       "details": [],
                       "value": 1
                      },
                      {
                       "description": "k1, term saturation parameter",
                       "details": [],
                       "value": 1.2
                      },
                      {
                       "description": "b, length normalization parameter",
                       "details": [],
                       "value": 0.75
                      },
                      {
                       "description": "dl, length of field",
                       "details": [],
                       "value": 1
                      },
                      {
                       "description": "avgdl, average length of field",
                       "details": [],
                       "value": 2.3818636
                      }
                     ],
                     "value": 0.5959989
                    }
                   ],
                   "value": 847.07983
                  }
                 ],
                 "value": 847.07983
                },
                {
                 "description": "min of:",
                 "details": [
                  {
                   "description": "field value function: log1p(doc['nombre_etablissements_ouverts'].value?:1.0 * factor=1.0)",
                   "details": [],
                   "value": 0.30103
                  },
                  {
                   "description": "maxBoost",
                   "details": [],
                   "value": 3.4028235e+38
                  }
                 ],
                 "value": 0.30103
                }
               ],
               "value": 254.99644
              },
              {
               "description": "function score, product of:",
               "details": [
                {
                 "description": "Score based on 1 child docs in range from 9651713 to 9651716, best match:",
                 "details": [
                  {
                   "description": "sum of:",
                   "details": [
                    {
                     "description": "sum of:",
                     "details": [
                      {
                       "description": "max of:",
                       "details": [
                        {
                         "description": "weight(etablissements.nom_complet:ganymed in 9651715) [PerFieldSimilarity], result of:",
                         "details": [
                          {
                           "description": "score(freq=1.0), computed as boost * idf * tf from:",
                           "details": [
                            {
                             "description": "boost",
                             "details": [],
                             "value": 550
                            },
                            {
                             "description": "idf, computed as log(1 + (N - n + 0.5) / (n + 0.5)) from:",
                             "details": [
                              {
                               "description": "n, number of documents containing term",
                               "details": [],
                               "value": 25
                              },
                              {
                               "description": "N, total number of documents with field",
                               "details": [],
                               "value": 8444072
                              }
                             ],
                             "value": 12.710297
                            },
                            {
                             "description": "tf, computed as freq / (freq + k1 * (1 - b + b * dl / avgdl)) from:",
                             "details": [
                              {
                               "description": "freq, occurrences of term within document",
                               "details": [],
                               "value": 1
                              },
                              {
                               "description": "k1, term saturation parameter",
                               "details": [],
                               "value": 1.2
                              },
                              {
                               "description": "b, length normalization parameter",
                               "details": [],
                               "value": 0.75
                              },
                              {
                               "description": "dl, length of field",
                               "details": [],
                               "value": 1
                              },
                              {
                               "description": "avgdl, average length of field",
                               "details": [],
                               "value": 2.394826
                              }
                             ],
                             "value": 0.5967263
                            }
                           ],
                           "value": 4171.5127
                          }
                         ],
                         "value": 4171.5127
                        }
                       ],
                       "value": 4171.5127
                      }
                     ],
                     "value": 4171.5127
                    },
                    {
                     "description": "match on required clause, product of:",
                     "details": [
                      {
                       "description": "# clause",
                       "details": [],
                       "value": 0
                      },
                      {
                       "description": "_type:__etablissements",
                       "details": [],
                       "value": 1
                      }
                     ],
                     "value": 0
                    }
                   ],
                   "value": 4171.5127
                  }
                 ],
                 "value": 4171.5127
                },
                {
                 "description": "min of:",
                 "details": [
                  {
                   "description": "field value function: log1p(doc['nombre_etablissements_ouverts'].value?:1.0 * factor=1.0)",
                   "details": [],
                   "value": 0.30103
                  },
                  {
                   "description": "maxBoost",
                   "details": [],
                   "value": 3.4028235e+38
                  }
                 ],
                 "value": 0.30103
                }
               ],
               "value": 1255.7505
              }
             ],
             "value": 1923.8617
            },
            {
             "description": "match on required clause, product of:",
             "details": [
              {
               "description": "# clause",
               "details": [],
               "value": 0
              },
              {
               "description": "DocValuesFieldExistsQuery [field=_primary_term]",
               "details": [],
               "value": 1
              }
             ],
             "value": 0
            }
           ],
           "value": 1923.8617
          },
          "_id": "901723403",
          "_index": "siren-green",
          "_node": "W2iIuGaVTAyI8840GgZc7Q",
          "_score": 1923.8617,
          "_shard": "[siren-green][3]",
          "_source": {
           "activite_principale_unite_legale": "68.20B",
           "date_creation_unite_legale": "2021-07-23",
           "date_mise_a_jour_unite_legale": "2021-07-27T09:08:58",
           "dirigeants_pp": [
            {
             "date_naissance": "1989-07-06",
             "nom": "lardon",
             "pays_naissance": "FRANCE",
             "prenoms": "julie camille",
             "qualite": "Associé indéfiniment responsable",
             "ville_naissance": "71153 Le Creusot (71)"
            },
            {
             "date_naissance": "1985-08-05",
             "nom": "mathe",
             "pays_naissance": "FRANCE",
             "prenoms": "valentin théophile anatole",
             "qualite": "Gérant, Associé indéfiniment responsable",
             "ville_naissance": "03190 Moulins (03)"
            }
           ],
           "economie_sociale_solidaire_unite_legale": "N",
           "est_entrepreneur_individuel": false,
           "etablissements": [
            {
             "activite_principale": "68.20B",
             "activite_principale_registre_metier": null,
             "adresse": "58 BD ARISTIDE BRIAND 63113 CLERMONT-FERRAND",
             "cedex": null,
             "cedex_2": null,
             "code_pays_etranger": null,
             "code_pays_etranger_2": null,
             "code_postal": "63000",
             "commune": "63113",
             "commune_2": null,
             "complement_adresse": null,
             "complement_adresse_2": null,
             "concat_enseigne_adresse_siren_siret": "58 BD ARISTIDE BRIAND 63113 CLERMONT-FERRAND 901723403 90172340300019",
             "coordonnees": "45.770502,3.075071",
             "date_creation": "2021-07-23",
             "date_debut_activite": "2021-07-23",
             "departement": "63",
             "distribution_speciale": null,
             "distribution_speciale_2": null,
             "enseigne_1": null,
             "enseigne_2": null,
             "enseigne_3": null,
             "est_siege": true,
             "etat_administratif": "A",
             "geo_adresse": "58 Boulevard Aristide Briand 63000 Clermont-Ferrand",
             "geo_id": "63113_0260_00058",
             "indice_repetition": null,
             "indice_repetition_2": null,
             "latitude": "45.770502",
             "libelle_cedex": null,
             "libelle_cedex_2": null,
             "libelle_commune": "CLERMONT-FERRAND",
             "libelle_commune_2": null,
             "libelle_commune_etranger": null,
             "libelle_commune_etranger_2": null,
             "libelle_pays_etranger": null,
             "libelle_pays_etranger_2": null,
             "libelle_voie": "ARISTIDE BRIAND",
             "libelle_voie_2": null,
             "liste_finess": null,
             "liste_idcc": null,
             "liste_rge": null,
             "liste_uai": null,
             "longitude": "3.075071",
             "nom_commercial": null,
             "nom_complet": "ganymede",
             "numero_voie": "58",
             "numero_voie_2": null,
             "siren": "901723403",
             "siret": "90172340300019",
             "tranche_effectif_salarie": null,
             "type_voie": "BD",
             "type_voie_2": null
            }
           ],
           "etat_administratif_unite_legale": "A",
           "liste_dirigeants": [
            "julie camille lardon",
            "valentin théophile anatole mathe"
           ],
           "nature_juridique_unite_legale": "6540",
           "nom_complet": "ganymede",
           "nom_raison_sociale": "GANYMEDE",
           "nombre_etablissements": 1,
           "nombre_etablissements_ouverts": 1,
           "section_activite_principale": "L",
           "siege": {
            "activite_principale": "68.20B",
            "activite_principale_registre_metier": null,
            "adresse": "58 BD ARISTIDE BRIAND 63113 CLERMONT-FERRAND",
            "cedex": null,
            "cedex_2": null,
            "code_pays_etranger": null,
            "code_pays_etranger_2": null,
            "code_postal": "63000",
            "commune": "63113",
            "commune_2": null,
            "complement_adresse": null,
            "complement_adresse_2": null,
            "coordonnees": "45.770502,3.075071",
            "date_creation": "2021-07-23",
            "date_debut_activite": "2021-07-23",
            "departement": "63",
            "distribution_speciale": null,
            "distribution_speciale_2": null,
            "enseigne_1": null,
            "enseigne_2": null,
            "enseigne_3": null,
            "est_siege": true,
            "etat_administratif": "A",
            "geo_adresse": "58 Boulevard Aristide Briand 63000 Clermont-Ferrand",
            "geo_id": "63113_0260_00058",
            "indice_repetition": null,
            "indice_repetition_2": null,
            "latitude": "45.770502",
            "libelle_cedex": null,
            "libelle_cedex_2": null,
            "libelle_commune": "CLERMONT-FERRAND",
            "libelle_commune_2": null,
            "libelle_commune_etranger": null,
            "libelle_commune_etranger_2": null,
            "libelle_pays_etranger": null,
            "libelle_pays_etranger_2": null,
            "libelle_voie": "ARISTIDE BRIAND",
            "libelle_voie_2": null,
            "liste_finess": null,
            "liste_idcc": null,
            "liste_rge": null,
            "liste_uai": null,
            "longitude": "3.075071",
            "nom_commercial": null,
            "numero_voie": "58",
            "numero_voie_2": null,
            "siren": "901723403",
            "siret": "90172340300019",
            "tranche_effectif_salarie": null,
            "type_voie": "BD",
            "type_voie_2": null
           },
           "siren": "901723403",
           "siret_siege": "90172340300019"
          },
          "_type": "_doc",
          "inner_hits": {
           "etablissements": {
            "hits": {
             "hits": [
              {
               "_id": "901723403",
               "_index": "siren-green",
               "_nested": {
                "field": "etablissements",
                "offset": 0
               },
               "_score": 4171.5127,
               "_source": {
                "activite_principale": "68.20B",
                "activite_principale_registre_metier": null,
                "adresse": "58 BD ARISTIDE BRIAND 63113 CLERMONT-FERRAND",
                "cedex": null,
                "cedex_2": null,
                "code_pays_etranger": null,
                "code_pays_etranger_2": null,
                "code_postal": "63000",
                "commune": "63113",
                "commune_2": null,
                "complement_adresse": null,
                "complement_adresse_2": null,
                "concat_enseigne_adresse_siren_siret": "58 BD ARISTIDE BRIAND 63113 CLERMONT-FERRAND 901723403 90172340300019",
                "coordonnees": "45.770502,3.075071",
                "date_creation": "2021-07-23",
                "date_debut_activite": "2021-07-23",
                "departement": "63",
                "distribution_speciale": null,
                "distribution_speciale_2": null,
                "enseigne_1": null,
                "enseigne_2": null,
                "enseigne_3": null,
                "est_siege": true,
                "etat_administratif": "A",
                "geo_adresse": "58 Boulevard Aristide Briand 63000 Clermont-Ferrand",
                "geo_id": "63113_0260_00058",
                "indice_repetition": null,
                "indice_repetition_2": null,
                "latitude": "45.770502",
                "libelle_cedex": null,
                "libelle_cedex_2": null,
                "libelle_commune": "CLERMONT-FERRAND",
                "libelle_commune_2": null,
                "libelle_commune_etranger": null,
                "libelle_commune_etranger_2": null,
                "libelle_pays_etranger": null,
                "libelle_pays_etranger_2": null,
                "libelle_voie": "ARISTIDE BRIAND",
                "libelle_voie_2": null,
                "liste_finess": null,
                "liste_idcc": null,
                "liste_rge": null,
                "liste_uai": null,
                "longitude": "3.075071",
                "nom_commercial": null,
                "nom_complet": "ganymede",
                "numero_voie": "58",
                "numero_voie_2": null,
                "siren": "901723403",
                "siret": "90172340300019",
                "tranche_effectif_salarie": null,
                "type_voie": "BD",
                "type_voie_2": null
               },
               "_type": "_doc",
               "matched_queries": [
                "match nom complet et adresse"
               ]
              }
             ],
             "max_score": 4171.5127,
             "total": {
              "relation": "eq",
              "value": 1
             }
            }
           }
          },
          "matched_queries": [
           "exact nom_complet match",
           "partial nom_complet match with AND"
          ]
         },
         {
          "_explanation": {
           "description": "sum of:",
           "details": [
            {
             "description": "sum of:",
             "details": [
              {
               "description": "function score, product of:",
               "details": [
                {
                 "description": "weight(nom_complet.keyword:ganymede in 14861270) [PerFieldSimilarity], result of:",
                 "details": [
                  {
                   "description": "score(freq=1.0), computed as boost * idf * tf from:",
                   "details": [
                    {
                     "description": "boost",
                     "details": [],
                     "value": 220
                    },
                    {
                     "description": "idf, computed as log(1 + (N - n + 0.5) / (n + 0.5)) from:",
                     "details": [
                      {
                       "description": "n, number of documents containing term",
                       "details": [],
                       "value": 6
                      },
                      {
                       "description": "N, total number of documents with field",
                       "details": [],
                       "value": 5927892
                      }
                     ],
                     "value": 13.723377
                    },
                    {
                     "description": "tf, computed as freq / (freq + k1 * (1 - b + b * dl / avgdl)) from:",
                     "details": [
                      {
                       "description": "freq, occurrences of term within document",
                       "details": [],
                       "value": 1
                      },
                      {
                       "description": "k1, term saturation parameter",
                       "details": [],
                       "value": 1.2
                      },
                      {
                       "description": "b, length normalization parameter",
                       "details": [],
                       "value": 0.75
                      },
                      {
                       "description": "dl, length of field",
                       "details": [],
                       "value": 1
                      },
                      {
                       "description": "avgdl, average length of field",
                       "details": [],
                       "value": 1
                      }
                     ],
                     "value": 0.45454544
                    }
                   ],
                   "value": 1372.3376
                  }
                 ],
                 "value": 1372.3376
                },
                {
                 "description": "min of:",
                 "details": [
                  {
                   "description": "field value function: log1p(doc['nombre_etablissements_ouverts'].value?:1.0 * factor=1.0)",
                   "details": [],
                   "value": 0.30103
                  },
                  {
                   "description": "maxBoost",
                   "details": [],
                   "value": 3.4028235e+38
                  }
                 ],
                 "value": 0.30103
                }
               ],
               "value": 413.1148
              },
              {
               "description": "function score, product of:",
               "details": [
                {
                 "description": "weight(nom_complet:ganymed in 14861270) [PerFieldSimilarity], result of:",
                 "details": [
                  {
                   "description": "score(freq=1.0), computed as boost * idf * tf from:",
                   "details": [
                    {
                     "description": "boost",
                     "details": [],
                     "value": 110
                    },
                    {
                     "description": "idf, computed as log(1 + (N - n + 0.5) / (n + 0.5)) from:",
                     "details": [
                      {
                       "description": "n, number of documents containing term",
                       "details": [],
                       "value": 14
                      },
                      {
                       "description": "N, total number of documents with field",
                       "details": [],
                       "value": 5925958
                      }
                     ],
                     "value": 12.920705
                    },
                    {
                     "description": "tf, computed as freq / (freq + k1 * (1 - b + b * dl / avgdl)) from:",
                     "details": [
                      {
                       "description": "freq, occurrences of term within document",
                       "details": [],
                       "value": 1
                      },
                      {
                       "description": "k1, term saturation parameter",
                       "details": [],
                       "value": 1.2
                      },
                      {
                       "description": "b, length normalization parameter",
                       "details": [],
                       "value": 0.75
                      },
                      {
                       "description": "dl, length of field",
                       "details": [],
                       "value": 1
                      },
                      {
                       "description": "avgdl, average length of field",
                       "details": [],
                       "value": 2.3818636
                      }
                     ],
                     "value": 0.5959989
                    }
                   ],
                   "value": 847.07983
                  }
                 ],
                 "value": 847.07983
                },
                {
                 "description": "min of:",
                 "details": [
                  {
                   "description": "field value function: log1p(doc['nombre_etablissements_ouverts'].value?:1.0 * factor=1.0)",
                   "details": [],
                   "value": 0.30103
                  },
                  {
                   "description": "maxBoost",
                   "details": [],
                   "value": 3.4028235e+38
                  }
                 ],
                 "value": 0.30103
                }
               ],
               "value": 254.99644
              },
              {
               "description": "function score, product of:",
               "details": [
                {
                 "description": "Score based on 2 child docs in range from 14861266 to 14861269, best match:",
                 "details": [
                  {
                   "description": "sum of:",
                   "details": [
                    {
                     "description": "sum of:",
                     "details": [
                      {
                       "description": "max of:",
                       "details": [
                        {
                         "description": "weight(etablissements.nom_complet:ganymed in 14861267) [PerFieldSimilarity], result of:",
                         "details": [
                          {
                           "description": "score(freq=1.0), computed as boost * idf * tf from:",
                           "details": [
                            {
                             "description": "boost",
                             "details": [],
                             "value": 550
                            },
                            {
                             "description": "idf, computed as log(1 + (N - n + 0.5) / (n + 0.5)) from:",
                             "details": [
                              {
                               "description": "n, number of documents containing term",
                               "details": [],
                               "value": 25
                              },
                              {
                               "description": "N, total number of documents with field",
                               "details": [],
                               "value": 8444072
                              }
                             ],
                             "value": 12.710297
                            },
                            {
                             "description": "tf, computed as freq / (freq + k1 * (1 - b + b * dl / avgdl)) from:",
                             "details": [
                              {
                               "description": "freq, occurrences of term within document",
                               "details": [],
                               "value": 1
                              },
                              {
                               "description": "k1, term saturation parameter",
                               "details": [],
                               "value": 1.2
                              },
                              {
                               "description": "b, length normalization parameter",
                               "details": [],
                               "value": 0.75
                              },
                              {
                               "description": "dl, length of field",
                               "details": [],
                               "value": 1
                              },
                              {
                               "description": "avgdl, average length of field",
                               "details": [],
                               "value": 2.394826
                              }
                             ],
                             "value": 0.5967263
                            }
                           ],
                           "value": 4171.5127
                          }
                         ],
                         "value": 4171.5127
                        }
                       ],
                       "value": 4171.5127
                      }
                     ],
                     "value": 4171.5127
                    },
                    {
                     "description": "match on required clause, product of:",
                     "details": [
                      {
                       "description": "# clause",
                       "details": [],
                       "value": 0
                      },
                      {
                       "description": "_type:__etablissements",
                       "details": [],
                       "value": 1
                      }
                     ],
                     "value": 0
                    }
                   ],
                   "value": 4171.5127
                  }
                 ],
                 "value": 4171.5127
                },
                {
                 "description": "min of:",
                 "details": [
                  {
                   "description": "field value function: log1p(doc['nombre_etablissements_ouverts'].value?:1.0 * factor=1.0)",
                   "details": [],
                   "value": 0.30103
                  },
                  {
                   "description": "maxBoost",
                   "details": [],
                   "value": 3.4028235e+38
                  }
                 ],
                 "value": 0.30103
                }
               ],
               "value": 1255.7505
              }
             ],
             "value": 1923.8617
            },
            {
             "description": "match on required clause, product of:",
             "details": [
              {
               "description": "# clause",
               "details": [],
               "value": 0
              },
              {
               "description": "DocValuesFieldExistsQuery [field=_primary_term]",
               "details": [],
               "value": 1
              }
             ],
             "value": 0
            }
           ],
           "value": 1923.8617
          },
          "_id": "510973431",
          "_index": "siren-green",
          "_node": "W2iIuGaVTAyI8840GgZc7Q",
          "_score": 1923.8617,
          "_shard": "[siren-green][3]",
          "_source": {
           "activite_principale_unite_legale": "68.20B",
           "date_creation_unite_legale": "2009-01-28",
           "date_mise_a_jour_unite_legale": "2019-01-14T10:31:18",
           "dirigeants_pp": [
            {
             "date_naissance": "1981-07-29",
             "nom": "ponte",
             "prenoms": "martial",
             "qualite": "Gérant, Associé"
            }
           ],
           "economie_sociale_solidaire_unite_legale": "N",
           "est_entrepreneur_individuel": false,
           "etablissements": [
            {
             "activite_principale": "68.20B",
             "activite_principale_registre_metier": null,
             "adresse": "1135 CHE DU BAGUIER 13028 LA CIOTAT",
             "cedex": null,
             "cedex_2": null,
             "code_pays_etranger": null,
             "code_pays_etranger_2": null,
             "code_postal": "13600",
             "commune": "13028",
             "commune_2": null,
             "complement_adresse": null,
             "complement_adresse_2": null,
             "concat_enseigne_adresse_siren_siret": "1135 CHE DU BAGUIER 13028 LA CIOTAT 510973431 51097343100016",
             "coordonnees": "43.202015,5.654787",
             "date_creation": "2009-01-28",
             "date_debut_activite": "2018-11-09",
             "departement": "13",
             "distribution_speciale": null,
             "distribution_speciale_2": null,
             "enseigne_1": null,
             "enseigne_2": null,
             "enseigne_3": null,
             "est_siege": false,
             "etat_administratif": "F",
             "geo_adresse": "1135 Chemin du Baguier 13600 La Ciotat",
             "geo_id": "13028_0113_01135",
             "indice_repetition": null,
             "indice_repetition_2": null,
             "latitude": "43.202015",
             "libelle_cedex": null,
             "libelle_cedex_2": null,
             "libelle_commune": "LA CIOTAT",
             "libelle_commune_2": null,
             "libelle_commune_etranger": null,
             "libelle_commune_etranger_2": null,
             "libelle_pays_etranger": null,
             "libelle_pays_etranger_2": null,
             "libelle_voie": "DU BAGUIER",
             "libelle_voie_2": null,
             "liste_finess": null,
             "liste_idcc": null,
             "liste_rge": null,
             "liste_uai": null,
             "longitude": "5.654787",
             "nom_commercial": null,
             "nom_complet": "ganymede",
             "numero_voie": "1135",
             "numero_voie_2": null,
             "siren": "510973431",
             "siret": "51097343100016",
             "tranche_effectif_salarie": null,
             "type_voie": "CHE",
             "type_voie_2": null
            },
            {
             "activite_principale": "68.20B",
             "activite_principale_registre_metier": null,
             "adresse": "RES LES CAPUCINES BATD 3 TRA DES PENITENTS NOIRS 13028 LA CIOTAT",
             "cedex": null,
             "cedex_2": null,
             "code_pays_etranger": null,
             "code_pays_etranger_2": null,
             "code_postal": "13600",
             "commune": "13028",
             "commune_2": null,
             "complement_adresse": "RES LES CAPUCINES BATD",
             "complement_adresse_2": null,
             "concat_enseigne_adresse_siren_siret": "RES LES CAPUCINES BATD 3 TRA DES PENITENTS NOIRS 13028 LA CIOTAT 510973431 51097343100024",
             "coordonnees": "43.176651,5.607033",
             "date_creation": "2018-11-09",
             "date_debut_activite": "2018-11-09",
             "departement": "13",
             "distribution_speciale": null,
             "distribution_speciale_2": null,
             "enseigne_1": null,
             "enseigne_2": null,
             "enseigne_3": null,
             "est_siege": true,
             "etat_administratif": "A",
             "geo_adresse": "Traverse des Pénitents Noirs 13600 La Ciotat",
             "geo_id": "13028_1338",
             "indice_repetition": null,
             "indice_repetition_2": null,
             "latitude": "43.176651",
             "libelle_cedex": null,
             "libelle_cedex_2": null,
             "libelle_commune": "LA CIOTAT",
             "libelle_commune_2": null,
             "libelle_commune_etranger": null,
             "libelle_commune_etranger_2": null,
             "libelle_pays_etranger": null,
             "libelle_pays_etranger_2": null,
             "libelle_voie": "DES PENITENTS NOIRS",
             "libelle_voie_2": null,
             "liste_finess": null,
             "liste_idcc": null,
             "liste_rge": null,
             "liste_uai": null,
             "longitude": "5.607033",
             "nom_commercial": null,
             "nom_complet": "ganymede",
             "numero_voie": "3",
             "numero_voie_2": null,
             "siren": "510973431",
             "siret": "51097343100024",
             "tranche_effectif_salarie": null,
             "type_voie": "TRA",
             "type_voie_2": null
            }
           ],
           "etat_administratif_unite_legale": "A",
           "liste_dirigeants": [
            "martial ponte"
           ],
           "nature_juridique_unite_legale": "6540",
           "nom_complet": "ganymede",
           "nom_raison_sociale": "GANYMEDE",
           "nombre_etablissements": 2,
           "nombre_etablissements_ouverts": 1,
           "section_activite_principale": "L",
           "siege": {
            "activite_principale": "68.20B",
            "activite_principale_registre_metier": null,
            "adresse": "RES LES CAPUCINES BATD 3 TRA DES PENITENTS NOIRS 13028 LA CIOTAT",
            "cedex": null,
            "cedex_2": null,
            "code_pays_etranger": null,
            "code_pays_etranger_2": null,
            "code_postal": "13600",
            "commune": "13028",
            "commune_2": null,
            "complement_adresse": "RES LES CAPUCINES BATD",
            "complement_adresse_2": null,
            "coordonnees": "43.176651,5.607033",
            "date_creation": "2018-11-09",
            "date_debut_activite": "2018-11-09",
            "departement": "13",
            "distribution_speciale": null,
            "distribution_speciale_2": null,
            "enseigne_1": null,
            "enseigne_2": null,
            "enseigne_3": null,
            "est_siege": true,
            "etat_administratif": "A",
            "geo_adresse": "Traverse des Pénitents Noirs 13600 La Ciotat",
            "geo_id": "13028_1338",
            "indice_repetition": null,
            "indice_repetition_2": null,
            "latitude": "43.176651",
            "libelle_cedex": null,
            "libelle_cedex_2": null,
            "libelle_commune": "LA CIOTAT",
            "libelle_commune_2": null,
            "libelle_commune_etranger": null,
            "libelle_commune_etranger_2": null,
            "libelle_pays_etranger": null,
            "libelle_pays_etranger_2": null,
            "libelle_voie": "DES PENITENTS NOIRS",
            "libelle_voie_2": null,
            "liste_finess": null,
            "liste_idcc": null,
            "liste_rge": null,
            "liste_uai": null,
            "longitude": "5.607033",
            "nom_commercial": null,
            "numero_voie": "3",
            "numero_voie_2": null,
            "siren": "510973431",
            "siret": "51097343100024",
            "tranche_effectif_salarie": null,
            "type_voie": "TRA",
            "type_voie_2": null
           },
           "siren": "510973431",
           "siret_siege": "51097343100024"
          },
          "_type": "_doc",
          "inner_hits": {
           "etablissements": {
            "hits": {
             "hits": [
              {
               "_id": "510973431",
               "_index": "siren-green",
               "_nested": {
                "field": "etablissements",
                "offset": 0
               },
               "_score": 4171.5127,
               "_source": {
                "activite_principale": "68.20B",
                "activite_principale_registre_metier": null,
                "adresse": "1135 CHE DU BAGUIER 13028 LA CIOTAT",
                "cedex": null,
                "cedex_2": null,
                "code_pays_etranger": null,
                "code_pays_etranger_2": null,
                "code_postal": "13600",
                "commune": "13028",
                "commune_2": null,
                "complement_adresse": null,
                "complement_adresse_2": null,
                "concat_enseigne_adresse_siren_siret": "1135 CHE DU BAGUIER 13028 LA CIOTAT 510973431 51097343100016",
                "coordonnees": "43.202015,5.654787",
                "date_creation": "2009-01-28",
                "date_debut_activite": "2018-11-09",
                "departement": "13",
                "distribution_speciale": null,
                "distribution_speciale_2": null,
                "enseigne_1": null,
                "enseigne_2": null,
                "enseigne_3": null,
                "est_siege": false,
                "etat_administratif": "F",
                "geo_adresse": "1135 Chemin du Baguier 13600 La Ciotat",
                "geo_id": "13028_0113_01135",
                "indice_repetition": null,
                "indice_repetition_2": null,
                "latitude": "43.202015",
                "libelle_cedex": null,
                "libelle_cedex_2": null,
                "libelle_commune": "LA CIOTAT",
                "libelle_commune_2": null,
                "libelle_commune_etranger": null,
                "libelle_commune_etranger_2": null,
                "libelle_pays_etranger": null,
                "libelle_pays_etranger_2": null,
                "libelle_voie": "DU BAGUIER",
                "libelle_voie_2": null,
                "liste_finess": null,
                "liste_idcc": null,
                "liste_rge": null,
                "liste_uai": null,
                "longitude": "5.654787",
                "nom_commercial": null,
                "nom_complet": "ganymede",
                "numero_voie": "1135",
                "numero_voie_2": null,
                "siren": "510973431",
                "siret": "51097343100016",
                "tranche_effectif_salarie": null,
                "type_voie": "CHE",
                "type_voie_2": null
               },
               "_type": "_doc",
               "matched_queries": [
                "match nom complet et adresse"
               ]
              },
              {
               "_id": "510973431",
               "_index": "siren-green",
               "_nested": {
                "field": "etablissements",
                "offset": 1
               },
               "_score": 4171.5127,
               "_source": {
                "activite_principale": "68.20B",
                "activite_principale_registre_metier": null,
                "adresse": "RES LES CAPUCINES BATD 3 TRA DES PENITENTS NOIRS 13028 LA CIOTAT",
                "cedex": null,
                "cedex_2": null,
                "code_pays_etranger": null,
                "code_pays_etranger_2": null,
                "code_postal": "13600",
                "commune": "13028",
                "commune_2": null,
                "complement_adresse": "RES LES CAPUCINES BATD",
                "complement_adresse_2": null,
                "concat_enseigne_adresse_siren_siret": "RES LES CAPUCINES BATD 3 TRA DES PENITENTS NOIRS 13028 LA CIOTAT 510973431 51097343100024",
                "coordonnees": "43.176651,5.607033",
                "date_creation": "2018-11-09",
                "date_debut_activite": "2018-11-09",
                "departement": "13",
                "distribution_speciale": null,
                "distribution_speciale_2": null,
                "enseigne_1": null,
                "enseigne_2": null,
                "enseigne_3": null,
                "est_siege": true,
                "etat_administratif": "A",
                "geo_adresse": "Traverse des Pénitents Noirs 13600 La Ciotat",
                "geo_id": "13028_1338",
                "indice_repetition": null,
                "indice_repetition_2": null,
                "latitude": "43.176651",
                "libelle_cedex": null,
                "libelle_cedex_2": null,
                "libelle_commune": "LA CIOTAT",
                "libelle_commune_2": null,
                "libelle_commune_etranger": null,
                "libelle_commune_etranger_2": null,
                "libelle_pays_etranger": null,
                "libelle_pays_etranger_2": null,
                "libelle_voie": "DES PENITENTS NOIRS",
                "libelle_voie_2": null,
                "liste_finess": null,
                "liste_idcc": null,
                "liste_rge": null,
                "liste_uai": null,
                "longitude": "5.607033",
                "nom_commercial": null,
                "nom_complet": "ganymede",
                "numero_voie": "3",
                "numero_voie_2": null,
                "siren": "510973431",
                "siret": "51097343100024",
                "tranche_effectif_salarie": null,
                "type_voie": "TRA",
                "type_voie_2": null
               },
               "_type": "_doc",
               "matched_queries": [
                "match nom complet et adresse"
               ]
              }
             ],
             "max_score": 4171.5127,
             "total": {
              "relation": "eq",
              "value": 2
             }
            }
           }
          },
          "matched_queries": [
           "exact nom_complet match",
           "partial nom_complet match with AND"
          ]
         },
         {
          "_explanation": {
           "description": "sum of:",
           "details": [
            {
             "description": "sum of:",
             "details": [
              {
               "description": "function score, product of:",
               "details": [
                {
                 "description": "weight(nom_complet.keyword:ganymede in 15472673) [PerFieldSimilarity], result of:",
                 "details": [
                  {
                   "description": "score(freq=1.0), computed as boost * idf * tf from:",
                   "details": [
                    {
                     "description": "boost",
                     "details": [],
                     "value": 220
                    },
                    {
                     "description": "idf, computed as log(1 + (N - n + 0.5) / (n + 0.5)) from:",
                     "details": [
                      {
                       "description": "n, number of documents containing term",
                       "details": [],
                       "value": 6
                      },
                      {
                       "description": "N, total number of documents with field",
                       "details": [],
                       "value": 5927892
                      }
                     ],
                     "value": 13.723377
                    },
                    {
                     "description": "tf, computed as freq / (freq + k1 * (1 - b + b * dl / avgdl)) from:",
                     "details": [
                      {
                       "description": "freq, occurrences of term within document",
                       "details": [],
                       "value": 1
                      },
                      {
                       "description": "k1, term saturation parameter",
                       "details": [],
                       "value": 1.2
                      },
                      {
                       "description": "b, length normalization parameter",
                       "details": [],
                       "value": 0.75
                      },
                      {
                       "description": "dl, length of field",
                       "details": [],
                       "value": 1
                      },
                      {
                       "description": "avgdl, average length of field",
                       "details": [],
                       "value": 1
                      }
                     ],
                     "value": 0.45454544
                    }
                   ],
                   "value": 1372.3376
                  }
                 ],
                 "value": 1372.3376
                },
                {
                 "description": "min of:",
                 "details": [
                  {
                   "description": "field value function: log1p(doc['nombre_etablissements_ouverts'].value?:1.0 * factor=1.0)",
                   "details": [],
                   "value": 0.30103
                  },
                  {
                   "description": "maxBoost",
                   "details": [],
                   "value": 3.4028235e+38
                  }
                 ],
                 "value": 0.30103
                }
               ],
               "value": 413.1148
              },
              {
               "description": "function score, product of:",
               "details": [
                {
                 "description": "weight(nom_complet:ganymed in 15472673) [PerFieldSimilarity], result of:",
                 "details": [
                  {
                   "description": "score(freq=1.0), computed as boost * idf * tf from:",
                   "details": [
                    {
                     "description": "boost",
                     "details": [],
                     "value": 110
                    },
                    {
                     "description": "idf, computed as log(1 + (N - n + 0.5) / (n + 0.5)) from:",
                     "details": [
                      {
                       "description": "n, number of documents containing term",
                       "details": [],
                       "value": 14
                      },
                      {
                       "description": "N, total number of documents with field",
                       "details": [],
                       "value": 5925958
                      }
                     ],
                     "value": 12.920705
                    },
                    {
                     "description": "tf, computed as freq / (freq + k1 * (1 - b + b * dl / avgdl)) from:",
                     "details": [
                      {
                       "description": "freq, occurrences of term within document",
                       "details": [],
                       "value": 1
                      },
                      {
                       "description": "k1, term saturation parameter",
                       "details": [],
                       "value": 1.2
                      },
                      {
                       "description": "b, length normalization parameter",
                       "details": [],
                       "value": 0.75
                      },
                      {
                       "description": "dl, length of field",
                       "details": [],
                       "value": 1
                      },
                      {
                       "description": "avgdl, average length of field",
                       "details": [],
                       "value": 2.3818636
                      }
                     ],
                     "value": 0.5959989
                    }
                   ],
                   "value": 847.07983
                  }
                 ],
                 "value": 847.07983
                },
                {
                 "description": "min of:",
                 "details": [
                  {
                   "description": "field value function: log1p(doc['nombre_etablissements_ouverts'].value?:1.0 * factor=1.0)",
                   "details": [],
                   "value": 0.30103
                  },
                  {
                   "description": "maxBoost",
                   "details": [],
                   "value": 3.4028235e+38
                  }
                 ],
                 "value": 0.30103
                }
               ],
               "value": 254.99644
              },
              {
               "description": "function score, product of:",
               "details": [
                {
                 "description": "Score based on 1 child docs in range from 15472668 to 15472672, best match:",
                 "details": [
                  {
                   "description": "sum of:",
                   "details": [
                    {
                     "description": "sum of:",
                     "details": [
                      {
                       "description": "max of:",
                       "details": [
                        {
                         "description": "weight(etablissements.nom_complet:ganymed in 15472671) [PerFieldSimilarity], result of:",
                         "details": [
                          {
                           "description": "score(freq=1.0), computed as boost * idf * tf from:",
                           "details": [
                            {
                             "description": "boost",
                             "details": [],
                             "value": 550
                            },
                            {
                             "description": "idf, computed as log(1 + (N - n + 0.5) / (n + 0.5)) from:",
                             "details": [
                              {
                               "description": "n, number of documents containing term",
                               "details": [],
                               "value": 25
                              },
                              {
                               "description": "N, total number of documents with field",
                               "details": [],
                               "value": 8444072
                              }
                             ],
                             "value": 12.710297
                            },
                            {
                             "description": "tf, computed as freq / (freq + k1 * (1 - b + b * dl / avgdl)) from:",
                             "details": [
                              {
                               "description": "freq, occurrences of term within document",
                               "details": [],
                               "value": 1
                              },
                              {
                               "description": "k1, term saturation parameter",
                               "details": [],
                               "value": 1.2
                              },
                              {
                               "description": "b, length normalization parameter",
                               "details": [],
                               "value": 0.75
                              },
                              {
                               "description": "dl, length of field",
                               "details": [],
                               "value": 1
                              },
                              {
                               "description": "avgdl, average length of field",
                               "details": [],
                               "value": 2.394826
                              }
                             ],
                             "value": 0.5967263
                            }
                           ],
                           "value": 4171.5127
                          }
                         ],
                         "value": 4171.5127
                        }
                       ],
                       "value": 4171.5127
                      }
                     ],
                     "value": 4171.5127
                    },
                    {
                     "description": "match on required clause, product of:",
                     "details": [
                      {
                       "description": "# clause",
                       "details": [],
                       "value": 0
                      },
                      {
                       "description": "_type:__etablissements",
                       "details": [],
                       "value": 1
                      }
                     ],
                     "value": 0
                    }
                   ],
                   "value": 4171.5127
                  }
                 ],
                 "value": 4171.5127
                },
                {
                 "description": "min of:",
                 "details": [
                  {
                   "description": "field value function: log1p(doc['nombre_etablissements_ouverts'].value?:1.0 * factor=1.0)",
                   "details": [],
                   "value": 0.30103
                  },
                  {
                   "description": "maxBoost",
                   "details": [],
                   "value": 3.4028235e+38
                  }
                 ],
                 "value": 0.30103
                }
               ],
               "value": 1255.7505
              }
             ],
             "value": 1923.8617
            },
            {
             "description": "match on required clause, product of:",
             "details": [
              {
               "description": "# clause",
               "details": [],
               "value": 0
              },
              {
               "description": "DocValuesFieldExistsQuery [field=_primary_term]",
               "details": [],
               "value": 1
              }
             ],
             "value": 0
            }
           ],
           "value": 1923.8617
          },
          "_id": "423208180",
          "_index": "siren-green",
          "_node": "W2iIuGaVTAyI8840GgZc7Q",
          "_score": 1923.8617,
          "_shard": "[siren-green][3]",
          "_source": {
           "activite_principale_unite_legale": "68.20B",
           "date_creation_unite_legale": "1999-04-07",
           "date_mise_a_jour_unite_legale": "2018-10-17T04:04:59",
           "dirigeants_pp": [
            {
             "date_naissance": "1941-09-07",
             "nom": "cesar (arnal)",
             "prenoms": "nicole",
             "qualite": "Associé indéfiniment responsable, Associé"
            },
            {
             "date_naissance": "1944-12-04",
             "nom": "chiffre",
             "prenoms": "alain",
             "qualite": "Associé indéfiniment responsable, Associé"
            },
            {
             "date_naissance": "1971-08-08",
             "nom": "guillotte",
             "prenoms": "jean-philippe",
             "qualite": "Gérant, Associé indéfiniment responsable, Associé"
            }
           ],
           "economie_sociale_solidaire_unite_legale": "N",
           "est_entrepreneur_individuel": false,
           "etablissements": [
            {
             "activite_principale": "68.20B",
             "activite_principale_registre_metier": null,
             "adresse": "ESPACE SOLEIL BAT C RTE DE GRUISSAN 11262 NARBONNE",
             "cedex": null,
             "cedex_2": null,
             "code_pays_etranger": null,
             "code_pays_etranger_2": null,
             "code_postal": "11100",
             "commune": "11262",
             "commune_2": null,
             "complement_adresse": "ESPACE SOLEIL BAT C",
             "complement_adresse_2": null,
             "concat_enseigne_adresse_siren_siret": "ESPACE SOLEIL BAT C RTE DE GRUISSAN 11262 NARBONNE 423208180 42320818000012",
             "coordonnees": "43.153077,3.047004",
             "date_creation": "1999-04-07",
             "date_debut_activite": "2008-01-01",
             "departement": "11",
             "distribution_speciale": null,
             "distribution_speciale_2": null,
             "enseigne_1": null,
             "enseigne_2": null,
             "enseigne_3": null,
             "est_siege": true,
             "etat_administratif": "A",
             "geo_adresse": "Route de Gruissan 11100 Narbonne",
             "geo_id": "11262_7m8lgc",
             "indice_repetition": null,
             "indice_repetition_2": null,
             "latitude": "43.153077",
             "libelle_cedex": null,
             "libelle_cedex_2": null,
             "libelle_commune": "NARBONNE",
             "libelle_commune_2": null,
             "libelle_commune_etranger": null,
             "libelle_commune_etranger_2": null,
             "libelle_pays_etranger": null,
             "libelle_pays_etranger_2": null,
             "libelle_voie": "DE GRUISSAN",
             "libelle_voie_2": null,
             "liste_finess": null,
             "liste_idcc": null,
             "liste_rge": null,
             "liste_uai": null,
             "longitude": "3.047004",
             "nom_commercial": null,
             "nom_complet": "ganymede",
             "numero_voie": null,
             "numero_voie_2": null,
             "siren": "423208180",
             "siret": "42320818000012",
             "tranche_effectif_salarie": "NN",
             "type_voie": "RTE",
             "type_voie_2": null
            }
           ],
           "etat_administratif_unite_legale": "A",
           "liste_dirigeants": [
            "nicole cesar (arnal)",
            "alain chiffre",
            "jean-philippe guillotte"
           ],
           "nature_juridique_unite_legale": "6540",
           "nom_complet": "ganymede",
           "nom_raison_sociale": "GANYMEDE",
           "nombre_etablissements": 1,
           "nombre_etablissements_ouverts": 1,
           "section_activite_principale": "L",
           "siege": {
            "activite_principale": "68.20B",
            "activite_principale_registre_metier": null,
            "adresse": "ESPACE SOLEIL BAT C RTE DE GRUISSAN 11262 NARBONNE",
            "cedex": null,
            "cedex_2": null,
            "code_pays_etranger": null,
            "code_pays_etranger_2": null,
            "code_postal": "11100",
            "commune": "11262",
            "commune_2": null,
            "complement_adresse": "ESPACE SOLEIL BAT C",
            "complement_adresse_2": null,
            "coordonnees": "43.153077,3.047004",
            "date_creation": "1999-04-07",
            "date_debut_activite": "2008-01-01",
            "departement": "11",
            "distribution_speciale": null,
            "distribution_speciale_2": null,
            "enseigne_1": null,
            "enseigne_2": null,
            "enseigne_3": null,
            "est_siege": true,
            "etat_administratif": "A",
            "geo_adresse": "Route de Gruissan 11100 Narbonne",
            "geo_id": "11262_7m8lgc",
            "indice_repetition": null,
            "indice_repetition_2": null,
            "latitude": "43.153077",
            "libelle_cedex": null,
            "libelle_cedex_2": null,
            "libelle_commune": "NARBONNE",
            "libelle_commune_2": null,
            "libelle_commune_etranger": null,
            "libelle_commune_etranger_2": null,
            "libelle_pays_etranger": null,
            "libelle_pays_etranger_2": null,
            "libelle_voie": "DE GRUISSAN",
            "libelle_voie_2": null,
            "liste_finess": null,
            "liste_idcc": null,
            "liste_rge": null,
            "liste_uai": null,
            "longitude": "3.047004",
            "nom_commercial": null,
            "numero_voie": null,
            "numero_voie_2": null,
            "siren": "423208180",
            "siret": "42320818000012",
            "tranche_effectif_salarie": "NN",
            "type_voie": "RTE",
            "type_voie_2": null
           },
           "siren": "423208180",
           "siret_siege": "42320818000012",
           "tranche_effectif_salarie_unite_legale": "NN"
          },
          "_type": "_doc",
          "inner_hits": {
           "etablissements": {
            "hits": {
             "hits": [
              {
               "_id": "423208180",
               "_index": "siren-green",
               "_nested": {
                "field": "etablissements",
                "offset": 0
               },
               "_score": 4171.5127,
               "_source": {
                "activite_principale": "68.20B",
                "activite_principale_registre_metier": null,
                "adresse": "ESPACE SOLEIL BAT C RTE DE GRUISSAN 11262 NARBONNE",
                "cedex": null,
                "cedex_2": null,
                "code_pays_etranger": null,
                "code_pays_etranger_2": null,
                "code_postal": "11100",
                "commune": "11262",
                "commune_2": null,
                "complement_adresse": "ESPACE SOLEIL BAT C",
                "complement_adresse_2": null,
                "concat_enseigne_adresse_siren_siret": "ESPACE SOLEIL BAT C RTE DE GRUISSAN 11262 NARBONNE 423208180 42320818000012",
                "coordonnees": "43.153077,3.047004",
                "date_creation": "1999-04-07",
                "date_debut_activite": "2008-01-01",
                "departement": "11",
                "distribution_speciale": null,
                "distribution_speciale_2": null,
                "enseigne_1": null,
                "enseigne_2": null,
                "enseigne_3": null,
                "est_siege": true,
                "etat_administratif": "A",
                "geo_adresse": "Route de Gruissan 11100 Narbonne",
                "geo_id": "11262_7m8lgc",
                "indice_repetition": null,
                "indice_repetition_2": null,
                "latitude": "43.153077",
                "libelle_cedex": null,
                "libelle_cedex_2": null,
                "libelle_commune": "NARBONNE",
                "libelle_commune_2": null,
                "libelle_commune_etranger": null,
                "libelle_commune_etranger_2": null,
                "libelle_pays_etranger": null,
                "libelle_pays_etranger_2": null,
                "libelle_voie": "DE GRUISSAN",
                "libelle_voie_2": null,
                "liste_finess": null,
                "liste_idcc": null,
                "liste_rge": null,
                "liste_uai": null,
                "longitude": "3.047004",
                "nom_commercial": null,
                "nom_complet": "ganymede",
                "numero_voie": null,
                "numero_voie_2": null,
                "siren": "423208180",
                "siret": "42320818000012",
                "tranche_effectif_salarie": "NN",
                "type_voie": "RTE",
                "type_voie_2": null
               },
               "_type": "_doc",
               "matched_queries": [
                "match nom complet et adresse"
               ]
              }
             ],
             "max_score": 4171.5127,
             "total": {
              "relation": "eq",
              "value": 1
             }
            }
           }
          },
          "matched_queries": [
           "exact nom_complet match",
           "partial nom_complet match with AND"
          ]
         },
         {
          "_explanation": {
           "description": "sum of:",
           "details": [
            {
             "description": "sum of:",
             "details": [
              {
               "description": "function score, product of:",
               "details": [
                {
                 "description": "weight(nom_complet.keyword:ganymede in 141960) [PerFieldSimilarity], result of:",
                 "details": [
                  {
                   "description": "score(freq=1.0), computed as boost * idf * tf from:",
                   "details": [
                    {
                     "description": "boost",
                     "details": [],
                     "value": 220
                    },
                    {
                     "description": "idf, computed as log(1 + (N - n + 0.5) / (n + 0.5)) from:",
                     "details": [
                      {
                       "description": "n, number of documents containing term",
                       "details": [],
                       "value": 6
                      },
                      {
                       "description": "N, total number of documents with field",
                       "details": [],
                       "value": 5927892
                      }
                     ],
                     "value": 13.723377
                    },
                    {
                     "description": "tf, computed as freq / (freq + k1 * (1 - b + b * dl / avgdl)) from:",
                     "details": [
                      {
                       "description": "freq, occurrences of term within document",
                       "details": [],
                       "value": 1
                      },
                      {
                       "description": "k1, term saturation parameter",
                       "details": [],
                       "value": 1.2
                      },
                      {
                       "description": "b, length normalization parameter",
                       "details": [],
                       "value": 0.75
                      },
                      {
                       "description": "dl, length of field",
                       "details": [],
                       "value": 1
                      },
                      {
                       "description": "avgdl, average length of field",
                       "details": [],
                       "value": 1
                      }
                     ],
                     "value": 0.45454544
                    }
                   ],
                   "value": 1372.3376
                  }
                 ],
                 "value": 1372.3376
                },
                {
                 "description": "min of:",
                 "details": [
                  {
                   "description": "field value function: log1p(doc['nombre_etablissements_ouverts'].value?:1.0 * factor=1.0)",
                   "details": [],
                   "value": 0.30103
                  },
                  {
                   "description": "maxBoost",
                   "details": [],
                   "value": 3.4028235e+38
                  }
                 ],
                 "value": 0.30103
                }
               ],
               "value": 413.1148
              },
              {
               "description": "function score, product of:",
               "details": [
                {
                 "description": "weight(nom_complet:ganymed in 141960) [PerFieldSimilarity], result of:",
                 "details": [
                  {
                   "description": "score(freq=1.0), computed as boost * idf * tf from:",
                   "details": [
                    {
                     "description": "boost",
                     "details": [],
                     "value": 110
                    },
                    {
                     "description": "idf, computed as log(1 + (N - n + 0.5) / (n + 0.5)) from:",
                     "details": [
                      {
                       "description": "n, number of documents containing term",
                       "details": [],
                       "value": 14
                      },
                      {
                       "description": "N, total number of documents with field",
                       "details": [],
                       "value": 5925958
                      }
                     ],
                     "value": 12.920705
                    },
                    {
                     "description": "tf, computed as freq / (freq + k1 * (1 - b + b * dl / avgdl)) from:",
                     "details": [
                      {
                       "description": "freq, occurrences of term within document",
                       "details": [],
                       "value": 1
                      },
                      {
                       "description": "k1, term saturation parameter",
                       "details": [],
                       "value": 1.2
                      },
                      {
                       "description": "b, length normalization parameter",
                       "details": [],
                       "value": 0.75
                      },
                      {
                       "description": "dl, length of field",
                       "details": [],
                       "value": 1
                      },
                      {
                       "description": "avgdl, average length of field",
                       "details": [],
                       "value": 2.3818636
                      }
                     ],
                     "value": 0.5959989
                    }
                   ],
                   "value": 847.07983
                  }
                 ],
                 "value": 847.07983
                },
                {
                 "description": "min of:",
                 "details": [
                  {
                   "description": "field value function: log1p(doc['nombre_etablissements_ouverts'].value?:1.0 * factor=1.0)",
                   "details": [],
                   "value": 0.30103
                  },
                  {
                   "description": "maxBoost",
                   "details": [],
                   "value": 3.4028235e+38
                  }
                 ],
                 "value": 0.30103
                }
               ],
               "value": 254.99644
              },
              {
               "description": "function score, product of:",
               "details": [
                {
                 "description": "Score based on 1 child docs in range from 19530093 to 19530095, best match:",
                 "details": [
                  {
                   "description": "sum of:",
                   "details": [
                    {
                     "description": "sum of:",
                     "details": [
                      {
                       "description": "max of:",
                       "details": [
                        {
                         "description": "weight(etablissements.nom_complet:ganymed in 141958) [PerFieldSimilarity], result of:",
                         "details": [
                          {
                           "description": "score(freq=1.0), computed as boost * idf * tf from:",
                           "details": [
                            {
                             "description": "boost",
                             "details": [],
                             "value": 550
                            },
                            {
                             "description": "idf, computed as log(1 + (N - n + 0.5) / (n + 0.5)) from:",
                             "details": [
                              {
                               "description": "n, number of documents containing term",
                               "details": [],
                               "value": 25
                              },
                              {
                               "description": "N, total number of documents with field",
                               "details": [],
                               "value": 8444072
                              }
                             ],
                             "value": 12.710297
                            },
                            {
                             "description": "tf, computed as freq / (freq + k1 * (1 - b + b * dl / avgdl)) from:",
                             "details": [
                              {
                               "description": "freq, occurrences of term within document",
                               "details": [],
                               "value": 1
                              },
                              {
                               "description": "k1, term saturation parameter",
                               "details": [],
                               "value": 1.2
                              },
                              {
                               "description": "b, length normalization parameter",
                               "details": [],
                               "value": 0.75
                              },
                              {
                               "description": "dl, length of field",
                               "details": [],
                               "value": 1
                              },
                              {
                               "description": "avgdl, average length of field",
                               "details": [],
                               "value": 2.394826
                              }
                             ],
                             "value": 0.5967263
                            }
                           ],
                           "value": 4171.5127
                          }
                         ],
                         "value": 4171.5127
                        }
                       ],
                       "value": 4171.5127
                      }
                     ],
                     "value": 4171.5127
                    },
                    {
                     "description": "match on required clause, product of:",
                     "details": [
                      {
                       "description": "# clause",
                       "details": [],
                       "value": 0
                      },
                      {
                       "description": "_type:__etablissements",
                       "details": [],
                       "value": 1
                      }
                     ],
                     "value": 0
                    }
                   ],
                   "value": 4171.5127
                  }
                 ],
                 "value": 4171.5127
                },
                {
                 "description": "min of:",
                 "details": [
                  {
                   "description": "field value function: log1p(doc['nombre_etablissements_ouverts'].value?:1.0 * factor=1.0)",
                   "details": [],
                   "value": 0.30103
                  },
                  {
                   "description": "maxBoost",
                   "details": [],
                   "value": 3.4028235e+38
                  }
                 ],
                 "value": 0.30103
                }
               ],
               "value": 1255.7505
              }
             ],
             "value": 1923.8617
            },
            {
             "description": "match on required clause, product of:",
             "details": [
              {
               "description": "# clause",
               "details": [],
               "value": 0
              },
              {
               "description": "DocValuesFieldExistsQuery [field=_primary_term]",
               "details": [],
               "value": 1
              }
             ],
             "value": 0
            }
           ],
           "value": 1923.8617
          },
          "_id": "409716305",
          "_index": "siren-green",
          "_node": "W2iIuGaVTAyI8840GgZc7Q",
          "_score": 1923.8617,
          "_shard": "[siren-green][3]",
          "_source": {
           "activite_principale_unite_legale": "68.20B",
           "date_creation_unite_legale": "1996-10-30",
           "date_mise_a_jour_unite_legale": "2011-12-06T01:32:56",
           "dirigeants_pp": [
            {
             "date_naissance": "1966-08-19",
             "nom": "grunberg",
             "pays_naissance": "FRANCE",
             "prenoms": "arnaud",
             "qualite": "Gérant",
             "ville_naissance": " BOULOGNE BILLANCOURT "
            }
           ],
           "est_entrepreneur_individuel": false,
           "etablissements": [
            {
             "activite_principale": "68.20B",
             "activite_principale_registre_metier": null,
             "adresse": "36 RUE ETIENNE GANNERON 77058 BUSSY-SAINT-GEORGES",
             "cedex": null,
             "cedex_2": null,
             "code_pays_etranger": null,
             "code_pays_etranger_2": null,
             "code_postal": "77600",
             "commune": "77058",
             "commune_2": null,
             "complement_adresse": null,
             "complement_adresse_2": null,
             "concat_enseigne_adresse_siren_siret": "36 RUE ETIENNE GANNERON 77058 BUSSY-SAINT-GEORGES 409716305 40971630500019",
             "coordonnees": "48.843915,2.712213",
             "date_creation": "1996-10-30",
             "date_debut_activite": "2008-01-01",
             "departement": "77",
             "distribution_speciale": null,
             "distribution_speciale_2": null,
             "enseigne_1": null,
             "enseigne_2": null,
             "enseigne_3": null,
             "est_siege": true,
             "etat_administratif": "A",
             "geo_adresse": "36 Rue Etienne Ganneron 77600 Bussy-Saint-Georges",
             "geo_id": "77058_0361_00036",
             "indice_repetition": null,
             "indice_repetition_2": null,
             "latitude": "48.843915",
             "libelle_cedex": null,
             "libelle_cedex_2": null,
             "libelle_commune": "BUSSY-SAINT-GEORGES",
             "libelle_commune_2": null,
             "libelle_commune_etranger": null,
             "libelle_commune_etranger_2": null,
             "libelle_pays_etranger": null,
             "libelle_pays_etranger_2": null,
             "libelle_voie": "ETIENNE GANNERON",
             "libelle_voie_2": null,
             "liste_finess": null,
             "liste_idcc": null,
             "liste_rge": null,
             "liste_uai": null,
             "longitude": "2.712213",
             "nom_commercial": null,
             "nom_complet": "ganymede",
             "numero_voie": "36",
             "numero_voie_2": null,
             "siren": "409716305",
             "siret": "40971630500019",
             "tranche_effectif_salarie": "NN",
             "type_voie": "RUE",
             "type_voie_2": null
            }
           ],
           "etat_administratif_unite_legale": "A",
           "liste_dirigeants": [
            "arnaud grunberg"
           ],
           "nature_juridique_unite_legale": "6540",
           "nom_complet": "ganymede",
           "nom_raison_sociale": "GANYMEDE",
           "nombre_etablissements": 1,
           "nombre_etablissements_ouverts": 1,
           "section_activite_principale": "L",
           "siege": {
            "activite_principale": "68.20B",
            "activite_principale_registre_metier": null,
            "adresse": "36 RUE ETIENNE GANNERON 77058 BUSSY-SAINT-GEORGES",
            "cedex": null,
            "cedex_2": null,
            "code_pays_etranger": null,
            "code_pays_etranger_2": null,
            "code_postal": "77600",
            "commune": "77058",
            "commune_2": null,
            "complement_adresse": null,
            "complement_adresse_2": null,
            "coordonnees": "48.843915,2.712213",
            "date_creation": "1996-10-30",
            "date_debut_activite": "2008-01-01",
            "departement": "77",
            "distribution_speciale": null,
            "distribution_speciale_2": null,
            "enseigne_1": null,
            "enseigne_2": null,
            "enseigne_3": null,
            "est_siege": true,
            "etat_administratif": "A",
            "geo_adresse": "36 Rue Etienne Ganneron 77600 Bussy-Saint-Georges",
            "geo_id": "77058_0361_00036",
            "indice_repetition": null,
            "indice_repetition_2": null,
            "latitude": "48.843915",
            "libelle_cedex": null,
            "libelle_cedex_2": null,
            "libelle_commune": "BUSSY-SAINT-GEORGES",
            "libelle_commune_2": null,
            "libelle_commune_etranger": null,
            "libelle_commune_etranger_2": null,
            "libelle_pays_etranger": null,
            "libelle_pays_etranger_2": null,
            "libelle_voie": "ETIENNE GANNERON",
            "libelle_voie_2": null,
            "liste_finess": null,
            "liste_idcc": null,
            "liste_rge": null,
            "liste_uai": null,
            "longitude": "2.712213",
            "nom_commercial": null,
            "numero_voie": "36",
            "numero_voie_2": null,
            "siren": "409716305",
            "siret": "40971630500019",
            "tranche_effectif_salarie": "NN",
            "type_voie": "RUE",
            "type_voie_2": null
           },
           "siren": "409716305",
           "siret_siege": "40971630500019",
           "tranche_effectif_salarie_unite_legale": "NN"
          },
          "_type": "_doc",
          "inner_hits": {
           "etablissements": {
            "hits": {
             "hits": [
              {
               "_id": "409716305",
               "_index": "siren-green",
               "_nested": {
                "field": "etablissements",
                "offset": 0
               },
               "_score": 4171.5127,
               "_source": {
                "activite_principale": "68.20B",
                "activite_principale_registre_metier": null,
                "adresse": "36 RUE ETIENNE GANNERON 77058 BUSSY-SAINT-GEORGES",
                "cedex": null,
                "cedex_2": null,
                "code_pays_etranger": null,
                "code_pays_etranger_2": null,
                "code_postal": "77600",
                "commune": "77058",
                "commune_2": null,
                "complement_adresse": null,
                "complement_adresse_2": null,
                "concat_enseigne_adresse_siren_siret": "36 RUE ETIENNE GANNERON 77058 BUSSY-SAINT-GEORGES 409716305 40971630500019",
                "coordonnees": "48.843915,2.712213",
                "date_creation": "1996-10-30",
                "date_debut_activite": "2008-01-01",
                "departement": "77",
                "distribution_speciale": null,
                "distribution_speciale_2": null,
                "enseigne_1": null,
                "enseigne_2": null,
                "enseigne_3": null,
                "est_siege": true,
                "etat_administratif": "A",
                "geo_adresse": "36 Rue Etienne Ganneron 77600 Bussy-Saint-Georges",
                "geo_id": "77058_0361_00036",
                "indice_repetition": null,
                "indice_repetition_2": null,
                "latitude": "48.843915",
                "libelle_cedex": null,
                "libelle_cedex_2": null,
                "libelle_commune": "BUSSY-SAINT-GEORGES",
                "libelle_commune_2": null,
                "libelle_commune_etranger": null,
                "libelle_commune_etranger_2": null,
                "libelle_pays_etranger": null,
                "libelle_pays_etranger_2": null,
                "libelle_voie": "ETIENNE GANNERON",
                "libelle_voie_2": null,
                "liste_finess": null,
                "liste_idcc": null,
                "liste_rge": null,
                "liste_uai": null,
                "longitude": "2.712213",
                "nom_commercial": null,
                "nom_complet": "ganymede",
                "numero_voie": "36",
                "numero_voie_2": null,
                "siren": "409716305",
                "siret": "40971630500019",
                "tranche_effectif_salarie": "NN",
                "type_voie": "RUE",
                "type_voie_2": null
               },
               "_type": "_doc",
               "matched_queries": [
                "match nom complet et adresse"
               ]
              }
             ],
             "max_score": 4171.5127,
             "total": {
              "relation": "eq",
              "value": 1
             }
            }
           }
          },
          "matched_queries": [
           "exact nom_complet match",
           "partial nom_complet match with AND"
          ]
         },
         {
          "_explanation": {
           "description": "sum of:",
           "details": [
            {
             "description": "sum of:",
             "details": [
              {
               "description": "function score, product of:",
               "details": [
                {
                 "description": "weight(nom_complet:ganymed in 1311984) [PerFieldSimilarity], result of:",
                 "details": [
                  {
                   "description": "score(freq=1.0), computed as boost * idf * tf from:",
                   "details": [
                    {
                     "description": "boost",
                     "details": [],
                     "value": 110
                    },
                    {
                     "description": "idf, computed as log(1 + (N - n + 0.5) / (n + 0.5)) from:",
                     "details": [
                      {
                       "description": "n, number of documents containing term",
                       "details": [],
                       "value": 5
                      },
                      {
                       "description": "N, total number of documents with field",
                       "details": [],
                       "value": 5926652
                      }
                     ],
                     "value": 13.890223
                    },
                    {
                     "description": "tf, computed as freq / (freq + k1 * (1 - b + b * dl / avgdl)) from:",
                     "details": [
                      {
                       "description": "freq, occurrences of term within document",
                       "details": [],
                       "value": 1
                      },
                      {
                       "description": "k1, term saturation parameter",
                       "details": [],
                       "value": 1.2
                      },
                      {
                       "description": "b, length normalization parameter",
                       "details": [],
                       "value": 0.75
                      },
                      {
                       "description": "dl, length of field",
                       "details": [],
                       "value": 2
                      },
                      {
                       "description": "avgdl, average length of field",
                       "details": [],
                       "value": 2.3830183
                      }
                     ],
                     "value": 0.48653638
                    }
                   ],
                   "value": 743.39087
                  }
                 ],
                 "value": 743.39087
                },
                {
                 "description": "min of:",
                 "details": [
                  {
                   "description": "field value function: log1p(doc['nombre_etablissements_ouverts'].value?:1.0 * factor=1.0)",
                   "details": [],
                   "value": 0.30103
                  },
                  {
                   "description": "maxBoost",
                   "details": [],
                   "value": 3.4028235e+38
                  }
                 ],
                 "value": 0.30103
                }
               ],
               "value": 223.78296
              },
              {
               "description": "function score, product of:",
               "details": [
                {
                 "description": "Score based on 2 child docs in range from 17638559 to 17638561, best match:",
                 "details": [
                  {
                   "description": "sum of:",
                   "details": [
                    {
                     "description": "sum of:",
                     "details": [
                      {
                       "description": "weight(etablissements.enseigne_1:ganymed in 1311981) [PerFieldSimilarity], result of:",
                       "details": [
                        {
                         "description": "score(freq=1.0), computed as boost * idf * tf from:",
                         "details": [
                          {
                           "description": "boost",
                           "details": [],
                           "value": 2.2
                          },
                          {
                           "description": "idf, computed as log(1 + (N - n + 0.5) / (n + 0.5)) from:",
                           "details": [
                            {
                             "description": "n, number of documents containing term",
                             "details": [],
                             "value": 1
                            },
                            {
                             "description": "N, total number of documents with field",
                             "details": [],
                             "value": 715449
                            }
                           ],
                           "value": 13.075202
                          },
                          {
                           "description": "tf, computed as freq / (freq + k1 * (1 - b + b * dl / avgdl)) from:",
                           "details": [
                            {
                             "description": "freq, occurrences of term within document",
                             "details": [],
                             "value": 1
                            },
                            {
                             "description": "k1, term saturation parameter",
                             "details": [],
                             "value": 1.2
                            },
                            {
                             "description": "b, length normalization parameter",
                             "details": [],
                             "value": 0.75
                            },
                            {
                             "description": "dl, length of field",
                             "details": [],
                             "value": 3
                            },
                            {
                             "description": "avgdl, average length of field",
                             "details": [],
                             "value": 2.1420898
                            }
                           ],
                           "value": 0.39055616
                          }
                         ],
                         "value": 11.234522
                        }
                       ],
                       "value": 11.234522
                      },
                      {
                       "description": "max of:",
                       "details": [
                        {
                         "description": "weight(etablissements.concat_enseigne_adresse_siren_siret:ganymed in 1311981) [PerFieldSimilarity], result of:",
                         "details": [
                          {
                           "description": "score(freq=1.0), computed as boost * idf * tf from:",
                           "details": [
                            {
                             "description": "boost",
                             "details": [],
                             "value": 11
                            },
                            {
                             "description": "idf, computed as log(1 + (N - n + 0.5) / (n + 0.5)) from:",
                             "details": [
                              {
                               "description": "n, number of documents containing term",
                               "details": [],
                               "value": 7
                              },
                              {
                               "description": "N, total number of documents with field",
                               "details": [],
                               "value": 8399714
                              }
                             ],
                             "value": 13.928805
                            },
                            {
                             "description": "tf, computed as freq / (freq + k1 * (1 - b + b * dl / avgdl)) from:",
                             "details": [
                              {
                               "description": "freq, occurrences of term within document",
                               "details": [],
                               "value": 1
                              },
                              {
                               "description": "k1, term saturation parameter",
                               "details": [],
                               "value": 1.2
                              },
                              {
                               "description": "b, length normalization parameter",
                               "details": [],
                               "value": 0.75
                              },
                              {
                               "description": "dl, length of field",
                               "details": [],
                               "value": 11
                              },
                              {
                               "description": "avgdl, average length of field",
                               "details": [],
                               "value": 8.335565
                              }
                             ],
                             "value": 0.40198064
                            }
                           ],
                           "value": 61.59021
                          }
                         ],
                         "value": 61.59021
                        },
                        {
                         "description": "weight(etablissements.nom_complet:ganymed in 1311981) [PerFieldSimilarity], result of:",
                         "details": [
                          {
                           "description": "score(freq=1.0), computed as boost * idf * tf from:",
                           "details": [
                            {
                             "description": "boost",
                             "details": [],
                             "value": 550
                            },
                            {
                             "description": "idf, computed as log(1 + (N - n + 0.5) / (n + 0.5)) from:",
                             "details": [
                              {
                               "description": "n, number of documents containing term",
                               "details": [],
                               "value": 8
                              },
                              {
                               "description": "N, total number of documents with field",
                               "details": [],
                               "value": 8396706
                              }
                             ],
                             "value": 13.803284
                            },
                            {
                             "description": "tf, computed as freq / (freq + k1 * (1 - b + b * dl / avgdl)) from:",
                             "details": [
                              {
                               "description": "freq, occurrences of term within document",
                               "details": [],
                               "value": 1
                              },
                              {
                               "description": "k1, term saturation parameter",
                               "details": [],
                               "value": 1.2
                              },
                              {
                               "description": "b, length normalization parameter",
                               "details": [],
                               "value": 0.75
                              },
                              {
                               "description": "dl, length of field",
                               "details": [],
                               "value": 2
                              },
                              {
                               "description": "avgdl, average length of field",
                               "details": [],
                               "value": 2.3941002
                              }
                             ],
                             "value": 0.48736548
                            }
                           ],
                           "value": 3699.9841
                          }
                         ],
                         "value": 3699.9841
                        }
                       ],
                       "value": 3699.9841
                      }
                     ],
                     "value": 3711.2188
                    },
                    {
                     "description": "match on required clause, product of:",
                     "details": [
                      {
                       "description": "# clause",
                       "details": [],
                       "value": 0
                      },
                      {
                       "description": "_type:__etablissements",
                       "details": [],
                       "value": 1
                      }
                     ],
                     "value": 0
                    }
                   ],
                   "value": 3711.2188
                  }
                 ],
                 "value": 3705.6016
                },
                {
                 "description": "min of:",
                 "details": [
                  {
                   "description": "field value function: log1p(doc['nombre_etablissements_ouverts'].value?:1.0 * factor=1.0)",
                   "details": [],
                   "value": 0.30103
                  },
                  {
                   "description": "maxBoost",
                   "details": [],
                   "value": 3.4028235e+38
                  }
                 ],
                 "value": 0.30103
                }
               ],
               "value": 1115.4973
              }
             ],
             "value": 1339.2802
            },
            {
             "description": "match on required clause, product of:",
             "details": [
              {
               "description": "# clause",
               "details": [],
               "value": 0
              },
              {
               "description": "DocValuesFieldExistsQuery [field=_primary_term]",
               "details": [],
               "value": 1
              }
             ],
             "value": 0
            }
           ],
           "value": 1339.2802
          },
          "_id": "383657467",
          "_index": "siren-green",
          "_node": "W2iIuGaVTAyI8840GgZc7Q",
          "_score": 1339.2802,
          "_shard": "[siren-green][0]",
          "_source": {
           "activite_principale_unite_legale": "94.99Z",
           "date_creation_unite_legale": "1991-11-01",
           "date_mise_a_jour_unite_legale": "2017-05-20T02:14:10",
           "economie_sociale_solidaire_unite_legale": "O",
           "est_entrepreneur_individuel": false,
           "etablissements": [
            {
             "activite_principale": "91.3E",
             "activite_principale_registre_metier": null,
             "adresse": "13 PL FABRE D OLIVET 34111 GANGES",
             "cedex": null,
             "cedex_2": null,
             "code_pays_etranger": null,
             "code_pays_etranger_2": null,
             "code_postal": "34190",
             "commune": "34111",
             "commune_2": null,
             "complement_adresse": null,
             "complement_adresse_2": null,
             "concat_enseigne_adresse_siren_siret": "GANYMEDE AUDIO-VISUEL   13 PL FABRE D OLIVET 34111 GANGES 383657467 38365746700015",
             "coordonnees": "43.935042,3.710784",
             "date_creation": "1991-11-01",
             "date_debut_activite": "1993-12-25",
             "departement": "34",
             "distribution_speciale": null,
             "distribution_speciale_2": null,
             "enseigne_1": "GANYMEDE AUDIO-VISUEL",
             "enseigne_2": null,
             "enseigne_3": null,
             "est_siege": false,
             "etat_administratif": "F",
             "geo_adresse": "13 Place Fabre d’Olivet 34190 Ganges",
             "geo_id": "34111_0210_00013",
             "indice_repetition": null,
             "indice_repetition_2": null,
             "latitude": "43.935042",
             "libelle_cedex": null,
             "libelle_cedex_2": null,
             "libelle_commune": "GANGES",
             "libelle_commune_2": null,
             "libelle_commune_etranger": null,
             "libelle_commune_etranger_2": null,
             "libelle_pays_etranger": null,
             "libelle_pays_etranger_2": null,
             "libelle_voie": "FABRE D OLIVET",
             "libelle_voie_2": null,
             "liste_finess": null,
             "liste_idcc": null,
             "liste_rge": null,
             "liste_uai": null,
             "longitude": "3.710784",
             "nom_commercial": null,
             "nom_complet": "association ganymede",
             "numero_voie": "13",
             "numero_voie_2": null,
             "siren": "383657467",
             "siret": "38365746700015",
             "tranche_effectif_salarie": null,
             "type_voie": "PL",
             "type_voie_2": null
            },
            {
             "activite_principale": "94.99Z",
             "activite_principale_registre_metier": null,
             "adresse": "LOT LOU CLAPAS 48 CAMI DEL BLAGAIRE 34276 SAINT-MATHIEU-DE-TREVIERS",
             "cedex": null,
             "cedex_2": null,
             "code_pays_etranger": null,
             "code_pays_etranger_2": null,
             "code_postal": "34270",
             "commune": "34276",
             "commune_2": null,
             "complement_adresse": "LOT LOU CLAPAS",
             "complement_adresse_2": null,
             "concat_enseigne_adresse_siren_siret": "LOT LOU CLAPAS 48 CAMI DEL BLAGAIRE 34276 SAINT-MATHIEU-DE-TREVIERS 383657467 38365746700023",
             "coordonnees": "43.763569,3.866137",
             "date_creation": "1993-12-25",
             "date_debut_activite": "2008-01-01",
             "departement": "34",
             "distribution_speciale": null,
             "distribution_speciale_2": null,
             "enseigne_1": null,
             "enseigne_2": null,
             "enseigne_3": null,
             "est_siege": true,
             "etat_administratif": "A",
             "geo_adresse": "Rue Del Blagaire 34270 Saint-Mathieu-de-Tréviers",
             "geo_id": "34276_2t7f8j",
             "indice_repetition": null,
             "indice_repetition_2": null,
             "latitude": "43.763569",
             "libelle_cedex": null,
             "libelle_cedex_2": null,
             "libelle_commune": "SAINT-MATHIEU-DE-TREVIERS",
             "libelle_commune_2": null,
             "libelle_commune_etranger": null,
             "libelle_commune_etranger_2": null,
             "libelle_pays_etranger": null,
             "libelle_pays_etranger_2": null,
             "libelle_voie": "CAMI DEL BLAGAIRE",
             "libelle_voie_2": null,
             "liste_finess": null,
             "liste_idcc": null,
             "liste_rge": null,
             "liste_uai": null,
             "longitude": "3.866137",
             "nom_commercial": null,
             "nom_complet": "association ganymede",
             "numero_voie": "48",
             "numero_voie_2": null,
             "siren": "383657467",
             "siret": "38365746700023",
             "tranche_effectif_salarie": null,
             "type_voie": null,
             "type_voie_2": null
            }
           ],
           "etat_administratif_unite_legale": "A",
           "nature_juridique_unite_legale": "9220",
           "nom_complet": "association ganymede",
           "nom_raison_sociale": "ASSOCIATION GANYMEDE",
           "nombre_etablissements": 2,
           "nombre_etablissements_ouverts": 1,
           "section_activite_principale": "S",
           "siege": {
            "activite_principale": "94.99Z",
            "activite_principale_registre_metier": null,
            "adresse": "LOT LOU CLAPAS 48 CAMI DEL BLAGAIRE 34276 SAINT-MATHIEU-DE-TREVIERS",
            "cedex": null,
            "cedex_2": null,
            "code_pays_etranger": null,
            "code_pays_etranger_2": null,
            "code_postal": "34270",
            "commune": "34276",
            "commune_2": null,
            "complement_adresse": "LOT LOU CLAPAS",
            "complement_adresse_2": null,
            "coordonnees": "43.763569,3.866137",
            "date_creation": "1993-12-25",
            "date_debut_activite": "2008-01-01",
            "departement": "34",
            "distribution_speciale": null,
            "distribution_speciale_2": null,
            "enseigne_1": null,
            "enseigne_2": null,
            "enseigne_3": null,
            "est_siege": true,
            "etat_administratif": "A",
            "geo_adresse": "Rue Del Blagaire 34270 Saint-Mathieu-de-Tréviers",
            "geo_id": "34276_2t7f8j",
            "indice_repetition": null,
            "indice_repetition_2": null,
            "latitude": "43.763569",
            "libelle_cedex": null,
            "libelle_cedex_2": null,
            "libelle_commune": "SAINT-MATHIEU-DE-TREVIERS",
            "libelle_commune_2": null,
            "libelle_commune_etranger": null,
            "libelle_commune_etranger_2": null,
            "libelle_pays_etranger": null,
            "libelle_pays_etranger_2": null,
            "libelle_voie": "CAMI DEL BLAGAIRE",
            "libelle_voie_2": null,
            "liste_finess": null,
            "liste_idcc": null,
            "liste_rge": null,
            "liste_uai": null,
            "longitude": "3.866137",
            "nom_commercial": null,
            "numero_voie": "48",
            "numero_voie_2": null,
            "siren": "383657467",
            "siret": "38365746700023",
            "tranche_effectif_salarie": null,
            "type_voie": null,
            "type_voie_2": null
           },
           "siren": "383657467",
           "siret_siege": "38365746700023"
          },
          "_type": "_doc",
          "inner_hits": {
           "etablissements": {
            "hits": {
             "hits": [
              {
               "_id": "383657467",
               "_index": "siren-green",
               "_nested": {
                "field": "etablissements",
                "offset": 0
               },
               "_score": 3711.2188,
               "_source": {
                "activite_principale": "91.3E",
                "activite_principale_registre_metier": null,
                "adresse": "13 PL FABRE D OLIVET 34111 GANGES",
                "cedex": null,
                "cedex_2": null,
                "code_pays_etranger": null,
                "code_pays_etranger_2": null,
                "code_postal": "34190",
                "commune": "34111",
                "commune_2": null,
                "complement_adresse": null,
                "complement_adresse_2": null,
                "concat_enseigne_adresse_siren_siret": "GANYMEDE AUDIO-VISUEL   13 PL FABRE D OLIVET 34111 GANGES 383657467 38365746700015",
                "coordonnees": "43.935042,3.710784",
                "date_creation": "1991-11-01",
                "date_debut_activite": "1993-12-25",
                "departement": "34",
                "distribution_speciale": null,
                "distribution_speciale_2": null,
                "enseigne_1": "GANYMEDE AUDIO-VISUEL",
                "enseigne_2": null,
                "enseigne_3": null,
                "est_siege": false,
                "etat_administratif": "F",
                "geo_adresse": "13 Place Fabre d’Olivet 34190 Ganges",
                "geo_id": "34111_0210_00013",
                "indice_repetition": null,
                "indice_repetition_2": null,
                "latitude": "43.935042",
                "libelle_cedex": null,
                "libelle_cedex_2": null,
                "libelle_commune": "GANGES",
                "libelle_commune_2": null,
                "libelle_commune_etranger": null,
                "libelle_commune_etranger_2": null,
                "libelle_pays_etranger": null,
                "libelle_pays_etranger_2": null,
                "libelle_voie": "FABRE D OLIVET",
                "libelle_voie_2": null,
                "liste_finess": null,
                "liste_idcc": null,
                "liste_rge": null,
                "liste_uai": null,
                "longitude": "3.710784",
                "nom_commercial": null,
                "nom_complet": "association ganymede",
                "numero_voie": "13",
                "numero_voie_2": null,
                "siren": "383657467",
                "siret": "38365746700015",
                "tranche_effectif_salarie": null,
                "type_voie": "PL",
                "type_voie_2": null
               },
               "_type": "_doc",
               "matched_queries": [
                "partial match enseigne 1",
                "match nom complet et adresse"
               ]
              },
              {
               "_id": "383657467",
               "_index": "siren-green",
               "_nested": {
                "field": "etablissements",
                "offset": 1
               },
               "_score": 3699.9841,
               "_source": {
                "activite_principale": "94.99Z",
                "activite_principale_registre_metier": null,
                "adresse": "LOT LOU CLAPAS 48 CAMI DEL BLAGAIRE 34276 SAINT-MATHIEU-DE-TREVIERS",
                "cedex": null,
                "cedex_2": null,
                "code_pays_etranger": null,
                "code_pays_etranger_2": null,
                "code_postal": "34270",
                "commune": "34276",
                "commune_2": null,
                "complement_adresse": "LOT LOU CLAPAS",
                "complement_adresse_2": null,
                "concat_enseigne_adresse_siren_siret": "LOT LOU CLAPAS 48 CAMI DEL BLAGAIRE 34276 SAINT-MATHIEU-DE-TREVIERS 383657467 38365746700023",
                "coordonnees": "43.763569,3.866137",
                "date_creation": "1993-12-25",
                "date_debut_activite": "2008-01-01",
                "departement": "34",
                "distribution_speciale": null,
                "distribution_speciale_2": null,
                "enseigne_1": null,
                "enseigne_2": null,
                "enseigne_3": null,
                "est_siege": true,
                "etat_administratif": "A",
                "geo_adresse": "Rue Del Blagaire 34270 Saint-Mathieu-de-Tréviers",
                "geo_id": "34276_2t7f8j",
                "indice_repetition": null,
                "indice_repetition_2": null,
                "latitude": "43.763569",
                "libelle_cedex": null,
                "libelle_cedex_2": null,
                "libelle_commune": "SAINT-MATHIEU-DE-TREVIERS",
                "libelle_commune_2": null,
                "libelle_commune_etranger": null,
                "libelle_commune_etranger_2": null,
                "libelle_pays_etranger": null,
                "libelle_pays_etranger_2": null,
                "libelle_voie": "CAMI DEL BLAGAIRE",
                "libelle_voie_2": null,
                "liste_finess": null,
                "liste_idcc": null,
                "liste_rge": null,
                "liste_uai": null,
                "longitude": "3.866137",
                "nom_commercial": null,
                "nom_complet": "association ganymede",
                "numero_voie": "48",
                "numero_voie_2": null,
                "siren": "383657467",
                "siret": "38365746700023",
                "tranche_effectif_salarie": null,
                "type_voie": null,
                "type_voie_2": null
               },
               "_type": "_doc",
               "matched_queries": [
                "match nom complet et adresse"
               ]
              }
             ],
             "max_score": 3711.2188,
             "total": {
              "relation": "eq",
              "value": 2
             }
            }
           }
          },
          "matched_queries": [
           "partial nom_complet match with AND"
          ]
         },
         {
          "_explanation": {
           "description": "sum of:",
           "details": [
            {
             "description": "sum of:",
             "details": [
              {
               "description": "function score, product of:",
               "details": [
                {
                 "description": "weight(nom_complet:ganymed in 684213) [PerFieldSimilarity], result of:",
                 "details": [
                  {
                   "description": "score(freq=1.0), computed as boost * idf * tf from:",
                   "details": [
                    {
                     "description": "boost",
                     "details": [],
                     "value": 110
                    },
                    {
                     "description": "idf, computed as log(1 + (N - n + 0.5) / (n + 0.5)) from:",
                     "details": [
                      {
                       "description": "n, number of documents containing term",
                       "details": [],
                       "value": 5
                      },
                      {
                       "description": "N, total number of documents with field",
                       "details": [],
                       "value": 5926652
                      }
                     ],
                     "value": 13.890223
                    },
                    {
                     "description": "tf, computed as freq / (freq + k1 * (1 - b + b * dl / avgdl)) from:",
                     "details": [
                      {
                       "description": "freq, occurrences of term within document",
                       "details": [],
                       "value": 1
                      },
                      {
                       "description": "k1, term saturation parameter",
                       "details": [],
                       "value": 1.2
                      },
                      {
                       "description": "b, length normalization parameter",
                       "details": [],
                       "value": 0.75
                      },
                      {
                       "description": "dl, length of field",
                       "details": [],
                       "value": 2
                      },
                      {
                       "description": "avgdl, average length of field",
                       "details": [],
                       "value": 2.3830183
                      }
                     ],
                     "value": 0.48653638
                    }
                   ],
                   "value": 743.39087
                  }
                 ],
                 "value": 743.39087
                },
                {
                 "description": "min of:",
                 "details": [
                  {
                   "description": "field value function: log1p(doc['nombre_etablissements_ouverts'].value?:1.0 * factor=1.0)",
                   "details": [],
                   "value": 0.30103
                  },
                  {
                   "description": "maxBoost",
                   "details": [],
                   "value": 3.4028235e+38
                  }
                 ],
                 "value": 0.30103
                }
               ],
               "value": 223.78296
              },
              {
               "description": "function score, product of:",
               "details": [
                {
                 "description": "Score based on 1 child docs in range from 20562621 to 20562623, best match:",
                 "details": [
                  {
                   "description": "sum of:",
                   "details": [
                    {
                     "description": "sum of:",
                     "details": [
                      {
                       "description": "max of:",
                       "details": [
                        {
                         "description": "weight(etablissements.nom_complet:ganymed in 684211) [PerFieldSimilarity], result of:",
                         "details": [
                          {
                           "description": "score(freq=1.0), computed as boost * idf * tf from:",
                           "details": [
                            {
                             "description": "boost",
                             "details": [],
                             "value": 550
                            },
                            {
                             "description": "idf, computed as log(1 + (N - n + 0.5) / (n + 0.5)) from:",
                             "details": [
                              {
                               "description": "n, number of documents containing term",
                               "details": [],
                               "value": 8
                              },
                              {
                               "description": "N, total number of documents with field",
                               "details": [],
                               "value": 8396706
                              }
                             ],
                             "value": 13.803284
                            },
                            {
                             "description": "tf, computed as freq / (freq + k1 * (1 - b + b * dl / avgdl)) from:",
                             "details": [
                              {
                               "description": "freq, occurrences of term within document",
                               "details": [],
                               "value": 1
                              },
                              {
                               "description": "k1, term saturation parameter",
                               "details": [],
                               "value": 1.2
                              },
                              {
                               "description": "b, length normalization parameter",
                               "details": [],
                               "value": 0.75
                              },
                              {
                               "description": "dl, length of field",
                               "details": [],
                               "value": 2
                              },
                              {
                               "description": "avgdl, average length of field",
                               "details": [],
                               "value": 2.3941002
                              }
                             ],
                             "value": 0.48736548
                            }
                           ],
                           "value": 3699.9841
                          }
                         ],
                         "value": 3699.9841
                        }
                       ],
                       "value": 3699.9841
                      }
                     ],
                     "value": 3699.9841
                    },
                    {
                     "description": "match on required clause, product of:",
                     "details": [
                      {
                       "description": "# clause",
                       "details": [],
                       "value": 0
                      },
                      {
                       "description": "_type:__etablissements",
                       "details": [],
                       "value": 1
                      }
                     ],
                     "value": 0
                    }
                   ],
                   "value": 3699.9841
                  }
                 ],
                 "value": 3699.9841
                },
                {
                 "description": "min of:",
                 "details": [
                  {
                   "description": "field value function: log1p(doc['nombre_etablissements_ouverts'].value?:1.0 * factor=1.0)",
                   "details": [],
                   "value": 0.30103
                  },
                  {
                   "description": "maxBoost",
                   "details": [],
                   "value": 3.4028235e+38
                  }
                 ],
                 "value": 0.30103
                }
               ],
               "value": 1113.8063
              }
             ],
             "value": 1337.5891
            },
            {
             "description": "match on required clause, product of:",
             "details": [
              {
               "description": "# clause",
               "details": [],
               "value": 0
              },
              {
               "description": "DocValuesFieldExistsQuery [field=_primary_term]",
               "details": [],
               "value": 1
              }
             ],
             "value": 0
            }
           ],
           "value": 1337.5891
          },
          "_id": "428497200",
          "_index": "siren-green",
          "_node": "W2iIuGaVTAyI8840GgZc7Q",
          "_score": 1337.5891,
          "_shard": "[siren-green][0]",
          "_source": {
           "activite_principale_unite_legale": "68.20B",
           "date_creation_unite_legale": "1973-01-01",
           "date_mise_a_jour_unite_legale": "2011-12-06T04:56:57",
           "dirigeants_pp": [
            {
             "date_naissance": "1960-11-10",
             "nom": "faux",
             "pays_naissance": "FRANCE",
             "prenoms": "alexandre hadrien denis",
             "qualite": "Gérant",
             "ville_naissance": "92012 Boulogne-Billancourt (92)"
            }
           ],
           "est_entrepreneur_individuel": false,
           "etablissements": [
            {
             "activite_principale": "68.20B",
             "activite_principale_registre_metier": null,
             "adresse": "4 BD SAINT DENIS 92026 COURBEVOIE",
             "cedex": null,
             "cedex_2": null,
             "code_pays_etranger": null,
             "code_pays_etranger_2": null,
             "code_postal": "92400",
             "commune": "92026",
             "commune_2": null,
             "complement_adresse": null,
             "complement_adresse_2": null,
             "concat_enseigne_adresse_siren_siret": "4 BD SAINT DENIS 92026 COURBEVOIE 428497200 42849720000017",
             "coordonnees": "48.896109,2.257231",
             "date_creation": "1973-01-01",
             "date_debut_activite": "2008-01-01",
             "departement": "92",
             "distribution_speciale": null,
             "distribution_speciale_2": null,
             "enseigne_1": null,
             "enseigne_2": null,
             "enseigne_3": null,
             "est_siege": true,
             "etat_administratif": "A",
             "geo_adresse": "4 Boulevard Saint-Denis 92400 Courbevoie",
             "geo_id": "92026_8620_00004",
             "indice_repetition": null,
             "indice_repetition_2": null,
             "latitude": "48.896109",
             "libelle_cedex": null,
             "libelle_cedex_2": null,
             "libelle_commune": "COURBEVOIE",
             "libelle_commune_2": null,
             "libelle_commune_etranger": null,
             "libelle_commune_etranger_2": null,
             "libelle_pays_etranger": null,
             "libelle_pays_etranger_2": null,
             "libelle_voie": "SAINT DENIS",
             "libelle_voie_2": null,
             "liste_finess": null,
             "liste_idcc": null,
             "liste_rge": null,
             "liste_uai": null,
             "longitude": "2.257231",
             "nom_commercial": null,
             "nom_complet": "sci  ganymede",
             "numero_voie": "4",
             "numero_voie_2": null,
             "siren": "428497200",
             "siret": "42849720000017",
             "tranche_effectif_salarie": "NN",
             "type_voie": "BD",
             "type_voie_2": null
            }
           ],
           "etat_administratif_unite_legale": "A",
           "liste_dirigeants": [
            "alexandre hadrien denis faux"
           ],
           "nature_juridique_unite_legale": "6540",
           "nom_complet": "sci  ganymede",
           "nom_raison_sociale": "SCI  GANYMEDE",
           "nombre_etablissements": 1,
           "nombre_etablissements_ouverts": 1,
           "section_activite_principale": "L",
           "siege": {
            "activite_principale": "68.20B",
            "activite_principale_registre_metier": null,
            "adresse": "4 BD SAINT DENIS 92026 COURBEVOIE",
            "cedex": null,
            "cedex_2": null,
            "code_pays_etranger": null,
            "code_pays_etranger_2": null,
            "code_postal": "92400",
            "commune": "92026",
            "commune_2": null,
            "complement_adresse": null,
            "complement_adresse_2": null,
            "coordonnees": "48.896109,2.257231",
            "date_creation": "1973-01-01",
            "date_debut_activite": "2008-01-01",
            "departement": "92",
            "distribution_speciale": null,
            "distribution_speciale_2": null,
            "enseigne_1": null,
            "enseigne_2": null,
            "enseigne_3": null,
            "est_siege": true,
            "etat_administratif": "A",
            "geo_adresse": "4 Boulevard Saint-Denis 92400 Courbevoie",
            "geo_id": "92026_8620_00004",
            "indice_repetition": null,
            "indice_repetition_2": null,
            "latitude": "48.896109",
            "libelle_cedex": null,
            "libelle_cedex_2": null,
            "libelle_commune": "COURBEVOIE",
            "libelle_commune_2": null,
            "libelle_commune_etranger": null,
            "libelle_commune_etranger_2": null,
            "libelle_pays_etranger": null,
            "libelle_pays_etranger_2": null,
            "libelle_voie": "SAINT DENIS",
            "libelle_voie_2": null,
            "liste_finess": null,
            "liste_idcc": null,
            "liste_rge": null,
            "liste_uai": null,
            "longitude": "2.257231",
            "nom_commercial": null,
            "numero_voie": "4",
            "numero_voie_2": null,
            "siren": "428497200",
            "siret": "42849720000017",
            "tranche_effectif_salarie": "NN",
            "type_voie": "BD",
            "type_voie_2": null
           },
           "siren": "428497200",
           "siret_siege": "42849720000017",
           "tranche_effectif_salarie_unite_legale": "NN"
          },
          "_type": "_doc",
          "inner_hits": {
           "etablissements": {
            "hits": {
             "hits": [
              {
               "_id": "428497200",
               "_index": "siren-green",
               "_nested": {
                "field": "etablissements",
                "offset": 0
               },
               "_score": 3699.9841,
               "_source": {
                "activite_principale": "68.20B",
                "activite_principale_registre_metier": null,
                "adresse": "4 BD SAINT DENIS 92026 COURBEVOIE",
                "cedex": null,
                "cedex_2": null,
                "code_pays_etranger": null,
                "code_pays_etranger_2": null,
                "code_postal": "92400",
                "commune": "92026",
                "commune_2": null,
                "complement_adresse": null,
                "complement_adresse_2": null,
                "concat_enseigne_adresse_siren_siret": "4 BD SAINT DENIS 92026 COURBEVOIE 428497200 42849720000017",
                "coordonnees": "48.896109,2.257231",
                "date_creation": "1973-01-01",
                "date_debut_activite": "2008-01-01",
                "departement": "92",
                "distribution_speciale": null,
                "distribution_speciale_2": null,
                "enseigne_1": null,
                "enseigne_2": null,
                "enseigne_3": null,
                "est_siege": true,
                "etat_administratif": "A",
                "geo_adresse": "4 Boulevard Saint-Denis 92400 Courbevoie",
                "geo_id": "92026_8620_00004",
                "indice_repetition": null,
                "indice_repetition_2": null,
                "latitude": "48.896109",
                "libelle_cedex": null,
                "libelle_cedex_2": null,
                "libelle_commune": "COURBEVOIE",
                "libelle_commune_2": null,
                "libelle_commune_etranger": null,
                "libelle_commune_etranger_2": null,
                "libelle_pays_etranger": null,
                "libelle_pays_etranger_2": null,
                "libelle_voie": "SAINT DENIS",
                "libelle_voie_2": null,
                "liste_finess": null,
                "liste_idcc": null,
                "liste_rge": null,
                "liste_uai": null,
                "longitude": "2.257231",
                "nom_commercial": null,
                "nom_complet": "sci  ganymede",
                "numero_voie": "4",
                "numero_voie_2": null,
                "siren": "428497200",
                "siret": "42849720000017",
                "tranche_effectif_salarie": "NN",
                "type_voie": "BD",
                "type_voie_2": null
               },
               "_type": "_doc",
               "matched_queries": [
                "match nom complet et adresse"
               ]
              }
             ],
             "max_score": 3699.9841,
             "total": {
              "relation": "eq",
              "value": 1
             }
            }
           }
          },
          "matched_queries": [
           "partial nom_complet match with AND"
          ]
         },
         {
          "_explanation": {
           "description": "sum of:",
           "details": [
            {
             "description": "sum of:",
             "details": [
              {
               "description": "function score, product of:",
               "details": [
                {
                 "description": "weight(nom_complet:ganymed in 8598151) [PerFieldSimilarity], result of:",
                 "details": [
                  {
                   "description": "score(freq=1.0), computed as boost * idf * tf from:",
                   "details": [
                    {
                     "description": "boost",
                     "details": [],
                     "value": 110
                    },
                    {
                     "description": "idf, computed as log(1 + (N - n + 0.5) / (n + 0.5)) from:",
                     "details": [
                      {
                       "description": "n, number of documents containing term",
                       "details": [],
                       "value": 10
                      },
                      {
                       "description": "N, total number of documents with field",
                       "details": [],
                       "value": 5925219
                      }
                     ],
                     "value": 13.243353
                    },
                    {
                     "description": "tf, computed as freq / (freq + k1 * (1 - b + b * dl / avgdl)) from:",
                     "details": [
                      {
                       "description": "freq, occurrences of term within document",
                       "details": [],
                       "value": 1
                      },
                      {
                       "description": "k1, term saturation parameter",
                       "details": [],
                       "value": 1.2
                      },
                      {
                       "description": "b, length normalization parameter",
                       "details": [],
                       "value": 0.75
                      },
                      {
                       "description": "dl, length of field",
                       "details": [],
                       "value": 2
                      },
                      {
                       "description": "avgdl, average length of field",
                       "details": [],
                       "value": 2.3824754
                      }
                     ],
                     "value": 0.48649567
                    }
                   ],
                   "value": 708.7117
                  }
                 ],
                 "value": 708.7117
                },
                {
                 "description": "min of:",
                 "details": [
                  {
                   "description": "field value function: log1p(doc['nombre_etablissements_ouverts'].value?:1.0 * factor=1.0)",
                   "details": [],
                   "value": 0.30103
                  },
                  {
                   "description": "maxBoost",
                   "details": [],
                   "value": 3.4028235e+38
                  }
                 ],
                 "value": 0.30103
                }
               ],
               "value": 213.34348
              },
              {
               "description": "function score, product of:",
               "details": [
                {
                 "description": "Score based on 3 child docs in range from 8598145 to 8598150, best match:",
                 "details": [
                  {
                   "description": "sum of:",
                   "details": [
                    {
                     "description": "sum of:",
                     "details": [
                      {
                       "description": "max of:",
                       "details": [
                        {
                         "description": "weight(etablissements.nom_complet:ganymed in 8598147) [PerFieldSimilarity], result of:",
                         "details": [
                          {
                           "description": "score(freq=1.0), computed as boost * idf * tf from:",
                           "details": [
                            {
                             "description": "boost",
                             "details": [],
                             "value": 550
                            },
                            {
                             "description": "idf, computed as log(1 + (N - n + 0.5) / (n + 0.5)) from:",
                             "details": [
                              {
                               "description": "n, number of documents containing term",
                               "details": [],
                               "value": 13
                              },
                              {
                               "description": "N, total number of documents with field",
                               "details": [],
                               "value": 8383344
                              }
                             ],
                             "value": 13.339067
                            },
                            {
                             "description": "tf, computed as freq / (freq + k1 * (1 - b + b * dl / avgdl)) from:",
                             "details": [
                              {
                               "description": "freq, occurrences of term within document",
                               "details": [],
                               "value": 1
                              },
                              {
                               "description": "k1, term saturation parameter",
                               "details": [],
                               "value": 1.2
                              },
                              {
                               "description": "b, length normalization parameter",
                               "details": [],
                               "value": 0.75
                              },
                              {
                               "description": "dl, length of field",
                               "details": [],
                               "value": 2
                              },
                              {
                               "description": "avgdl, average length of field",
                               "details": [],
                               "value": 2.389612
                              }
                             ],
                             "value": 0.48703027
                            }
                           ],
                           "value": 3573.0916
                          }
                         ],
                         "value": 3573.0916
                        }
                       ],
                       "value": 3573.0916
                      }
                     ],
                     "value": 3573.0916
                    },
                    {
                     "description": "match on required clause, product of:",
                     "details": [
                      {
                       "description": "# clause",
                       "details": [],
                       "value": 0
                      },
                      {
                       "description": "_type:__etablissements",
                       "details": [],
                       "value": 1
                      }
                     ],
                     "value": 0
                    }
                   ],
                   "value": 3573.0916
                  }
                 ],
                 "value": 3573.0916
                },
                {
                 "description": "min of:",
                 "details": [
                  {
                   "description": "field value function: log1p(doc['nombre_etablissements_ouverts'].value?:1.0 * factor=1.0)",
                   "details": [],
                   "value": 0.30103
                  },
                  {
                   "description": "maxBoost",
                   "details": [],
                   "value": 3.4028235e+38
                  }
                 ],
                 "value": 0.30103
                }
               ],
               "value": 1075.6078
              }
             ],
             "value": 1288.9513
            },
            {
             "description": "match on required clause, product of:",
             "details": [
              {
               "description": "# clause",
               "details": [],
               "value": 0
              },
              {
               "description": "DocValuesFieldExistsQuery [field=_primary_term]",
               "details": [],
               "value": 1
              }
             ],
             "value": 0
            }
           ],
           "value": 1288.9513
          },
          "_id": "417691474",
          "_index": "siren-green",
          "_node": "W2iIuGaVTAyI8840GgZc7Q",
          "_score": 1288.9513,
          "_shard": "[siren-green][1]",
          "_source": {
           "activite_principale_unite_legale": "68.20B",
           "date_creation_unite_legale": "1997-12-22",
           "date_mise_a_jour_unite_legale": "2013-06-11T03:15:57",
           "dirigeants_pp": [
            {
             "date_naissance": "1940-05-30",
             "nom": "bartsch",
             "pays_naissance": "ALLEMAGNE",
             "prenoms": "paul ernst jürgen",
             "qualite": "Gérant, Associé indéfiniment responsable",
             "ville_naissance": " Ottweiler "
            },
            {
             "date_naissance": "1943-11-29",
             "nom": "lucke",
             "pays_naissance": "FRANCE",
             "prenoms": "jean-jacques",
             "qualite": "Gérant, Associé indéfiniment responsable",
             "ville_naissance": "67482 Strasbourg "
            }
           ],
           "est_entrepreneur_individuel": false,
           "etablissements": [
            {
             "activite_principale": "70.2C",
             "activite_principale_registre_metier": null,
             "adresse": "1 QUAI CHARLES FREY 67482 STRASBOURG",
             "cedex": null,
             "cedex_2": null,
             "code_pays_etranger": null,
             "code_pays_etranger_2": null,
             "code_postal": "67000",
             "commune": "67482",
             "commune_2": null,
             "complement_adresse": null,
             "complement_adresse_2": null,
             "concat_enseigne_adresse_siren_siret": "1 QUAI CHARLES FREY 67482 STRASBOURG 417691474 41769147400015",
             "coordonnees": "48.578629,7.745584",
             "date_creation": "1997-12-22",
             "date_debut_activite": "2005-05-20",
             "departement": "67",
             "distribution_speciale": null,
             "distribution_speciale_2": null,
             "enseigne_1": null,
             "enseigne_2": null,
             "enseigne_3": null,
             "est_siege": false,
             "etat_administratif": "F",
             "geo_adresse": "1 Quai Charles Frey 67000 Strasbourg",
             "geo_id": "67482_1185_00001",
             "indice_repetition": null,
             "indice_repetition_2": null,
             "latitude": "48.578629",
             "libelle_cedex": null,
             "libelle_cedex_2": null,
             "libelle_commune": "STRASBOURG",
             "libelle_commune_2": null,
             "libelle_commune_etranger": null,
             "libelle_commune_etranger_2": null,
             "libelle_pays_etranger": null,
             "libelle_pays_etranger_2": null,
             "libelle_voie": "CHARLES FREY",
             "libelle_voie_2": null,
             "liste_finess": null,
             "liste_idcc": null,
             "liste_rge": null,
             "liste_uai": null,
             "longitude": "7.745584",
             "nom_commercial": null,
             "nom_complet": "sci ganymede",
             "numero_voie": "1",
             "numero_voie_2": null,
             "siren": "417691474",
             "siret": "41769147400015",
             "tranche_effectif_salarie": "NN",
             "type_voie": "QUAI",
             "type_voie_2": null
            },
            {
             "activite_principale": "68.20B",
             "activite_principale_registre_metier": null,
             "adresse": "4 RUE DES PONTONNIERS 67482 STRASBOURG",
             "cedex": null,
             "cedex_2": null,
             "code_pays_etranger": null,
             "code_pays_etranger_2": null,
             "code_postal": "67000",
             "commune": "67482",
             "commune_2": null,
             "complement_adresse": null,
             "complement_adresse_2": null,
             "concat_enseigne_adresse_siren_siret": "4 RUE DES PONTONNIERS 67482 STRASBOURG 417691474 41769147400023",
             "coordonnees": "48.583941,7.756994",
             "date_creation": "2005-05-20",
             "date_debut_activite": "2008-01-01",
             "departement": "67",
             "distribution_speciale": null,
             "distribution_speciale_2": null,
             "enseigne_1": null,
             "enseigne_2": null,
             "enseigne_3": null,
             "est_siege": false,
             "etat_administratif": "F",
             "geo_adresse": "4 Rue des Pontonniers 67000 Strasbourg",
             "geo_id": "67482_5255_00004",
             "indice_repetition": null,
             "indice_repetition_2": null,
             "latitude": "48.583941",
             "libelle_cedex": null,
             "libelle_cedex_2": null,
             "libelle_commune": "STRASBOURG",
             "libelle_commune_2": null,
             "libelle_commune_etranger": null,
             "libelle_commune_etranger_2": null,
             "libelle_pays_etranger": null,
             "libelle_pays_etranger_2": null,
             "libelle_voie": "DES PONTONNIERS",
             "libelle_voie_2": null,
             "liste_finess": null,
             "liste_idcc": null,
             "liste_rge": null,
             "liste_uai": null,
             "longitude": "7.756994",
             "nom_commercial": null,
             "nom_complet": "sci ganymede",
             "numero_voie": "4",
             "numero_voie_2": null,
             "siren": "417691474",
             "siret": "41769147400023",
             "tranche_effectif_salarie": null,
             "type_voie": "RUE",
             "type_voie_2": null
            },
            {
             "activite_principale": "68.20B",
             "activite_principale_registre_metier": null,
             "adresse": "14 QUAI KLEBER 67482 STRASBOURG",
             "cedex": null,
             "cedex_2": null,
             "code_pays_etranger": null,
             "code_pays_etranger_2": null,
             "code_postal": "67000",
             "commune": "67482",
             "commune_2": null,
             "complement_adresse": null,
             "complement_adresse_2": null,
             "concat_enseigne_adresse_siren_siret": "14 QUAI KLEBER 67482 STRASBOURG 417691474 41769147400031",
             "coordonnees": "48.586775,7.74569",
             "date_creation": "2007-05-30",
             "date_debut_activite": "2007-05-30",
             "departement": "67",
             "distribution_speciale": null,
             "distribution_speciale_2": null,
             "enseigne_1": null,
             "enseigne_2": null,
             "enseigne_3": null,
             "est_siege": true,
             "etat_administratif": "A",
             "geo_adresse": "14 Quai Kléber 67000 Strasbourg",
             "geo_id": "67482_3710_00014",
             "indice_repetition": null,
             "indice_repetition_2": null,
             "latitude": "48.586775",
             "libelle_cedex": null,
             "libelle_cedex_2": null,
             "libelle_commune": "STRASBOURG",
             "libelle_commune_2": null,
             "libelle_commune_etranger": null,
             "libelle_commune_etranger_2": null,
             "libelle_pays_etranger": null,
             "libelle_pays_etranger_2": null,
             "libelle_voie": "KLEBER",
             "libelle_voie_2": null,
             "liste_finess": null,
             "liste_idcc": null,
             "liste_rge": null,
             "liste_uai": null,
             "longitude": "7.74569",
             "nom_commercial": null,
             "nom_complet": "sci ganymede",
             "numero_voie": "14",
             "numero_voie_2": null,
             "siren": "417691474",
             "siret": "41769147400031",
             "tranche_effectif_salarie": null,
             "type_voie": "QUAI",
             "type_voie_2": null
            }
           ],
           "etat_administratif_unite_legale": "A",
           "liste_dirigeants": [
            "paul ernst jürgen bartsch",
            "jean-jacques lucke"
           ],
           "nature_juridique_unite_legale": "6540",
           "nom_complet": "sci ganymede",
           "nom_raison_sociale": "SCI GANYMEDE",
           "nombre_etablissements": 3,
           "nombre_etablissements_ouverts": 1,
           "section_activite_principale": "L",
           "siege": {
            "activite_principale": "68.20B",
            "activite_principale_registre_metier": null,
            "adresse": "14 QUAI KLEBER 67482 STRASBOURG",
            "cedex": null,
            "cedex_2": null,
            "code_pays_etranger": null,
            "code_pays_etranger_2": null,
            "code_postal": "67000",
            "commune": "67482",
            "commune_2": null,
            "complement_adresse": null,
            "complement_adresse_2": null,
            "coordonnees": "48.586775,7.74569",
            "date_creation": "2007-05-30",
            "date_debut_activite": "2007-05-30",
            "departement": "67",
            "distribution_speciale": null,
            "distribution_speciale_2": null,
            "enseigne_1": null,
            "enseigne_2": null,
            "enseigne_3": null,
            "est_siege": true,
            "etat_administratif": "A",
            "geo_adresse": "14 Quai Kléber 67000 Strasbourg",
            "geo_id": "67482_3710_00014",
            "indice_repetition": null,
            "indice_repetition_2": null,
            "latitude": "48.586775",
            "libelle_cedex": null,
            "libelle_cedex_2": null,
            "libelle_commune": "STRASBOURG",
            "libelle_commune_2": null,
            "libelle_commune_etranger": null,
            "libelle_commune_etranger_2": null,
            "libelle_pays_etranger": null,
            "libelle_pays_etranger_2": null,
            "libelle_voie": "KLEBER",
            "libelle_voie_2": null,
            "liste_finess": null,
            "liste_idcc": null,
            "liste_rge": null,
            "liste_uai": null,
            "longitude": "7.74569",
            "nom_commercial": null,
            "numero_voie": "14",
            "numero_voie_2": null,
            "siren": "417691474",
            "siret": "41769147400031",
            "tranche_effectif_salarie": null,
            "type_voie": "QUAI",
            "type_voie_2": null
           },
           "siren": "417691474",
           "siret_siege": "41769147400031",
           "tranche_effectif_salarie_unite_legale": "NN"
          },
          "_type": "_doc",
          "inner_hits": {
           "etablissements": {
            "hits": {
             "hits": [
              {
               "_id": "417691474",
               "_index": "siren-green",
               "_nested": {
                "field": "etablissements",
                "offset": 0
               },
               "_score": 3573.0916,
               "_source": {
                "activite_principale": "70.2C",
                "activite_principale_registre_metier": null,
                "adresse": "1 QUAI CHARLES FREY 67482 STRASBOURG",
                "cedex": null,
                "cedex_2": null,
                "code_pays_etranger": null,
                "code_pays_etranger_2": null,
                "code_postal": "67000",
                "commune": "67482",
                "commune_2": null,
                "complement_adresse": null,
                "complement_adresse_2": null,
                "concat_enseigne_adresse_siren_siret": "1 QUAI CHARLES FREY 67482 STRASBOURG 417691474 41769147400015",
                "coordonnees": "48.578629,7.745584",
                "date_creation": "1997-12-22",
                "date_debut_activite": "2005-05-20",
                "departement": "67",
                "distribution_speciale": null,
                "distribution_speciale_2": null,
                "enseigne_1": null,
                "enseigne_2": null,
                "enseigne_3": null,
                "est_siege": false,
                "etat_administratif": "F",
                "geo_adresse": "1 Quai Charles Frey 67000 Strasbourg",
                "geo_id": "67482_1185_00001",
                "indice_repetition": null,
                "indice_repetition_2": null,
                "latitude": "48.578629",
                "libelle_cedex": null,
                "libelle_cedex_2": null,
                "libelle_commune": "STRASBOURG",
                "libelle_commune_2": null,
                "libelle_commune_etranger": null,
                "libelle_commune_etranger_2": null,
                "libelle_pays_etranger": null,
                "libelle_pays_etranger_2": null,
                "libelle_voie": "CHARLES FREY",
                "libelle_voie_2": null,
                "liste_finess": null,
                "liste_idcc": null,
                "liste_rge": null,
                "liste_uai": null,
                "longitude": "7.745584",
                "nom_commercial": null,
                "nom_complet": "sci ganymede",
                "numero_voie": "1",
                "numero_voie_2": null,
                "siren": "417691474",
                "siret": "41769147400015",
                "tranche_effectif_salarie": "NN",
                "type_voie": "QUAI",
                "type_voie_2": null
               },
               "_type": "_doc",
               "matched_queries": [
                "match nom complet et adresse"
               ]
              },
              {
               "_id": "417691474",
               "_index": "siren-green",
               "_nested": {
                "field": "etablissements",
                "offset": 1
               },
               "_score": 3573.0916,
               "_source": {
                "activite_principale": "68.20B",
                "activite_principale_registre_metier": null,
                "adresse": "4 RUE DES PONTONNIERS 67482 STRASBOURG",
                "cedex": null,
                "cedex_2": null,
                "code_pays_etranger": null,
                "code_pays_etranger_2": null,
                "code_postal": "67000",
                "commune": "67482",
                "commune_2": null,
                "complement_adresse": null,
                "complement_adresse_2": null,
                "concat_enseigne_adresse_siren_siret": "4 RUE DES PONTONNIERS 67482 STRASBOURG 417691474 41769147400023",
                "coordonnees": "48.583941,7.756994",
                "date_creation": "2005-05-20",
                "date_debut_activite": "2008-01-01",
                "departement": "67",
                "distribution_speciale": null,
                "distribution_speciale_2": null,
                "enseigne_1": null,
                "enseigne_2": null,
                "enseigne_3": null,
                "est_siege": false,
                "etat_administratif": "F",
                "geo_adresse": "4 Rue des Pontonniers 67000 Strasbourg",
                "geo_id": "67482_5255_00004",
                "indice_repetition": null,
                "indice_repetition_2": null,
                "latitude": "48.583941",
                "libelle_cedex": null,
                "libelle_cedex_2": null,
                "libelle_commune": "STRASBOURG",
                "libelle_commune_2": null,
                "libelle_commune_etranger": null,
                "libelle_commune_etranger_2": null,
                "libelle_pays_etranger": null,
                "libelle_pays_etranger_2": null,
                "libelle_voie": "DES PONTONNIERS",
                "libelle_voie_2": null,
                "liste_finess": null,
                "liste_idcc": null,
                "liste_rge": null,
                "liste_uai": null,
                "longitude": "7.756994",
                "nom_commercial": null,
                "nom_complet": "sci ganymede",
                "numero_voie": "4",
                "numero_voie_2": null,
                "siren": "417691474",
                "siret": "41769147400023",
                "tranche_effectif_salarie": null,
                "type_voie": "RUE",
                "type_voie_2": null
               },
               "_type": "_doc",
               "matched_queries": [
                "match nom complet et adresse"
               ]
              },
              {
               "_id": "417691474",
               "_index": "siren-green",
               "_nested": {
                "field": "etablissements",
                "offset": 2
               },
               "_score": 3573.0916,
               "_source": {
                "activite_principale": "68.20B",
                "activite_principale_registre_metier": null,
                "adresse": "14 QUAI KLEBER 67482 STRASBOURG",
                "cedex": null,
                "cedex_2": null,
                "code_pays_etranger": null,
                "code_pays_etranger_2": null,
                "code_postal": "67000",
                "commune": "67482",
                "commune_2": null,
                "complement_adresse": null,
                "complement_adresse_2": null,
                "concat_enseigne_adresse_siren_siret": "14 QUAI KLEBER 67482 STRASBOURG 417691474 41769147400031",
                "coordonnees": "48.586775,7.74569",
                "date_creation": "2007-05-30",
                "date_debut_activite": "2007-05-30",
                "departement": "67",
                "distribution_speciale": null,
                "distribution_speciale_2": null,
                "enseigne_1": null,
                "enseigne_2": null,
                "enseigne_3": null,
                "est_siege": true,
                "etat_administratif": "A",
                "geo_adresse": "14 Quai Kléber 67000 Strasbourg",
                "geo_id": "67482_3710_00014",
                "indice_repetition": null,
                "indice_repetition_2": null,
                "latitude": "48.586775",
                "libelle_cedex": null,
                "libelle_cedex_2": null,
                "libelle_commune": "STRASBOURG",
                "libelle_commune_2": null,
                "libelle_commune_etranger": null,
                "libelle_commune_etranger_2": null,
                "libelle_pays_etranger": null,
                "libelle_pays_etranger_2": null,
                "libelle_voie": "KLEBER",
                "libelle_voie_2": null,
                "liste_finess": null,
                "liste_idcc": null,
                "liste_rge": null,
                "liste_uai": null,
                "longitude": "7.74569",
                "nom_commercial": null,
                "nom_complet": "sci ganymede",
                "numero_voie": "14",
                "numero_voie_2": null,
                "siren": "417691474",
                "siret": "41769147400031",
                "tranche_effectif_salarie": null,
                "type_voie": "QUAI",
                "type_voie_2": null
               },
               "_type": "_doc",
               "matched_queries": [
                "match nom complet et adresse"
               ]
              }
             ],
             "max_score": 3573.0916,
             "total": {
              "relation": "eq",
              "value": 3
             }
            }
           }
          },
          "matched_queries": [
           "partial nom_complet match with AND"
          ]
         }
        ],
        "max_score": 2095.0623,
        "total": {
         "relation": "eq",
         "value": 83
        }
       },
       "timed_out": false,
       "took": 26
      },
      "text/plain": [
       "<IPython.core.display.JSON object>"
      ]
     },
     "metadata": {
      "application/json": {
       "expanded": false,
       "root": "root"
      }
     },
     "output_type": "display_data"
    }
   ],
   "source": [
    "display(JSON(response))"
   ]
  },
  {
   "cell_type": "code",
   "execution_count": 18,
   "id": "3423bd44-7b65-4202-bf81-03af4dcd87c2",
   "metadata": {},
   "outputs": [
    {
     "data": {
      "application/json": {
       "activite_principale_unite_legale": "46.42Z",
       "categorie_entreprise": "PME",
       "date_creation_unite_legale": "2000-04-10",
       "date_mise_a_jour_unite_legale": "2022-09-21T04:14:45",
       "dirigeants_pp": [
        {
         "date_naissance": "1962-04-05",
         "nom": "durandet",
         "prenoms": "frederic",
         "qualite": "Gérant, Liquidateur"
        }
       ],
       "economie_sociale_solidaire_unite_legale": "N",
       "est_entrepreneur_individuel": false,
       "etablissements": [
        {
         "activite_principale": null,
         "activite_principale_registre_metier": null,
         "adresse": "63 RUE DU PDT WILSON 92044 LEVALLOIS-PERRET",
         "cedex": null,
         "cedex_2": null,
         "code_pays_etranger": null,
         "code_pays_etranger_2": null,
         "code_postal": "92300",
         "commune": "92044",
         "commune_2": null,
         "complement_adresse": null,
         "complement_adresse_2": null,
         "concat_enseigne_adresse_siren_siret": "63 RUE DU PDT WILSON 92044 LEVALLOIS-PERRET 430293423 43029342300017",
         "coordonnees": "48.892759,2.289647",
         "date_creation": "2000-04-10",
         "date_debut_activite": "2000-08-04",
         "departement": "92",
         "distribution_speciale": null,
         "distribution_speciale_2": null,
         "enseigne_1": null,
         "enseigne_2": null,
         "enseigne_3": null,
         "est_siege": false,
         "etat_administratif": "F",
         "geo_adresse": "63 Rue du President Wilson 92300 Levallois-Perret",
         "geo_id": "92044_7170_00063",
         "indice_repetition": null,
         "indice_repetition_2": null,
         "latitude": "48.892759",
         "libelle_cedex": null,
         "libelle_cedex_2": null,
         "libelle_commune": "LEVALLOIS-PERRET",
         "libelle_commune_2": null,
         "libelle_commune_etranger": null,
         "libelle_commune_etranger_2": null,
         "libelle_pays_etranger": null,
         "libelle_pays_etranger_2": null,
         "libelle_voie": "DU PDT WILSON",
         "libelle_voie_2": null,
         "liste_finess": null,
         "liste_idcc": null,
         "liste_rge": null,
         "liste_uai": null,
         "longitude": "2.289647",
         "nom_commercial": null,
         "numero_voie": "63",
         "numero_voie_2": null,
         "siren": "430293423",
         "siret": "43029342300017",
         "tranche_effectif_salarie": null,
         "type_voie": "RUE",
         "type_voie_2": null
        },
        {
         "activite_principale": "47.71Z",
         "activite_principale_registre_metier": null,
         "adresse": "50 RUE DES MOINES 75117 PARIS 17",
         "cedex": null,
         "cedex_2": null,
         "code_pays_etranger": null,
         "code_pays_etranger_2": null,
         "code_postal": "75017",
         "commune": "75117",
         "commune_2": null,
         "complement_adresse": null,
         "complement_adresse_2": null,
         "concat_enseigne_adresse_siren_siret": "50 RUE DES MOINES 75117 PARIS 17 430293423 43029342300041",
         "coordonnees": "48.889867,2.320493",
         "date_creation": "2007-06-07",
         "date_debut_activite": "2013-05-22",
         "departement": "75",
         "distribution_speciale": null,
         "distribution_speciale_2": null,
         "enseigne_1": null,
         "enseigne_2": null,
         "enseigne_3": null,
         "est_siege": false,
         "etat_administratif": "F",
         "geo_adresse": "50 Rue des Moines 75017 Paris",
         "geo_id": "75117_6401_00050",
         "indice_repetition": null,
         "indice_repetition_2": null,
         "latitude": "48.889867",
         "libelle_cedex": null,
         "libelle_cedex_2": null,
         "libelle_commune": "PARIS 17",
         "libelle_commune_2": null,
         "libelle_commune_etranger": null,
         "libelle_commune_etranger_2": null,
         "libelle_pays_etranger": null,
         "libelle_pays_etranger_2": null,
         "libelle_voie": "DES MOINES",
         "libelle_voie_2": null,
         "liste_finess": null,
         "liste_idcc": null,
         "liste_rge": null,
         "liste_uai": null,
         "longitude": "2.320493",
         "nom_commercial": null,
         "numero_voie": "50",
         "numero_voie_2": null,
         "siren": "430293423",
         "siret": "43029342300041",
         "tranche_effectif_salarie": "NN",
         "type_voie": "RUE",
         "type_voie_2": null
        },
        {
         "activite_principale": "47.71Z",
         "activite_principale_registre_metier": null,
         "adresse": "137 RUE ORDENER 75118 PARIS 18",
         "cedex": null,
         "cedex_2": null,
         "code_pays_etranger": null,
         "code_pays_etranger_2": null,
         "code_postal": "75018",
         "commune": "75118",
         "commune_2": null,
         "complement_adresse": null,
         "complement_adresse_2": null,
         "concat_enseigne_adresse_siren_siret": "137 RUE ORDENER 75118 PARIS 18 430293423 43029342300025",
         "coordonnees": "48.89303,2.339999",
         "date_creation": "2000-08-04",
         "date_debut_activite": "2010-02-25",
         "departement": "75",
         "distribution_speciale": null,
         "distribution_speciale_2": null,
         "enseigne_1": null,
         "enseigne_2": null,
         "enseigne_3": null,
         "est_siege": false,
         "etat_administratif": "F",
         "geo_adresse": "137 Rue Ordener 75018 Paris",
         "geo_id": "75118_6918_00137",
         "indice_repetition": null,
         "indice_repetition_2": null,
         "latitude": "48.89303",
         "libelle_cedex": null,
         "libelle_cedex_2": null,
         "libelle_commune": "PARIS 18",
         "libelle_commune_2": null,
         "libelle_commune_etranger": null,
         "libelle_commune_etranger_2": null,
         "libelle_pays_etranger": null,
         "libelle_pays_etranger_2": null,
         "libelle_voie": "ORDENER",
         "libelle_voie_2": null,
         "liste_finess": null,
         "liste_idcc": null,
         "liste_rge": null,
         "liste_uai": null,
         "longitude": "2.339999",
         "nom_commercial": null,
         "numero_voie": "137",
         "numero_voie_2": null,
         "siren": "430293423",
         "siret": "43029342300025",
         "tranche_effectif_salarie": "NN",
         "type_voie": "RUE",
         "type_voie_2": null
        },
        {
         "activite_principale": "46.42Z",
         "activite_principale_registre_metier": null,
         "adresse": "2 RUE DESIRE RUGGIERI 75118 PARIS 18",
         "cedex": null,
         "cedex_2": null,
         "code_pays_etranger": null,
         "code_pays_etranger_2": null,
         "code_postal": "75018",
         "commune": "75118",
         "commune_2": null,
         "complement_adresse": null,
         "complement_adresse_2": null,
         "concat_enseigne_adresse_siren_siret": "2 RUE DESIRE RUGGIERI 75118 PARIS 18 430293423 43029342300058",
         "coordonnees": "48.894076,2.335266",
         "date_creation": "2010-02-25",
         "date_debut_activite": "2013-12-04",
         "departement": "75",
         "distribution_speciale": null,
         "distribution_speciale_2": null,
         "enseigne_1": null,
         "enseigne_2": null,
         "enseigne_3": null,
         "est_siege": false,
         "etat_administratif": "F",
         "geo_adresse": "2 Rue Désiré Ruggieri 75018 Paris",
         "geo_id": "75118_2743_00002",
         "indice_repetition": null,
         "indice_repetition_2": null,
         "latitude": "48.894076",
         "libelle_cedex": null,
         "libelle_cedex_2": null,
         "libelle_commune": "PARIS 18",
         "libelle_commune_2": null,
         "libelle_commune_etranger": null,
         "libelle_commune_etranger_2": null,
         "libelle_pays_etranger": null,
         "libelle_pays_etranger_2": null,
         "libelle_voie": "DESIRE RUGGIERI",
         "libelle_voie_2": null,
         "liste_finess": null,
         "liste_idcc": null,
         "liste_rge": null,
         "liste_uai": null,
         "longitude": "2.335266",
         "nom_commercial": null,
         "numero_voie": "2",
         "numero_voie_2": null,
         "siren": "430293423",
         "siret": "43029342300058",
         "tranche_effectif_salarie": null,
         "type_voie": "RUE",
         "type_voie_2": null
        },
        {
         "activite_principale": "47.71Z",
         "activite_principale_registre_metier": null,
         "adresse": "117 AV GAMBETTA 75120 PARIS 20",
         "cedex": null,
         "cedex_2": null,
         "code_pays_etranger": null,
         "code_pays_etranger_2": null,
         "code_postal": "75020",
         "commune": "75120",
         "commune_2": "75120",
         "complement_adresse": null,
         "complement_adresse_2": null,
         "concat_enseigne_adresse_siren_siret": "GANYMEDE   117 AV GAMBETTA 75120 PARIS 20 430293423 43029342300033",
         "coordonnees": "48.867702,2.400734",
         "date_creation": "2003-10-01",
         "date_debut_activite": "2020-07-08",
         "departement": "75",
         "distribution_speciale": null,
         "distribution_speciale_2": null,
         "enseigne_1": "GANYMEDE",
         "enseigne_2": null,
         "enseigne_3": null,
         "est_siege": false,
         "etat_administratif": "F",
         "geo_adresse": "117 Avenue Gambetta 75020 Paris",
         "geo_id": "75120_3933_00117",
         "indice_repetition": null,
         "indice_repetition_2": null,
         "latitude": "48.867702",
         "libelle_cedex": null,
         "libelle_cedex_2": null,
         "libelle_commune": "PARIS 20",
         "libelle_commune_2": "PARIS 20",
         "libelle_commune_etranger": null,
         "libelle_commune_etranger_2": null,
         "libelle_pays_etranger": null,
         "libelle_pays_etranger_2": null,
         "libelle_voie": "GAMBETTA",
         "libelle_voie_2": "DUPONT DE L EURE",
         "liste_finess": null,
         "liste_idcc": null,
         "liste_rge": null,
         "liste_uai": null,
         "longitude": "2.400734",
         "nom_commercial": null,
         "numero_voie": "117",
         "numero_voie_2": null,
         "siren": "430293423",
         "siret": "43029342300033",
         "tranche_effectif_salarie": "00",
         "type_voie": "AV",
         "type_voie_2": "RUE"
        },
        {
         "activite_principale": "46.42Z",
         "activite_principale_registre_metier": null,
         "adresse": "2 B RUE DUPONT DE L EURE 75120 PARIS 20",
         "cedex": null,
         "cedex_2": null,
         "code_pays_etranger": null,
         "code_pays_etranger_2": null,
         "code_postal": "75020",
         "commune": "75120",
         "commune_2": null,
         "complement_adresse": null,
         "complement_adresse_2": null,
         "concat_enseigne_adresse_siren_siret": "COUSIN-COUSINE   2 B RUE DUPONT DE L EURE 75120 PARIS 20 430293423 43029342300066",
         "coordonnees": "48.867773,2.400538",
         "date_creation": "2020-07-08",
         "date_debut_activite": "2022-06-30",
         "departement": "75",
         "distribution_speciale": null,
         "distribution_speciale_2": null,
         "enseigne_1": "COUSIN-COUSINE",
         "enseigne_2": null,
         "enseigne_3": null,
         "est_siege": true,
         "etat_administratif": "F",
         "geo_adresse": "2b Rue Dupont de l’Eure 75020 Paris",
         "geo_id": "75120_3011_00002_b",
         "indice_repetition": "B",
         "indice_repetition_2": null,
         "latitude": "48.867773",
         "libelle_cedex": null,
         "libelle_cedex_2": null,
         "libelle_commune": "PARIS 20",
         "libelle_commune_2": null,
         "libelle_commune_etranger": null,
         "libelle_commune_etranger_2": null,
         "libelle_pays_etranger": null,
         "libelle_pays_etranger_2": null,
         "libelle_voie": "DUPONT DE L EURE",
         "libelle_voie_2": null,
         "liste_finess": null,
         "liste_idcc": null,
         "liste_rge": null,
         "liste_uai": null,
         "longitude": "2.400538",
         "nom_commercial": "GANYMEDE",
         "numero_voie": "2",
         "numero_voie_2": null,
         "siren": "430293423",
         "siret": "43029342300066",
         "tranche_effectif_salarie": null,
         "type_voie": "RUE",
         "type_voie_2": null
        }
       ],
       "etat_administratif_unite_legale": "C",
       "liste_dirigeants": [
        "frederic durandet"
       ],
       "nature_juridique_unite_legale": "5499",
       "nom_complet": "sparty",
       "nom_raison_sociale": "SPARTY",
       "nombre_etablissements": 6,
       "nombre_etablissements_ouverts": 0,
       "section_activite_principale": "G",
       "siege": {
        "activite_principale": "46.42Z",
        "activite_principale_registre_metier": null,
        "adresse": "2 B RUE DUPONT DE L EURE 75120 PARIS 20",
        "cedex": null,
        "cedex_2": null,
        "code_pays_etranger": null,
        "code_pays_etranger_2": null,
        "code_postal": "75020",
        "commune": "75120",
        "commune_2": null,
        "complement_adresse": null,
        "complement_adresse_2": null,
        "concat_enseigne_adresse_siren_siret": "COUSIN-COUSINE   2 B RUE DUPONT DE L EURE 75120 PARIS 20 430293423 43029342300066",
        "coordonnees": "48.867773,2.400538",
        "date_creation": "2020-07-08",
        "date_debut_activite": "2022-06-30",
        "departement": "75",
        "distribution_speciale": null,
        "distribution_speciale_2": null,
        "enseigne_1": "COUSIN-COUSINE",
        "enseigne_2": null,
        "enseigne_3": null,
        "est_siege": true,
        "etat_administratif": "F",
        "geo_adresse": "2b Rue Dupont de l’Eure 75020 Paris",
        "geo_id": "75120_3011_00002_b",
        "indice_repetition": "B",
        "indice_repetition_2": null,
        "latitude": "48.867773",
        "libelle_cedex": null,
        "libelle_cedex_2": null,
        "libelle_commune": "PARIS 20",
        "libelle_commune_2": null,
        "libelle_commune_etranger": null,
        "libelle_commune_etranger_2": null,
        "libelle_pays_etranger": null,
        "libelle_pays_etranger_2": null,
        "libelle_voie": "DUPONT DE L EURE",
        "libelle_voie_2": null,
        "liste_finess": null,
        "liste_idcc": null,
        "liste_rge": null,
        "liste_uai": null,
        "longitude": "2.400538",
        "nom_commercial": "GANYMEDE",
        "numero_voie": "2",
        "numero_voie_2": null,
        "siren": "430293423",
        "siret": "43029342300066",
        "tranche_effectif_salarie": null,
        "type_voie": "RUE",
        "type_voie_2": null
       },
       "siren": "430293423",
       "siret_siege": "43029342300066",
       "tranche_effectif_salarie_unite_legale": "00"
      },
      "text/plain": [
       "<IPython.core.display.JSON object>"
      ]
     },
     "metadata": {
      "application/json": {
       "expanded": false,
       "root": "root"
      }
     },
     "output_type": "display_data"
    },
    {
     "data": {
      "application/json": {
       "activite_principale_unite_legale": "62.01Z",
       "date_creation_unite_legale": "1989-01-01",
       "date_mise_a_jour_unite_legale": "2022-04-19T15:08:21",
       "dirigeants_pp": [
        {
         "nom": "blanc",
         "prenoms": "DANIEL"
        }
       ],
       "est_entrepreneur_individuel": true,
       "etablissements": [
        {
         "activite_principale": "52.4Z",
         "activite_principale_registre_metier": null,
         "adresse": "LES CHOISINETS 48150 SAINT-FLOUR-DE-MERCOIRE",
         "cedex": null,
         "cedex_2": null,
         "code_pays_etranger": null,
         "code_pays_etranger_2": null,
         "code_postal": "48300",
         "commune": "48150",
         "commune_2": null,
         "complement_adresse": null,
         "complement_adresse_2": null,
         "concat_enseigne_adresse_siren_siret": "ESPACE GANYMEDE   LES CHOISINETS 48150 SAINT-FLOUR-DE-MERCOIRE 305230559 30523055900034",
         "coordonnees": "44.6778039,3.8443268",
         "date_creation": "1996-01-25",
         "date_debut_activite": "2004-09-28",
         "departement": "48",
         "distribution_speciale": null,
         "distribution_speciale_2": null,
         "enseigne_1": "ESPACE GANYMEDE",
         "enseigne_2": null,
         "enseigne_3": null,
         "est_siege": false,
         "etat_administratif": "F",
         "geo_adresse": "Cimetière des Choisinets Saint-Flour-de-Mercoire",
         "geo_id": "https://osm.org/way/80950462",
         "indice_repetition": null,
         "indice_repetition_2": null,
         "latitude": "44.6778039",
         "libelle_cedex": null,
         "libelle_cedex_2": null,
         "libelle_commune": "SAINT-FLOUR-DE-MERCOIRE",
         "libelle_commune_2": null,
         "libelle_commune_etranger": null,
         "libelle_commune_etranger_2": null,
         "libelle_pays_etranger": null,
         "libelle_pays_etranger_2": null,
         "libelle_voie": "LES CHOISINETS",
         "libelle_voie_2": null,
         "liste_finess": null,
         "liste_idcc": null,
         "liste_rge": null,
         "liste_uai": null,
         "longitude": "3.8443268",
         "nom_commercial": null,
         "numero_voie": null,
         "numero_voie_2": null,
         "siren": "305230559",
         "siret": "30523055900034",
         "tranche_effectif_salarie": null,
         "type_voie": null,
         "type_voie_2": null
        },
        {
         "activite_principale": "62.01Z",
         "activite_principale_registre_metier": null,
         "adresse": "LES CHOISINETS REPETILLE 48150 SAINT-FLOUR-DE-MERCOIRE",
         "cedex": null,
         "cedex_2": null,
         "code_pays_etranger": null,
         "code_pays_etranger_2": null,
         "code_postal": "48300",
         "commune": "48150",
         "commune_2": null,
         "complement_adresse": "LES CHOISINETS",
         "complement_adresse_2": null,
         "concat_enseigne_adresse_siren_siret": "LES CHOISINETS REPETILLE 48150 SAINT-FLOUR-DE-MERCOIRE 305230559 30523055900059",
         "coordonnees": null,
         "date_creation": "2021-05-09",
         "date_debut_activite": "2021-05-09",
         "departement": "48",
         "distribution_speciale": null,
         "distribution_speciale_2": null,
         "enseigne_1": null,
         "enseigne_2": null,
         "enseigne_3": null,
         "est_siege": true,
         "etat_administratif": "A",
         "geo_adresse": null,
         "geo_id": null,
         "indice_repetition": null,
         "indice_repetition_2": null,
         "latitude": null,
         "libelle_cedex": null,
         "libelle_cedex_2": null,
         "libelle_commune": "SAINT-FLOUR-DE-MERCOIRE",
         "libelle_commune_2": null,
         "libelle_commune_etranger": null,
         "libelle_commune_etranger_2": null,
         "libelle_pays_etranger": null,
         "libelle_pays_etranger_2": null,
         "libelle_voie": "REPETILLE",
         "libelle_voie_2": null,
         "liste_finess": null,
         "liste_idcc": null,
         "liste_rge": null,
         "liste_uai": null,
         "longitude": null,
         "nom_commercial": "MANEGA",
         "numero_voie": null,
         "numero_voie_2": null,
         "siren": "305230559",
         "siret": "30523055900059",
         "tranche_effectif_salarie": null,
         "type_voie": null,
         "type_voie_2": null
        },
        {
         "activite_principale": "52.4Z",
         "activite_principale_registre_metier": null,
         "adresse": "42 RUE DES ARTISTES 75114 PARIS 14",
         "cedex": null,
         "cedex_2": null,
         "code_pays_etranger": null,
         "code_pays_etranger_2": null,
         "code_postal": "75014",
         "commune": "75114",
         "commune_2": null,
         "complement_adresse": null,
         "complement_adresse_2": null,
         "concat_enseigne_adresse_siren_siret": "42 RUE DES ARTISTES 75114 PARIS 14 305230559 30523055900042",
         "coordonnees": "48.825805,2.334401",
         "date_creation": "2001-04-10",
         "date_debut_activite": "2004-09-30",
         "departement": "75",
         "distribution_speciale": null,
         "distribution_speciale_2": null,
         "enseigne_1": null,
         "enseigne_2": null,
         "enseigne_3": null,
         "est_siege": false,
         "etat_administratif": "F",
         "geo_adresse": "42 Rue des Artistes 75014 Paris",
         "geo_id": "75114_0484_00042",
         "indice_repetition": null,
         "indice_repetition_2": null,
         "latitude": "48.825805",
         "libelle_cedex": null,
         "libelle_cedex_2": null,
         "libelle_commune": "PARIS 14",
         "libelle_commune_2": null,
         "libelle_commune_etranger": null,
         "libelle_commune_etranger_2": null,
         "libelle_pays_etranger": null,
         "libelle_pays_etranger_2": null,
         "libelle_voie": "DES ARTISTES",
         "libelle_voie_2": null,
         "liste_finess": null,
         "liste_idcc": null,
         "liste_rge": null,
         "liste_uai": null,
         "longitude": "2.334401",
         "nom_commercial": null,
         "numero_voie": "42",
         "numero_voie_2": null,
         "siren": "305230559",
         "siret": "30523055900042",
         "tranche_effectif_salarie": "NN",
         "type_voie": "RUE",
         "type_voie_2": null
        }
       ],
       "etat_administratif_unite_legale": "A",
       "liste_dirigeants": [
        "daniel blanc",
        "daniel blanc"
       ],
       "nature_juridique_unite_legale": "1000",
       "nom": "BLANC",
       "nom_complet": "daniel blanc",
       "nombre_etablissements": 3,
       "nombre_etablissements_ouverts": 1,
       "prenom": "DANIEL",
       "section_activite_principale": "J",
       "siege": {
        "activite_principale": "62.01Z",
        "activite_principale_registre_metier": null,
        "adresse": "LES CHOISINETS REPETILLE 48150 SAINT-FLOUR-DE-MERCOIRE",
        "cedex": null,
        "cedex_2": null,
        "code_pays_etranger": null,
        "code_pays_etranger_2": null,
        "code_postal": "48300",
        "commune": "48150",
        "commune_2": null,
        "complement_adresse": "LES CHOISINETS",
        "complement_adresse_2": null,
        "concat_enseigne_adresse_siren_siret": "LES CHOISINETS REPETILLE 48150 SAINT-FLOUR-DE-MERCOIRE 305230559 30523055900059",
        "coordonnees": null,
        "date_creation": "2021-05-09",
        "date_debut_activite": "2021-05-09",
        "departement": "48",
        "distribution_speciale": null,
        "distribution_speciale_2": null,
        "enseigne_1": null,
        "enseigne_2": null,
        "enseigne_3": null,
        "est_siege": true,
        "etat_administratif": "A",
        "geo_adresse": null,
        "geo_id": null,
        "indice_repetition": null,
        "indice_repetition_2": null,
        "latitude": null,
        "libelle_cedex": null,
        "libelle_cedex_2": null,
        "libelle_commune": "SAINT-FLOUR-DE-MERCOIRE",
        "libelle_commune_2": null,
        "libelle_commune_etranger": null,
        "libelle_commune_etranger_2": null,
        "libelle_pays_etranger": null,
        "libelle_pays_etranger_2": null,
        "libelle_voie": "REPETILLE",
        "libelle_voie_2": null,
        "liste_finess": null,
        "liste_idcc": null,
        "liste_rge": null,
        "liste_uai": null,
        "longitude": null,
        "nom_commercial": "MANEGA",
        "numero_voie": null,
        "numero_voie_2": null,
        "siren": "305230559",
        "siret": "30523055900059",
        "tranche_effectif_salarie": null,
        "type_voie": null,
        "type_voie_2": null
       },
       "siren": "305230559",
       "siret_siege": "30523055900059"
      },
      "text/plain": [
       "<IPython.core.display.JSON object>"
      ]
     },
     "metadata": {
      "application/json": {
       "expanded": false,
       "root": "root"
      }
     },
     "output_type": "display_data"
    },
    {
     "data": {
      "application/json": {
       "activite_principale_unite_legale": "94.99Z",
       "date_creation_unite_legale": "1991-11-01",
       "date_mise_a_jour_unite_legale": "2017-05-20T02:14:10",
       "economie_sociale_solidaire_unite_legale": "O",
       "est_entrepreneur_individuel": false,
       "etablissements": [
        {
         "activite_principale": "91.3E",
         "activite_principale_registre_metier": null,
         "adresse": "13 PL FABRE D OLIVET 34111 GANGES",
         "cedex": null,
         "cedex_2": null,
         "code_pays_etranger": null,
         "code_pays_etranger_2": null,
         "code_postal": "34190",
         "commune": "34111",
         "commune_2": null,
         "complement_adresse": null,
         "complement_adresse_2": null,
         "concat_enseigne_adresse_siren_siret": "GANYMEDE AUDIO-VISUEL   13 PL FABRE D OLIVET 34111 GANGES 383657467 38365746700015",
         "coordonnees": "43.935042,3.710784",
         "date_creation": "1991-11-01",
         "date_debut_activite": "1993-12-25",
         "departement": "34",
         "distribution_speciale": null,
         "distribution_speciale_2": null,
         "enseigne_1": "GANYMEDE AUDIO-VISUEL",
         "enseigne_2": null,
         "enseigne_3": null,
         "est_siege": false,
         "etat_administratif": "F",
         "geo_adresse": "13 Place Fabre d’Olivet 34190 Ganges",
         "geo_id": "34111_0210_00013",
         "indice_repetition": null,
         "indice_repetition_2": null,
         "latitude": "43.935042",
         "libelle_cedex": null,
         "libelle_cedex_2": null,
         "libelle_commune": "GANGES",
         "libelle_commune_2": null,
         "libelle_commune_etranger": null,
         "libelle_commune_etranger_2": null,
         "libelle_pays_etranger": null,
         "libelle_pays_etranger_2": null,
         "libelle_voie": "FABRE D OLIVET",
         "libelle_voie_2": null,
         "liste_finess": null,
         "liste_idcc": null,
         "liste_rge": null,
         "liste_uai": null,
         "longitude": "3.710784",
         "nom_commercial": null,
         "numero_voie": "13",
         "numero_voie_2": null,
         "siren": "383657467",
         "siret": "38365746700015",
         "tranche_effectif_salarie": null,
         "type_voie": "PL",
         "type_voie_2": null
        },
        {
         "activite_principale": "94.99Z",
         "activite_principale_registre_metier": null,
         "adresse": "LOT LOU CLAPAS 48 CAMI DEL BLAGAIRE 34276 SAINT-MATHIEU-DE-TREVIERS",
         "cedex": null,
         "cedex_2": null,
         "code_pays_etranger": null,
         "code_pays_etranger_2": null,
         "code_postal": "34270",
         "commune": "34276",
         "commune_2": null,
         "complement_adresse": "LOT LOU CLAPAS",
         "complement_adresse_2": null,
         "concat_enseigne_adresse_siren_siret": "LOT LOU CLAPAS 48 CAMI DEL BLAGAIRE 34276 SAINT-MATHIEU-DE-TREVIERS 383657467 38365746700023",
         "coordonnees": "43.763569,3.866137",
         "date_creation": "1993-12-25",
         "date_debut_activite": "2008-01-01",
         "departement": "34",
         "distribution_speciale": null,
         "distribution_speciale_2": null,
         "enseigne_1": null,
         "enseigne_2": null,
         "enseigne_3": null,
         "est_siege": true,
         "etat_administratif": "A",
         "geo_adresse": "Rue Del Blagaire 34270 Saint-Mathieu-de-Tréviers",
         "geo_id": "34276_2t7f8j",
         "indice_repetition": null,
         "indice_repetition_2": null,
         "latitude": "43.763569",
         "libelle_cedex": null,
         "libelle_cedex_2": null,
         "libelle_commune": "SAINT-MATHIEU-DE-TREVIERS",
         "libelle_commune_2": null,
         "libelle_commune_etranger": null,
         "libelle_commune_etranger_2": null,
         "libelle_pays_etranger": null,
         "libelle_pays_etranger_2": null,
         "libelle_voie": "CAMI DEL BLAGAIRE",
         "libelle_voie_2": null,
         "liste_finess": null,
         "liste_idcc": null,
         "liste_rge": null,
         "liste_uai": null,
         "longitude": "3.866137",
         "nom_commercial": null,
         "numero_voie": "48",
         "numero_voie_2": null,
         "siren": "383657467",
         "siret": "38365746700023",
         "tranche_effectif_salarie": null,
         "type_voie": null,
         "type_voie_2": null
        }
       ],
       "etat_administratif_unite_legale": "A",
       "nature_juridique_unite_legale": "9220",
       "nom_complet": "association ganymede",
       "nom_raison_sociale": "ASSOCIATION GANYMEDE",
       "nombre_etablissements": 2,
       "nombre_etablissements_ouverts": 1,
       "section_activite_principale": "S",
       "siege": {
        "activite_principale": "94.99Z",
        "activite_principale_registre_metier": null,
        "adresse": "LOT LOU CLAPAS 48 CAMI DEL BLAGAIRE 34276 SAINT-MATHIEU-DE-TREVIERS",
        "cedex": null,
        "cedex_2": null,
        "code_pays_etranger": null,
        "code_pays_etranger_2": null,
        "code_postal": "34270",
        "commune": "34276",
        "commune_2": null,
        "complement_adresse": "LOT LOU CLAPAS",
        "complement_adresse_2": null,
        "concat_enseigne_adresse_siren_siret": "LOT LOU CLAPAS 48 CAMI DEL BLAGAIRE 34276 SAINT-MATHIEU-DE-TREVIERS 383657467 38365746700023",
        "coordonnees": "43.763569,3.866137",
        "date_creation": "1993-12-25",
        "date_debut_activite": "2008-01-01",
        "departement": "34",
        "distribution_speciale": null,
        "distribution_speciale_2": null,
        "enseigne_1": null,
        "enseigne_2": null,
        "enseigne_3": null,
        "est_siege": true,
        "etat_administratif": "A",
        "geo_adresse": "Rue Del Blagaire 34270 Saint-Mathieu-de-Tréviers",
        "geo_id": "34276_2t7f8j",
        "indice_repetition": null,
        "indice_repetition_2": null,
        "latitude": "43.763569",
        "libelle_cedex": null,
        "libelle_cedex_2": null,
        "libelle_commune": "SAINT-MATHIEU-DE-TREVIERS",
        "libelle_commune_2": null,
        "libelle_commune_etranger": null,
        "libelle_commune_etranger_2": null,
        "libelle_pays_etranger": null,
        "libelle_pays_etranger_2": null,
        "libelle_voie": "CAMI DEL BLAGAIRE",
        "libelle_voie_2": null,
        "liste_finess": null,
        "liste_idcc": null,
        "liste_rge": null,
        "liste_uai": null,
        "longitude": "3.866137",
        "nom_commercial": null,
        "numero_voie": "48",
        "numero_voie_2": null,
        "siren": "383657467",
        "siret": "38365746700023",
        "tranche_effectif_salarie": null,
        "type_voie": null,
        "type_voie_2": null
       },
       "siren": "383657467",
       "siret_siege": "38365746700023"
      },
      "text/plain": [
       "<IPython.core.display.JSON object>"
      ]
     },
     "metadata": {
      "application/json": {
       "expanded": false,
       "root": "root"
      }
     },
     "output_type": "display_data"
    }
   ],
   "source": [
    "# expanded=True\n",
    "for hit in response['hits']['hits']:\n",
    "    display(JSON(hit[\"_source\"]))"
   ]
  },
  {
   "cell_type": "code",
   "execution_count": 52,
   "id": "1a7c427d-d13b-490c-9f48-4b33aa106d3f",
   "metadata": {},
   "outputs": [
    {
     "data": {
      "application/json": {
       "etablissements": {
        "hits": {
         "hits": [
          {
           "_id": "795229566",
           "_index": "siren-blue",
           "_nested": {
            "field": "etablissements",
            "offset": 0
           },
           "_score": 17.680618,
           "_source": {
            "activite_principale": "56.10A",
            "activite_principale_registre_metier": null,
            "adresse": "24 RUE DE VOUILLE 75115 PARIS 15",
            "cedex": null,
            "cedex_2": null,
            "code_pays_etranger": null,
            "code_pays_etranger_2": null,
            "code_postal": "75015",
            "commune": "75115",
            "commune_2": null,
            "complement_adresse": null,
            "complement_adresse_2": null,
            "concat_nom_enseigne_adresse_siren_siret": "le post LE POST   24 RUE DE VOUILLE 75115 PARIS 15 795229566 79522956600018",
            "coordonnees": "48.834695,2.304886",
            "date_creation": "2013-09-04",
            "date_debut_activite": "2015-12-28",
            "departement": "75",
            "distribution_speciale": null,
            "distribution_speciale_2": null,
            "enseigne_1": "LE POST",
            "enseigne_2": null,
            "enseigne_3": null,
            "est_siege": "true",
            "etat_administratif": "F",
            "geo_adresse": "24 Rue de Vouillé 75015 Paris",
            "geo_id": "75115_9919_00024",
            "id_cc": null,
            "indice_repetition": null,
            "indice_repetition_2": null,
            "latitude": "48.834695",
            "libelle_cedex": null,
            "libelle_cedex_2": null,
            "libelle_commune": "PARIS 15",
            "libelle_commune_2": null,
            "libelle_commune_etranger": null,
            "libelle_commune_etranger_2": null,
            "libelle_pays_etranger": null,
            "libelle_pays_etranger_2": null,
            "libelle_voie": "DE VOUILLE",
            "libelle_voie_2": null,
            "longitude": "2.304886",
            "nom_commercial": "LE POST",
            "nom_complet": "le post",
            "numero_voie": "24",
            "numero_voie_2": null,
            "siren": "795229566",
            "siret": "79522956600018",
            "tranche_effectif_salarie": "NN",
            "type_voie": "RUE",
            "type_voie_2": null
           },
           "_type": "_doc"
          }
         ],
         "max_score": 17.680618,
         "total": {
          "relation": "eq",
          "value": 1
         }
        }
       }
      },
      "text/plain": [
       "<IPython.core.display.JSON object>"
      ]
     },
     "metadata": {
      "application/json": {
       "expanded": false,
       "root": "root"
      }
     },
     "output_type": "display_data"
    },
    {
     "data": {
      "application/json": {
       "etablissements": {
        "hits": {
         "hits": [
          {
           "_id": "356000216",
           "_index": "siren-blue",
           "_nested": {
            "field": "etablissements",
            "offset": 2
           },
           "_score": 14.559588,
           "_source": {
            "activite_principale": "64.1A",
            "activite_principale_registre_metier": null,
            "adresse": "PL DE L'EGLISE 08122 CHOOZ",
            "cedex": null,
            "cedex_2": null,
            "code_pays_etranger": null,
            "code_pays_etranger_2": null,
            "code_postal": "08600",
            "commune": "08122",
            "commune_2": null,
            "complement_adresse": null,
            "complement_adresse_2": null,
            "concat_nom_enseigne_adresse_siren_siret": "la poste SERVICES DE LA POSTE   PL DE L'EGLISE 08122 CHOOZ 356000216 35600021602228",
            "coordonnees": "50.102837,4.807295",
            "date_creation": "1991-01-01",
            "date_debut_activite": "1996-06-13",
            "departement": "08",
            "distribution_speciale": null,
            "distribution_speciale_2": null,
            "enseigne_1": "SERVICES DE LA POSTE",
            "enseigne_2": null,
            "enseigne_3": null,
            "est_siege": "false",
            "etat_administratif": "F",
            "geo_adresse": "Place de l’Eglise 08600 Chooz",
            "geo_id": "08122_0030",
            "id_cc": null,
            "indice_repetition": null,
            "indice_repetition_2": null,
            "latitude": "50.102837",
            "libelle_cedex": null,
            "libelle_cedex_2": null,
            "libelle_commune": "CHOOZ",
            "libelle_commune_2": null,
            "libelle_commune_etranger": null,
            "libelle_commune_etranger_2": null,
            "libelle_pays_etranger": null,
            "libelle_pays_etranger_2": null,
            "libelle_voie": "DE L'EGLISE",
            "libelle_voie_2": null,
            "longitude": "4.807295",
            "nom_commercial": null,
            "nom_complet": "la poste",
            "numero_voie": null,
            "numero_voie_2": null,
            "siren": "356000216",
            "siret": "35600021602228",
            "tranche_effectif_salarie": null,
            "type_voie": "PL",
            "type_voie_2": null
           },
           "_type": "_doc"
          },
          {
           "_id": "356000216",
           "_index": "siren-blue",
           "_nested": {
            "field": "etablissements",
            "offset": 3
           },
           "_score": 14.559588,
           "_source": {
            "activite_principale": "64.1A",
            "activite_principale_registre_metier": null,
            "adresse": "47 AV PIERRE CURIE 08008 AMAGNE",
            "cedex": null,
            "cedex_2": null,
            "code_pays_etranger": null,
            "code_pays_etranger_2": null,
            "code_postal": "08300",
            "commune": "08008",
            "commune_2": null,
            "complement_adresse": null,
            "complement_adresse_2": null,
            "concat_nom_enseigne_adresse_siren_siret": "la poste BUREAU DE POSTE   47 AV PIERRE CURIE 08008 AMAGNE 356000216 35600021603010",
            "coordonnees": "49.51664,4.499659",
            "date_creation": "1991-01-01",
            "date_debut_activite": "2006-11-02",
            "departement": "08",
            "distribution_speciale": null,
            "distribution_speciale_2": null,
            "enseigne_1": "BUREAU DE POSTE",
            "enseigne_2": null,
            "enseigne_3": null,
            "est_siege": "false",
            "etat_administratif": "F",
            "geo_adresse": "47 Avenue Pierre Curie 08300 Amagne",
            "geo_id": "08008_0155_00047",
            "id_cc": null,
            "indice_repetition": null,
            "indice_repetition_2": null,
            "latitude": "49.51664",
            "libelle_cedex": null,
            "libelle_cedex_2": null,
            "libelle_commune": "AMAGNE",
            "libelle_commune_2": null,
            "libelle_commune_etranger": null,
            "libelle_commune_etranger_2": null,
            "libelle_pays_etranger": null,
            "libelle_pays_etranger_2": null,
            "libelle_voie": "PIERRE CURIE",
            "libelle_voie_2": null,
            "longitude": "4.499659",
            "nom_commercial": null,
            "nom_complet": "la poste",
            "numero_voie": "47",
            "numero_voie_2": null,
            "siren": "356000216",
            "siret": "35600021603010",
            "tranche_effectif_salarie": "NN",
            "type_voie": "AV",
            "type_voie_2": null
           },
           "_type": "_doc"
          },
          {
           "_id": "356000216",
           "_index": "siren-blue",
           "_nested": {
            "field": "etablissements",
            "offset": 6
           },
           "_score": 14.559588,
           "_source": {
            "activite_principale": "53.10Z",
            "activite_principale_registre_metier": null,
            "adresse": "15 RUE J  PREVERT 08024 ASFELD",
            "cedex": null,
            "cedex_2": null,
            "code_pays_etranger": null,
            "code_pays_etranger_2": null,
            "code_postal": "08190",
            "commune": "08024",
            "commune_2": null,
            "complement_adresse": null,
            "complement_adresse_2": null,
            "concat_nom_enseigne_adresse_siren_siret": "la poste BUREAU DE POSTE   15 RUE J  PREVERT 08024 ASFELD 356000216 35600021603044",
            "coordonnees": "49.471,4.119846",
            "date_creation": "1991-01-01",
            "date_debut_activite": "2011-12-31",
            "departement": "08",
            "distribution_speciale": null,
            "distribution_speciale_2": null,
            "enseigne_1": "BUREAU DE POSTE",
            "enseigne_2": null,
            "enseigne_3": null,
            "est_siege": "false",
            "etat_administratif": "F",
            "geo_adresse": "15 Rue Jacques Prévert 08190 Asfeld",
            "geo_id": "08024_0170_00015",
            "id_cc": null,
            "indice_repetition": null,
            "indice_repetition_2": null,
            "latitude": "49.471",
            "libelle_cedex": null,
            "libelle_cedex_2": null,
            "libelle_commune": "ASFELD",
            "libelle_commune_2": null,
            "libelle_commune_etranger": null,
            "libelle_commune_etranger_2": null,
            "libelle_pays_etranger": null,
            "libelle_pays_etranger_2": null,
            "libelle_voie": "J  PREVERT",
            "libelle_voie_2": null,
            "longitude": "4.119846",
            "nom_commercial": null,
            "nom_complet": "la poste",
            "numero_voie": "15",
            "numero_voie_2": null,
            "siren": "356000216",
            "siret": "35600021603044",
            "tranche_effectif_salarie": "NN",
            "type_voie": "RUE",
            "type_voie_2": null
           },
           "_type": "_doc"
          }
         ],
         "max_score": 14.559588,
         "total": {
          "relation": "eq",
          "value": 497
         }
        }
       }
      },
      "text/plain": [
       "<IPython.core.display.JSON object>"
      ]
     },
     "metadata": {
      "application/json": {
       "expanded": false,
       "root": "root"
      }
     },
     "output_type": "display_data"
    },
    {
     "data": {
      "application/json": {
       "etablissements": {
        "hits": {
         "hits": [
          {
           "_id": "356000521",
           "_index": "siren-blue",
           "_nested": {
            "field": "etablissements",
            "offset": 1
           },
           "_score": 14.559588,
           "_source": {
            "activite_principale": "53.10Z",
            "activite_principale_registre_metier": null,
            "adresse": "8 BD DU MANOIR SAINT LO 44109 NANTES",
            "cedex": null,
            "cedex_2": null,
            "code_pays_etranger": null,
            "code_pays_etranger_2": null,
            "code_postal": "44300",
            "commune": "44109",
            "commune_2": null,
            "complement_adresse": null,
            "complement_adresse_2": null,
            "concat_nom_enseigne_adresse_siren_siret": "la poste BUREAU DE POSTE   8 BD DU MANOIR SAINT LO 44109 NANTES 356000521 35600052100175",
            "coordonnees": "47.2361,-1.504926",
            "date_creation": "1991-01-01",
            "date_debut_activite": "2009-03-18",
            "departement": "44",
            "distribution_speciale": null,
            "distribution_speciale_2": null,
            "enseigne_1": "BUREAU DE POSTE",
            "enseigne_2": null,
            "enseigne_3": null,
            "est_siege": "false",
            "etat_administratif": "F",
            "geo_adresse": "8 Boulevard du Manoir Saint-Lo 44300 Nantes",
            "geo_id": "44109_5274_00008",
            "id_cc": null,
            "indice_repetition": null,
            "indice_repetition_2": null,
            "latitude": "47.2361",
            "libelle_cedex": null,
            "libelle_cedex_2": null,
            "libelle_commune": "NANTES",
            "libelle_commune_2": null,
            "libelle_commune_etranger": null,
            "libelle_commune_etranger_2": null,
            "libelle_pays_etranger": null,
            "libelle_pays_etranger_2": null,
            "libelle_voie": "DU MANOIR SAINT LO",
            "libelle_voie_2": null,
            "longitude": "-1.504926",
            "nom_commercial": null,
            "nom_complet": "la poste",
            "numero_voie": "8",
            "numero_voie_2": null,
            "siren": "356000521",
            "siret": "35600052100175",
            "tranche_effectif_salarie": "NN",
            "type_voie": "BD",
            "type_voie_2": null
           },
           "_type": "_doc"
          },
          {
           "_id": "356000521",
           "_index": "siren-blue",
           "_nested": {
            "field": "etablissements",
            "offset": 2
           },
           "_score": 14.559588,
           "_source": {
            "activite_principale": "64.1A",
            "activite_principale_registre_metier": null,
            "adresse": "2 RTE DE LA JONELIERE 44302 NANTES CEDEX 3",
            "cedex": "44302",
            "cedex_2": null,
            "code_pays_etranger": null,
            "code_pays_etranger_2": null,
            "code_postal": "44300",
            "commune": "44109",
            "commune_2": null,
            "complement_adresse": null,
            "complement_adresse_2": null,
            "concat_nom_enseigne_adresse_siren_siret": "la poste SERVICES DE LA POSTE   2 RTE DE LA JONELIERE 44302 NANTES CEDEX 3 356000521 35600052100183",
            "coordonnees": "47.245236,-1.555655",
            "date_creation": "1991-01-01",
            "date_debut_activite": "1997-07-01",
            "departement": "44",
            "distribution_speciale": null,
            "distribution_speciale_2": null,
            "enseigne_1": "SERVICES DE LA POSTE",
            "enseigne_2": null,
            "enseigne_3": null,
            "est_siege": "false",
            "etat_administratif": "F",
            "geo_adresse": "2 Route de la Jonelière 44300 Nantes",
            "geo_id": "44109_4552_00002",
            "id_cc": null,
            "indice_repetition": null,
            "indice_repetition_2": null,
            "latitude": "47.245236",
            "libelle_cedex": "NANTES CEDEX 3",
            "libelle_cedex_2": null,
            "libelle_commune": "NANTES",
            "libelle_commune_2": null,
            "libelle_commune_etranger": null,
            "libelle_commune_etranger_2": null,
            "libelle_pays_etranger": null,
            "libelle_pays_etranger_2": null,
            "libelle_voie": "DE LA JONELIERE",
            "libelle_voie_2": null,
            "longitude": "-1.555655",
            "nom_commercial": null,
            "nom_complet": "la poste",
            "numero_voie": "2",
            "numero_voie_2": null,
            "siren": "356000521",
            "siret": "35600052100183",
            "tranche_effectif_salarie": "NN",
            "type_voie": "RTE",
            "type_voie_2": null
           },
           "_type": "_doc"
          },
          {
           "_id": "356000521",
           "_index": "siren-blue",
           "_nested": {
            "field": "etablissements",
            "offset": 3
           },
           "_score": 14.559588,
           "_source": {
            "activite_principale": "53.10Z",
            "activite_principale_registre_metier": null,
            "adresse": "6 RUE DOCTEUR JULES SEBILLEAU 44109 NANTES",
            "cedex": null,
            "cedex_2": null,
            "code_pays_etranger": null,
            "code_pays_etranger_2": null,
            "code_postal": "44200",
            "commune": "44109",
            "commune_2": null,
            "complement_adresse": null,
            "complement_adresse_2": null,
            "concat_nom_enseigne_adresse_siren_siret": "la poste BUREAU DE POSTE   6 RUE DOCTEUR JULES SEBILLEAU 44109 NANTES 356000521 35600052100191",
            "coordonnees": "47.206123,-1.532505",
            "date_creation": "1991-01-01",
            "date_debut_activite": "2009-03-18",
            "departement": "44",
            "distribution_speciale": null,
            "distribution_speciale_2": null,
            "enseigne_1": "BUREAU DE POSTE",
            "enseigne_2": null,
            "enseigne_3": null,
            "est_siege": "false",
            "etat_administratif": "F",
            "geo_adresse": "6 Rue Docteur Jules Sébilleau 44200 Nantes",
            "geo_id": "44109_2519_00006",
            "id_cc": null,
            "indice_repetition": null,
            "indice_repetition_2": null,
            "latitude": "47.206123",
            "libelle_cedex": null,
            "libelle_cedex_2": null,
            "libelle_commune": "NANTES",
            "libelle_commune_2": null,
            "libelle_commune_etranger": null,
            "libelle_commune_etranger_2": null,
            "libelle_pays_etranger": null,
            "libelle_pays_etranger_2": null,
            "libelle_voie": "DOCTEUR JULES SEBILLEAU",
            "libelle_voie_2": null,
            "longitude": "-1.532505",
            "nom_commercial": null,
            "nom_complet": "la poste",
            "numero_voie": "6",
            "numero_voie_2": null,
            "siren": "356000521",
            "siret": "35600052100191",
            "tranche_effectif_salarie": "NN",
            "type_voie": "RUE",
            "type_voie_2": null
           },
           "_type": "_doc"
          }
         ],
         "max_score": 14.559588,
         "total": {
          "relation": "eq",
          "value": 847
         }
        }
       }
      },
      "text/plain": [
       "<IPython.core.display.JSON object>"
      ]
     },
     "metadata": {
      "application/json": {
       "expanded": false,
       "root": "root"
      }
     },
     "output_type": "display_data"
    },
    {
     "data": {
      "application/json": {
       "etablissements": {
        "hits": {
         "hits": [
          {
           "_id": "356000257",
           "_index": "siren-blue",
           "_nested": {
            "field": "etablissements",
            "offset": 0
           },
           "_score": 12.467024,
           "_source": {
            "activite_principale": "64.1A",
            "activite_principale_registre_metier": null,
            "adresse": "RUE DE LA CULTURE 14009 AMFREVILLE",
            "cedex": null,
            "cedex_2": null,
            "code_pays_etranger": null,
            "code_pays_etranger_2": null,
            "code_postal": "14860",
            "commune": "14009",
            "commune_2": null,
            "complement_adresse": null,
            "complement_adresse_2": null,
            "concat_nom_enseigne_adresse_siren_siret": "la poste BUREAU DE POSTE   RUE DE LA CULTURE 14009 AMFREVILLE 356000257 35600025700028",
            "coordonnees": "49.249287,-0.234547",
            "date_creation": "1991-01-01",
            "date_debut_activite": "2006-08-31",
            "departement": "14",
            "distribution_speciale": null,
            "distribution_speciale_2": null,
            "enseigne_1": "BUREAU DE POSTE",
            "enseigne_2": null,
            "enseigne_3": null,
            "est_siege": "false",
            "etat_administratif": "F",
            "geo_adresse": "Rue de la Culture 14860 Amfreville",
            "geo_id": "14009_0013",
            "id_cc": null,
            "indice_repetition": null,
            "indice_repetition_2": null,
            "latitude": "49.249287",
            "libelle_cedex": null,
            "libelle_cedex_2": null,
            "libelle_commune": "AMFREVILLE",
            "libelle_commune_2": null,
            "libelle_commune_etranger": null,
            "libelle_commune_etranger_2": null,
            "libelle_pays_etranger": null,
            "libelle_pays_etranger_2": null,
            "libelle_voie": "DE LA CULTURE",
            "libelle_voie_2": null,
            "longitude": "-0.234547",
            "nom_commercial": null,
            "nom_complet": "la poste",
            "numero_voie": null,
            "numero_voie_2": null,
            "siren": "356000257",
            "siret": "35600025700028",
            "tranche_effectif_salarie": "NN",
            "type_voie": "RUE",
            "type_voie_2": null
           },
           "_type": "_doc"
          },
          {
           "_id": "356000257",
           "_index": "siren-blue",
           "_nested": {
            "field": "etablissements",
            "offset": 2
           },
           "_score": 12.467024,
           "_source": {
            "activite_principale": "53.10Z",
            "activite_principale_registre_metier": null,
            "adresse": "8 PL GENERAL LECLERC 14020 ARGENCES",
            "cedex": null,
            "cedex_2": null,
            "code_pays_etranger": null,
            "code_pays_etranger_2": null,
            "code_postal": "14370",
            "commune": "14020",
            "commune_2": null,
            "complement_adresse": null,
            "complement_adresse_2": null,
            "concat_nom_enseigne_adresse_siren_siret": "la poste BUREAU DE POSTE   8 PL GENERAL LECLERC 14020 ARGENCES 356000257 35600025700044",
            "coordonnees": "49.127146,-0.163331",
            "date_creation": "1991-01-01",
            "date_debut_activite": "2011-12-31",
            "departement": "14",
            "distribution_speciale": null,
            "distribution_speciale_2": null,
            "enseigne_1": "BUREAU DE POSTE",
            "enseigne_2": null,
            "enseigne_3": null,
            "est_siege": "false",
            "etat_administratif": "F",
            "geo_adresse": "8 Place du General Leclerc 14370 Argences",
            "geo_id": "14020_0320_00008",
            "id_cc": null,
            "indice_repetition": null,
            "indice_repetition_2": null,
            "latitude": "49.127146",
            "libelle_cedex": null,
            "libelle_cedex_2": null,
            "libelle_commune": "ARGENCES",
            "libelle_commune_2": null,
            "libelle_commune_etranger": null,
            "libelle_commune_etranger_2": null,
            "libelle_pays_etranger": null,
            "libelle_pays_etranger_2": null,
            "libelle_voie": "GENERAL LECLERC",
            "libelle_voie_2": null,
            "longitude": "-0.163331",
            "nom_commercial": null,
            "nom_complet": "la poste",
            "numero_voie": "8",
            "numero_voie_2": null,
            "siren": "356000257",
            "siret": "35600025700044",
            "tranche_effectif_salarie": "NN",
            "type_voie": "PL",
            "type_voie_2": null
           },
           "_type": "_doc"
          },
          {
           "_id": "356000257",
           "_index": "siren-blue",
           "_nested": {
            "field": "etablissements",
            "offset": 3
           },
           "_score": 12.467024,
           "_source": {
            "activite_principale": "64.1A",
            "activite_principale_registre_metier": null,
            "adresse": "1 PL TREMOULET 14021 ARROMANCHES-LES-BAINS",
            "cedex": null,
            "cedex_2": null,
            "code_pays_etranger": null,
            "code_pays_etranger_2": null,
            "code_postal": "14117",
            "commune": "14021",
            "commune_2": null,
            "complement_adresse": null,
            "complement_adresse_2": null,
            "concat_nom_enseigne_adresse_siren_siret": "la poste BUREAU DE POSTE   1 PL TREMOULET 14021 ARROMANCHES-LES-BAINS 356000257 35600025700051",
            "coordonnees": "49.339099,-0.622334",
            "date_creation": "1991-01-01",
            "date_debut_activite": "2005-06-08",
            "departement": "14",
            "distribution_speciale": null,
            "distribution_speciale_2": null,
            "enseigne_1": "BUREAU DE POSTE",
            "enseigne_2": null,
            "enseigne_3": null,
            "est_siege": "false",
            "etat_administratif": "F",
            "geo_adresse": "1 Place Alphonse Tremoulet 14117 Arromanches-les-Bains",
            "geo_id": "14021_0020_00001",
            "id_cc": null,
            "indice_repetition": null,
            "indice_repetition_2": null,
            "latitude": "49.339099",
            "libelle_cedex": null,
            "libelle_cedex_2": null,
            "libelle_commune": "ARROMANCHES-LES-BAINS",
            "libelle_commune_2": null,
            "libelle_commune_etranger": null,
            "libelle_commune_etranger_2": null,
            "libelle_pays_etranger": null,
            "libelle_pays_etranger_2": null,
            "libelle_voie": "TREMOULET",
            "libelle_voie_2": null,
            "longitude": "-0.622334",
            "nom_commercial": null,
            "nom_complet": "la poste",
            "numero_voie": "1",
            "numero_voie_2": null,
            "siren": "356000257",
            "siret": "35600025700051",
            "tranche_effectif_salarie": null,
            "type_voie": "PL",
            "type_voie_2": null
           },
           "_type": "_doc"
          }
         ],
         "max_score": 12.467024,
         "total": {
          "relation": "eq",
          "value": 427
         }
        }
       }
      },
      "text/plain": [
       "<IPython.core.display.JSON object>"
      ]
     },
     "metadata": {
      "application/json": {
       "expanded": false,
       "root": "root"
      }
     },
     "output_type": "display_data"
    },
    {
     "data": {
      "application/json": {
       "etablissements": {
        "hits": {
         "hits": [
          {
           "_id": "356000414",
           "_index": "siren-blue",
           "_nested": {
            "field": "etablissements",
            "offset": 1
           },
           "_score": 12.467024,
           "_source": {
            "activite_principale": "64.1A",
            "activite_principale_registre_metier": null,
            "adresse": "24 PL FERRI DE LUDRE 54328 LUDRES",
            "cedex": null,
            "cedex_2": null,
            "code_pays_etranger": null,
            "code_pays_etranger_2": null,
            "code_postal": "54710",
            "commune": "54328",
            "commune_2": null,
            "complement_adresse": null,
            "complement_adresse_2": null,
            "concat_nom_enseigne_adresse_siren_siret": "la poste SERVICES DE LA POSTE   24 PL FERRI DE LUDRE 54328 LUDRES 356000414 35600041400389",
            "coordonnees": "48.621479,6.161249",
            "date_creation": "1991-01-01",
            "date_debut_activite": "2001-10-19",
            "departement": "54",
            "distribution_speciale": null,
            "distribution_speciale_2": null,
            "enseigne_1": "SERVICES DE LA POSTE",
            "enseigne_2": null,
            "enseigne_3": null,
            "est_siege": "false",
            "etat_administratif": "F",
            "geo_adresse": "24 Place Ferri de Ludre 54710 Ludres",
            "geo_id": "54328_0571_00024",
            "id_cc": null,
            "indice_repetition": null,
            "indice_repetition_2": null,
            "latitude": "48.621479",
            "libelle_cedex": null,
            "libelle_cedex_2": null,
            "libelle_commune": "LUDRES",
            "libelle_commune_2": null,
            "libelle_commune_etranger": null,
            "libelle_commune_etranger_2": null,
            "libelle_pays_etranger": null,
            "libelle_pays_etranger_2": null,
            "libelle_voie": "FERRI DE LUDRE",
            "libelle_voie_2": null,
            "longitude": "6.161249",
            "nom_commercial": null,
            "nom_complet": "la poste",
            "numero_voie": "24",
            "numero_voie_2": null,
            "siren": "356000414",
            "siret": "35600041400389",
            "tranche_effectif_salarie": "NN",
            "type_voie": "PL",
            "type_voie_2": null
           },
           "_type": "_doc"
          },
          {
           "_id": "356000414",
           "_index": "siren-blue",
           "_nested": {
            "field": "etablissements",
            "offset": 3
           },
           "_score": 12.467024,
           "_source": {
            "activite_principale": "53.10Z",
            "activite_principale_registre_metier": null,
            "adresse": "2 ALL CHARLES COURNAULT 54339 MALZEVILLE",
            "cedex": null,
            "cedex_2": null,
            "code_pays_etranger": null,
            "code_pays_etranger_2": null,
            "code_postal": "54220",
            "commune": "54339",
            "commune_2": null,
            "complement_adresse": null,
            "complement_adresse_2": null,
            "concat_nom_enseigne_adresse_siren_siret": "la poste BUREAU DE POSTE   2 ALL CHARLES COURNAULT 54339 MALZEVILLE 356000414 35600041400405",
            "coordonnees": "48.709191,6.184145",
            "date_creation": "1991-01-01",
            "date_debut_activite": "2009-03-18",
            "departement": "54",
            "distribution_speciale": null,
            "distribution_speciale_2": null,
            "enseigne_1": "BUREAU DE POSTE",
            "enseigne_2": null,
            "enseigne_3": null,
            "est_siege": "false",
            "etat_administratif": "F",
            "geo_adresse": "2 Allée Charles Cournault 54220 Malzéville",
            "geo_id": "54339_0078_00002",
            "id_cc": null,
            "indice_repetition": null,
            "indice_repetition_2": null,
            "latitude": "48.709191",
            "libelle_cedex": null,
            "libelle_cedex_2": null,
            "libelle_commune": "MALZEVILLE",
            "libelle_commune_2": null,
            "libelle_commune_etranger": null,
            "libelle_commune_etranger_2": null,
            "libelle_pays_etranger": null,
            "libelle_pays_etranger_2": null,
            "libelle_voie": "CHARLES COURNAULT",
            "libelle_voie_2": null,
            "longitude": "6.184145",
            "nom_commercial": null,
            "nom_complet": "la poste",
            "numero_voie": "2",
            "numero_voie_2": null,
            "siren": "356000414",
            "siret": "35600041400405",
            "tranche_effectif_salarie": "NN",
            "type_voie": "ALL",
            "type_voie_2": null
           },
           "_type": "_doc"
          },
          {
           "_id": "356000414",
           "_index": "siren-blue",
           "_nested": {
            "field": "etablissements",
            "offset": 4
           },
           "_score": 12.467024,
           "_source": {
            "activite_principale": "53.10Z",
            "activite_principale_registre_metier": null,
            "adresse": "RUE DE TAVANNES 54099 VAL DE BRIEY",
            "cedex": null,
            "cedex_2": null,
            "code_pays_etranger": null,
            "code_pays_etranger_2": null,
            "code_postal": "54790",
            "commune": "54099",
            "commune_2": null,
            "complement_adresse": null,
            "complement_adresse_2": null,
            "concat_nom_enseigne_adresse_siren_siret": "la poste BUREAU DE POSTE   RUE DE TAVANNES 54099 VAL DE BRIEY 356000414 35600041400413",
            "coordonnees": "49.283543,5.894011",
            "date_creation": "1991-01-01",
            "date_debut_activite": "2009-03-18",
            "departement": "54",
            "distribution_speciale": null,
            "distribution_speciale_2": null,
            "enseigne_1": "BUREAU DE POSTE",
            "enseigne_2": null,
            "enseigne_3": null,
            "est_siege": "false",
            "etat_administratif": "F",
            "geo_adresse": "Rue de Tavannes 54150 Val de Briey",
            "geo_id": "54342_0440",
            "id_cc": null,
            "indice_repetition": null,
            "indice_repetition_2": null,
            "latitude": "49.283543",
            "libelle_cedex": null,
            "libelle_cedex_2": null,
            "libelle_commune": "VAL DE BRIEY",
            "libelle_commune_2": null,
            "libelle_commune_etranger": null,
            "libelle_commune_etranger_2": null,
            "libelle_pays_etranger": null,
            "libelle_pays_etranger_2": null,
            "libelle_voie": "DE TAVANNES",
            "libelle_voie_2": null,
            "longitude": "5.894011",
            "nom_commercial": null,
            "nom_complet": "la poste",
            "numero_voie": null,
            "numero_voie_2": null,
            "siren": "356000414",
            "siret": "35600041400413",
            "tranche_effectif_salarie": "NN",
            "type_voie": "RUE",
            "type_voie_2": null
           },
           "_type": "_doc"
          }
         ],
         "max_score": 12.467024,
         "total": {
          "relation": "eq",
          "value": 610
         }
        }
       }
      },
      "text/plain": [
       "<IPython.core.display.JSON object>"
      ]
     },
     "metadata": {
      "application/json": {
       "expanded": false,
       "root": "root"
      }
     },
     "output_type": "display_data"
    },
    {
     "data": {
      "application/json": {
       "etablissements": {
        "hits": {
         "hits": [
          {
           "_id": "356000539",
           "_index": "siren-blue",
           "_nested": {
            "field": "etablissements",
            "offset": 1
           },
           "_score": 12.467024,
           "_source": {
            "activite_principale": "64.1A",
            "activite_principale_registre_metier": null,
            "adresse": "LE BOURG 22115 LANRIVAIN",
            "cedex": null,
            "cedex_2": null,
            "code_pays_etranger": null,
            "code_pays_etranger_2": null,
            "code_postal": "22480",
            "commune": "22115",
            "commune_2": null,
            "complement_adresse": null,
            "complement_adresse_2": null,
            "concat_nom_enseigne_adresse_siren_siret": "la poste BUREAU DE POSTE   LE BOURG 22115 LANRIVAIN 356000539 35600053900649",
            "coordonnees": "48.366425,-3.206141",
            "date_creation": "1991-01-01",
            "date_debut_activite": "2007-08-22",
            "departement": "22",
            "distribution_speciale": null,
            "distribution_speciale_2": null,
            "enseigne_1": "BUREAU DE POSTE",
            "enseigne_2": null,
            "enseigne_3": null,
            "est_siege": "false",
            "etat_administratif": "F",
            "geo_adresse": "Le Magourou 22480 Lanrivain",
            "geo_id": "22115_t6ev1g",
            "id_cc": null,
            "indice_repetition": null,
            "indice_repetition_2": null,
            "latitude": "48.366425",
            "libelle_cedex": null,
            "libelle_cedex_2": null,
            "libelle_commune": "LANRIVAIN",
            "libelle_commune_2": null,
            "libelle_commune_etranger": null,
            "libelle_commune_etranger_2": null,
            "libelle_pays_etranger": null,
            "libelle_pays_etranger_2": null,
            "libelle_voie": "LE BOURG",
            "libelle_voie_2": null,
            "longitude": "-3.206141",
            "nom_commercial": null,
            "nom_complet": "la poste",
            "numero_voie": null,
            "numero_voie_2": null,
            "siren": "356000539",
            "siret": "35600053900649",
            "tranche_effectif_salarie": "NN",
            "type_voie": null,
            "type_voie_2": null
           },
           "_type": "_doc"
          },
          {
           "_id": "356000539",
           "_index": "siren-blue",
           "_nested": {
            "field": "etablissements",
            "offset": 2
           },
           "_score": 12.467024,
           "_source": {
            "activite_principale": "53.10Z",
            "activite_principale_registre_metier": null,
            "adresse": "NOTRE DAME DE LA COUR PL ROSMADEC 22117 LANTIC",
            "cedex": null,
            "cedex_2": null,
            "code_pays_etranger": null,
            "code_pays_etranger_2": null,
            "code_postal": "22410",
            "commune": "22117",
            "commune_2": null,
            "complement_adresse": "NOTRE DAME DE LA COUR",
            "complement_adresse_2": null,
            "concat_nom_enseigne_adresse_siren_siret": "la poste BUREAU DE POSTE   NOTRE DAME DE LA COUR PL ROSMADEC 22117 LANTIC 356000539 35600053900656",
            "coordonnees": "48.598791,-2.896226",
            "date_creation": "1991-01-01",
            "date_debut_activite": "2009-03-18",
            "departement": "22",
            "distribution_speciale": null,
            "distribution_speciale_2": null,
            "enseigne_1": "BUREAU DE POSTE",
            "enseigne_2": null,
            "enseigne_3": null,
            "est_siege": "false",
            "etat_administratif": "F",
            "geo_adresse": "Place Rosmadec 22410 Lantic",
            "geo_id": "22117_0140",
            "id_cc": null,
            "indice_repetition": null,
            "indice_repetition_2": null,
            "latitude": "48.598791",
            "libelle_cedex": null,
            "libelle_cedex_2": null,
            "libelle_commune": "LANTIC",
            "libelle_commune_2": null,
            "libelle_commune_etranger": null,
            "libelle_commune_etranger_2": null,
            "libelle_pays_etranger": null,
            "libelle_pays_etranger_2": null,
            "libelle_voie": "ROSMADEC",
            "libelle_voie_2": null,
            "longitude": "-2.896226",
            "nom_commercial": null,
            "nom_complet": "la poste",
            "numero_voie": null,
            "numero_voie_2": null,
            "siren": "356000539",
            "siret": "35600053900656",
            "tranche_effectif_salarie": "NN",
            "type_voie": "PL",
            "type_voie_2": null
           },
           "_type": "_doc"
          },
          {
           "_id": "356000539",
           "_index": "siren-blue",
           "_nested": {
            "field": "etablissements",
            "offset": 4
           },
           "_score": 12.467024,
           "_source": {
            "activite_principale": "53.10Z",
            "activite_principale_registre_metier": null,
            "adresse": "3 RUE SA JACQUES 22121 LANVOLLON",
            "cedex": null,
            "cedex_2": null,
            "code_pays_etranger": null,
            "code_pays_etranger_2": null,
            "code_postal": "22290",
            "commune": "22121",
            "commune_2": null,
            "complement_adresse": null,
            "complement_adresse_2": null,
            "concat_nom_enseigne_adresse_siren_siret": "la poste BUREAU DE POSTE   3 RUE SA JACQUES 22121 LANVOLLON 356000539 35600053900672",
            "coordonnees": "48.631982,-2.987074",
            "date_creation": "1991-01-01",
            "date_debut_activite": "2009-03-18",
            "departement": "22",
            "distribution_speciale": null,
            "distribution_speciale_2": null,
            "enseigne_1": "BUREAU DE POSTE",
            "enseigne_2": null,
            "enseigne_3": null,
            "est_siege": "false",
            "etat_administratif": "F",
            "geo_adresse": "3 Rue Saint-Jacques 22290 Lanvollon",
            "geo_id": "22121_0235_00003",
            "id_cc": null,
            "indice_repetition": null,
            "indice_repetition_2": null,
            "latitude": "48.631982",
            "libelle_cedex": null,
            "libelle_cedex_2": null,
            "libelle_commune": "LANVOLLON",
            "libelle_commune_2": null,
            "libelle_commune_etranger": null,
            "libelle_commune_etranger_2": null,
            "libelle_pays_etranger": null,
            "libelle_pays_etranger_2": null,
            "libelle_voie": "SA JACQUES",
            "libelle_voie_2": null,
            "longitude": "-2.987074",
            "nom_commercial": null,
            "nom_complet": "la poste",
            "numero_voie": "3",
            "numero_voie_2": null,
            "siren": "356000539",
            "siret": "35600053900672",
            "tranche_effectif_salarie": "NN",
            "type_voie": "RUE",
            "type_voie_2": null
           },
           "_type": "_doc"
          }
         ],
         "max_score": 12.467024,
         "total": {
          "relation": "eq",
          "value": 737
         }
        }
       }
      },
      "text/plain": [
       "<IPython.core.display.JSON object>"
      ]
     },
     "metadata": {
      "application/json": {
       "expanded": false,
       "root": "root"
      }
     },
     "output_type": "display_data"
    },
    {
     "data": {
      "application/json": {
       "etablissements": {
        "hits": {
         "hits": [
          {
           "_id": "356000745",
           "_index": "siren-blue",
           "_nested": {
            "field": "etablissements",
            "offset": 0
           },
           "_score": 12.467024,
           "_source": {
            "activite_principale": "53.10Z",
            "activite_principale_registre_metier": null,
            "adresse": "7 PL DE LA POSTE 19011 ARNAC-POMPADOUR",
            "cedex": null,
            "cedex_2": null,
            "code_pays_etranger": null,
            "code_pays_etranger_2": null,
            "code_postal": "19230",
            "commune": "19011",
            "commune_2": null,
            "complement_adresse": null,
            "complement_adresse_2": null,
            "concat_nom_enseigne_adresse_siren_siret": "la poste BUREAU DE POSTE   7 PL DE LA POSTE 19011 ARNAC-POMPADOUR 356000745 35600074500030",
            "coordonnees": "45.398047,1.382007",
            "date_creation": "1991-01-01",
            "date_debut_activite": "2011-12-31",
            "departement": "19",
            "distribution_speciale": null,
            "distribution_speciale_2": null,
            "enseigne_1": "BUREAU DE POSTE",
            "enseigne_2": null,
            "enseigne_3": null,
            "est_siege": "false",
            "etat_administratif": "F",
            "geo_adresse": "7 Place de la Poste 19230 Arnac-Pompadour",
            "geo_id": "19011_0095_00007",
            "id_cc": null,
            "indice_repetition": null,
            "indice_repetition_2": null,
            "latitude": "45.398047",
            "libelle_cedex": null,
            "libelle_cedex_2": null,
            "libelle_commune": "ARNAC-POMPADOUR",
            "libelle_commune_2": null,
            "libelle_commune_etranger": null,
            "libelle_commune_etranger_2": null,
            "libelle_pays_etranger": null,
            "libelle_pays_etranger_2": null,
            "libelle_voie": "DE LA POSTE",
            "libelle_voie_2": null,
            "longitude": "1.382007",
            "nom_commercial": null,
            "nom_complet": "la poste",
            "numero_voie": "7",
            "numero_voie_2": null,
            "siren": "356000745",
            "siret": "35600074500030",
            "tranche_effectif_salarie": "NN",
            "type_voie": "PL",
            "type_voie_2": null
           },
           "_type": "_doc"
          },
          {
           "_id": "356000745",
           "_index": "siren-blue",
           "_nested": {
            "field": "etablissements",
            "offset": 1
           },
           "_score": 12.467024,
           "_source": {
            "activite_principale": "53.10Z",
            "activite_principale_registre_metier": null,
            "adresse": "AV BRUGEILLES 19013 AUBAZINES",
            "cedex": null,
            "cedex_2": null,
            "code_pays_etranger": null,
            "code_pays_etranger_2": null,
            "code_postal": "19190",
            "commune": "19013",
            "commune_2": null,
            "complement_adresse": null,
            "complement_adresse_2": null,
            "concat_nom_enseigne_adresse_siren_siret": "la poste BUREAU DE POSTE   AV BRUGEILLES 19013 AUBAZINES 356000745 35600074500048",
            "coordonnees": "45.173894,1.669557",
            "date_creation": "1991-01-01",
            "date_debut_activite": "2009-03-18",
            "departement": "19",
            "distribution_speciale": null,
            "distribution_speciale_2": null,
            "enseigne_1": "BUREAU DE POSTE",
            "enseigne_2": null,
            "enseigne_3": null,
            "est_siege": "false",
            "etat_administratif": "F",
            "geo_adresse": "Rue Louis Brugeilles 19190 Aubazines",
            "geo_id": "19013_0001",
            "id_cc": null,
            "indice_repetition": null,
            "indice_repetition_2": null,
            "latitude": "45.173894",
            "libelle_cedex": null,
            "libelle_cedex_2": null,
            "libelle_commune": "AUBAZINES",
            "libelle_commune_2": null,
            "libelle_commune_etranger": null,
            "libelle_commune_etranger_2": null,
            "libelle_pays_etranger": null,
            "libelle_pays_etranger_2": null,
            "libelle_voie": "BRUGEILLES",
            "libelle_voie_2": null,
            "longitude": "1.669557",
            "nom_commercial": null,
            "nom_complet": "la poste",
            "numero_voie": null,
            "numero_voie_2": null,
            "siren": "356000745",
            "siret": "35600074500048",
            "tranche_effectif_salarie": "NN",
            "type_voie": "AV",
            "type_voie_2": null
           },
           "_type": "_doc"
          },
          {
           "_id": "356000745",
           "_index": "siren-blue",
           "_nested": {
            "field": "etablissements",
            "offset": 2
           },
           "_score": 12.467024,
           "_source": {
            "activite_principale": "53.10Z",
            "activite_principale_registre_metier": null,
            "adresse": "LE BOURG 19014 AURIAC",
            "cedex": null,
            "cedex_2": null,
            "code_pays_etranger": null,
            "code_pays_etranger_2": null,
            "code_postal": "19220",
            "commune": "19014",
            "commune_2": null,
            "complement_adresse": null,
            "complement_adresse_2": null,
            "concat_nom_enseigne_adresse_siren_siret": "la poste BUREAU DE POSTE   LE BOURG 19014 AURIAC 356000745 35600074500055",
            "coordonnees": "45.1826,2.155416",
            "date_creation": "1991-01-01",
            "date_debut_activite": "2009-03-18",
            "departement": "19",
            "distribution_speciale": null,
            "distribution_speciale_2": null,
            "enseigne_1": "BUREAU DE POSTE",
            "enseigne_2": null,
            "enseigne_3": null,
            "est_siege": "false",
            "etat_administratif": "F",
            "geo_adresse": "Le Mons 19220 Auriac",
            "geo_id": "19014_huj58i",
            "id_cc": null,
            "indice_repetition": null,
            "indice_repetition_2": null,
            "latitude": "45.1826",
            "libelle_cedex": null,
            "libelle_cedex_2": null,
            "libelle_commune": "AURIAC",
            "libelle_commune_2": null,
            "libelle_commune_etranger": null,
            "libelle_commune_etranger_2": null,
            "libelle_pays_etranger": null,
            "libelle_pays_etranger_2": null,
            "libelle_voie": "LE BOURG",
            "libelle_voie_2": null,
            "longitude": "2.155416",
            "nom_commercial": null,
            "nom_complet": "la poste",
            "numero_voie": null,
            "numero_voie_2": null,
            "siren": "356000745",
            "siret": "35600074500055",
            "tranche_effectif_salarie": "NN",
            "type_voie": null,
            "type_voie_2": null
           },
           "_type": "_doc"
          }
         ],
         "max_score": 12.467024,
         "total": {
          "relation": "eq",
          "value": 367
         }
        }
       }
      },
      "text/plain": [
       "<IPython.core.display.JSON object>"
      ]
     },
     "metadata": {
      "application/json": {
       "expanded": false,
       "root": "root"
      }
     },
     "output_type": "display_data"
    },
    {
     "data": {
      "application/json": {
       "etablissements": {
        "hits": {
         "hits": [
          {
           "_id": "356000976",
           "_index": "siren-blue",
           "_nested": {
            "field": "etablissements",
            "offset": 1
           },
           "_score": 12.467024,
           "_source": {
            "activite_principale": "53.10Z",
            "activite_principale_registre_metier": null,
            "adresse": "BOURG 97133 VIEUX-FORT",
            "cedex": null,
            "cedex_2": null,
            "code_pays_etranger": null,
            "code_pays_etranger_2": null,
            "code_postal": "97141",
            "commune": "97133",
            "commune_2": null,
            "complement_adresse": null,
            "complement_adresse_2": null,
            "concat_nom_enseigne_adresse_siren_siret": "la poste BUREAU DE POSTE   BOURG 97133 VIEUX-FORT 356000976 35600097600031",
            "coordonnees": "44.2011043,-1.229143",
            "date_creation": "1991-01-01",
            "date_debut_activite": "2009-03-18",
            "departement": "971",
            "distribution_speciale": null,
            "distribution_speciale_2": null,
            "enseigne_1": "BUREAU DE POSTE",
            "enseigne_2": null,
            "enseigne_3": null,
            "est_siege": "false",
            "etat_administratif": "F",
            "geo_adresse": "École du bourg Mimizan",
            "geo_id": "https://osm.org/way/35215942",
            "id_cc": null,
            "indice_repetition": null,
            "indice_repetition_2": null,
            "latitude": "44.2011043",
            "libelle_cedex": null,
            "libelle_cedex_2": null,
            "libelle_commune": "VIEUX-FORT",
            "libelle_commune_2": null,
            "libelle_commune_etranger": null,
            "libelle_commune_etranger_2": null,
            "libelle_pays_etranger": null,
            "libelle_pays_etranger_2": null,
            "libelle_voie": "BOURG",
            "libelle_voie_2": null,
            "longitude": "-1.229143",
            "nom_commercial": null,
            "nom_complet": "la poste",
            "numero_voie": null,
            "numero_voie_2": null,
            "siren": "356000976",
            "siret": "35600097600031",
            "tranche_effectif_salarie": "NN",
            "type_voie": null,
            "type_voie_2": null
           },
           "_type": "_doc"
          },
          {
           "_id": "356000976",
           "_index": "siren-blue",
           "_nested": {
            "field": "etablissements",
            "offset": 2
           },
           "_score": 12.467024,
           "_source": {
            "activite_principale": "53.10Z",
            "activite_principale_registre_metier": null,
            "adresse": "RUE GENERAL WEYGAND 97134 VIEUX-HABITANTS",
            "cedex": null,
            "cedex_2": null,
            "code_pays_etranger": null,
            "code_pays_etranger_2": null,
            "code_postal": "97119",
            "commune": "97134",
            "commune_2": null,
            "complement_adresse": null,
            "complement_adresse_2": null,
            "concat_nom_enseigne_adresse_siren_siret": "la poste BUREAU DE POSTE   RUE GENERAL WEYGAND 97134 VIEUX-HABITANTS 356000976 35600097600049",
            "coordonnees": "16.080406,-61.767698",
            "date_creation": "1991-01-01",
            "date_debut_activite": "2011-12-31",
            "departement": "971",
            "distribution_speciale": null,
            "distribution_speciale_2": null,
            "enseigne_1": "BUREAU DE POSTE",
            "enseigne_2": null,
            "enseigne_3": null,
            "est_siege": "false",
            "etat_administratif": "F",
            "geo_adresse": "Rue du Général de Sonis 97119 Vieux-Habitants",
            "geo_id": "97134_0052",
            "id_cc": null,
            "indice_repetition": null,
            "indice_repetition_2": null,
            "latitude": "16.080406",
            "libelle_cedex": null,
            "libelle_cedex_2": null,
            "libelle_commune": "VIEUX-HABITANTS",
            "libelle_commune_2": null,
            "libelle_commune_etranger": null,
            "libelle_commune_etranger_2": null,
            "libelle_pays_etranger": null,
            "libelle_pays_etranger_2": null,
            "libelle_voie": "GENERAL WEYGAND",
            "libelle_voie_2": null,
            "longitude": "-61.767698",
            "nom_commercial": null,
            "nom_complet": "la poste",
            "numero_voie": null,
            "numero_voie_2": null,
            "siren": "356000976",
            "siret": "35600097600049",
            "tranche_effectif_salarie": "NN",
            "type_voie": "RUE",
            "type_voie_2": null
           },
           "_type": "_doc"
          },
          {
           "_id": "356000976",
           "_index": "siren-blue",
           "_nested": {
            "field": "etablissements",
            "offset": 3
           },
           "_score": 12.467024,
           "_source": {
            "activite_principale": "53.10Z",
            "activite_principale_registre_metier": null,
            "adresse": "BANANIER RTE NATIONALE 97107 CAPESTERRE-BELLE-EAU",
            "cedex": null,
            "cedex_2": null,
            "code_pays_etranger": null,
            "code_pays_etranger_2": null,
            "code_postal": "97130",
            "commune": "97107",
            "commune_2": null,
            "complement_adresse": "BANANIER",
            "complement_adresse_2": null,
            "concat_nom_enseigne_adresse_siren_siret": "la poste BUREAU DE POSTE   BANANIER RTE NATIONALE 97107 CAPESTERRE-BELLE-EAU 356000976 35600097600056",
            "coordonnees": "16.068512,-61.567703",
            "date_creation": "1991-01-01",
            "date_debut_activite": "2009-03-18",
            "departement": "971",
            "distribution_speciale": null,
            "distribution_speciale_2": null,
            "enseigne_1": "BUREAU DE POSTE",
            "enseigne_2": null,
            "enseigne_3": null,
            "est_siege": "false",
            "etat_administratif": "F",
            "geo_adresse": "Route Nationale 97130 Capesterre-Belle-Eau",
            "geo_id": "97107_ge8jdo",
            "id_cc": null,
            "indice_repetition": null,
            "indice_repetition_2": null,
            "latitude": "16.068512",
            "libelle_cedex": null,
            "libelle_cedex_2": null,
            "libelle_commune": "CAPESTERRE-BELLE-EAU",
            "libelle_commune_2": null,
            "libelle_commune_etranger": null,
            "libelle_commune_etranger_2": null,
            "libelle_pays_etranger": null,
            "libelle_pays_etranger_2": null,
            "libelle_voie": "NATIONALE",
            "libelle_voie_2": null,
            "longitude": "-61.567703",
            "nom_commercial": null,
            "nom_complet": "la poste",
            "numero_voie": null,
            "numero_voie_2": null,
            "siren": "356000976",
            "siret": "35600097600056",
            "tranche_effectif_salarie": "NN",
            "type_voie": "RTE",
            "type_voie_2": null
           },
           "_type": "_doc"
          }
         ],
         "max_score": 12.467024,
         "total": {
          "relation": "eq",
          "value": 240
         }
        }
       }
      },
      "text/plain": [
       "<IPython.core.display.JSON object>"
      ]
     },
     "metadata": {
      "application/json": {
       "expanded": false,
       "root": "root"
      }
     },
     "output_type": "display_data"
    },
    {
     "data": {
      "application/json": {
       "etablissements": {
        "hits": {
         "hits": [
          {
           "_id": "356000117",
           "_index": "siren-blue",
           "_nested": {
            "field": "etablissements",
            "offset": 3
           },
           "_score": 12.467024,
           "_source": {
            "activite_principale": null,
            "activite_principale_registre_metier": null,
            "adresse": "1 RUE CARNOT 54329 LUNEVILLE",
            "cedex": null,
            "cedex_2": null,
            "code_pays_etranger": null,
            "code_pays_etranger_2": null,
            "code_postal": "54300",
            "commune": "54329",
            "commune_2": null,
            "complement_adresse": null,
            "complement_adresse_2": null,
            "concat_nom_enseigne_adresse_siren_siret": "la poste SERVICES DE LA POSTE   1 RUE CARNOT 54329 LUNEVILLE 356000117 35600011715915",
            "coordonnees": "48.59069,6.495819",
            "date_creation": "2001-08-09",
            "date_debut_activite": "2001-08-09",
            "departement": "54",
            "distribution_speciale": null,
            "distribution_speciale_2": null,
            "enseigne_1": "SERVICES DE LA POSTE",
            "enseigne_2": null,
            "enseigne_3": null,
            "est_siege": "false",
            "etat_administratif": "F",
            "geo_adresse": "1 Rue Carnot 54300 Lunéville",
            "geo_id": "54329_0210_00001",
            "id_cc": null,
            "indice_repetition": null,
            "indice_repetition_2": null,
            "latitude": "48.59069",
            "libelle_cedex": null,
            "libelle_cedex_2": null,
            "libelle_commune": "LUNEVILLE",
            "libelle_commune_2": null,
            "libelle_commune_etranger": null,
            "libelle_commune_etranger_2": null,
            "libelle_pays_etranger": null,
            "libelle_pays_etranger_2": null,
            "libelle_voie": "CARNOT",
            "libelle_voie_2": null,
            "longitude": "6.495819",
            "nom_commercial": null,
            "nom_complet": "la poste",
            "numero_voie": "1",
            "numero_voie_2": null,
            "siren": "356000117",
            "siret": "35600011715915",
            "tranche_effectif_salarie": null,
            "type_voie": "RUE",
            "type_voie_2": null
           },
           "_type": "_doc"
          },
          {
           "_id": "356000117",
           "_index": "siren-blue",
           "_nested": {
            "field": "etablissements",
            "offset": 5
           },
           "_score": 12.467024,
           "_source": {
            "activite_principale": "64.1A",
            "activite_principale_registre_metier": null,
            "adresse": "10 RUE DU GENERAL D'HARVILLE 77162 DOUE",
            "cedex": null,
            "cedex_2": null,
            "code_pays_etranger": null,
            "code_pays_etranger_2": null,
            "code_postal": "77510",
            "commune": "77162",
            "commune_2": null,
            "complement_adresse": null,
            "complement_adresse_2": null,
            "concat_nom_enseigne_adresse_siren_siret": "la poste BUREAU DE POSTE   10 RUE DU GENERAL D'HARVILLE 77162 DOUE 356000117 35600011705973",
            "coordonnees": "48.866877,3.163163",
            "date_creation": "1991-01-01",
            "date_debut_activite": "2007-10-05",
            "departement": "77",
            "distribution_speciale": null,
            "distribution_speciale_2": null,
            "enseigne_1": "BUREAU DE POSTE",
            "enseigne_2": null,
            "enseigne_3": null,
            "est_siege": "false",
            "etat_administratif": "F",
            "geo_adresse": "10 Rue du Général d’Harville 77510 Doue",
            "geo_id": "77162_0100_00010",
            "id_cc": null,
            "indice_repetition": null,
            "indice_repetition_2": null,
            "latitude": "48.866877",
            "libelle_cedex": null,
            "libelle_cedex_2": null,
            "libelle_commune": "DOUE",
            "libelle_commune_2": null,
            "libelle_commune_etranger": null,
            "libelle_commune_etranger_2": null,
            "libelle_pays_etranger": null,
            "libelle_pays_etranger_2": null,
            "libelle_voie": "DU GENERAL D'HARVILLE",
            "libelle_voie_2": null,
            "longitude": "3.163163",
            "nom_commercial": null,
            "nom_complet": "la poste",
            "numero_voie": "10",
            "numero_voie_2": null,
            "siren": "356000117",
            "siret": "35600011705973",
            "tranche_effectif_salarie": "NN",
            "type_voie": "RUE",
            "type_voie_2": null
           },
           "_type": "_doc"
          },
          {
           "_id": "356000117",
           "_index": "siren-blue",
           "_nested": {
            "field": "etablissements",
            "offset": 6
           },
           "_score": 12.467024,
           "_source": {
            "activite_principale": "53.10Z",
            "activite_principale_registre_metier": null,
            "adresse": "23 RUE SAINT MARTIN 77168 EGREVILLE",
            "cedex": null,
            "cedex_2": null,
            "code_pays_etranger": null,
            "code_pays_etranger_2": null,
            "code_postal": "77620",
            "commune": "77168",
            "commune_2": null,
            "complement_adresse": null,
            "complement_adresse_2": null,
            "concat_nom_enseigne_adresse_siren_siret": "la poste BUREAU DE POSTE   23 RUE SAINT MARTIN 77168 EGREVILLE 356000117 35600011705981",
            "coordonnees": "48.17562,2.872311",
            "date_creation": "1991-01-01",
            "date_debut_activite": "2009-03-18",
            "departement": "77",
            "distribution_speciale": null,
            "distribution_speciale_2": null,
            "enseigne_1": "BUREAU DE POSTE",
            "enseigne_2": null,
            "enseigne_3": null,
            "est_siege": "false",
            "etat_administratif": "F",
            "geo_adresse": "23 Rue Saint-Martin 77620 Égreville",
            "geo_id": "77168_0740_00023",
            "id_cc": null,
            "indice_repetition": null,
            "indice_repetition_2": null,
            "latitude": "48.17562",
            "libelle_cedex": null,
            "libelle_cedex_2": null,
            "libelle_commune": "EGREVILLE",
            "libelle_commune_2": null,
            "libelle_commune_etranger": null,
            "libelle_commune_etranger_2": null,
            "libelle_pays_etranger": null,
            "libelle_pays_etranger_2": null,
            "libelle_voie": "SAINT MARTIN",
            "libelle_voie_2": null,
            "longitude": "2.872311",
            "nom_commercial": null,
            "nom_complet": "la poste",
            "numero_voie": "23",
            "numero_voie_2": null,
            "siren": "356000117",
            "siret": "35600011705981",
            "tranche_effectif_salarie": "NN",
            "type_voie": "RUE",
            "type_voie_2": null
           },
           "_type": "_doc"
          }
         ],
         "max_score": 12.467024,
         "total": {
          "relation": "eq",
          "value": 1307
         }
        }
       }
      },
      "text/plain": [
       "<IPython.core.display.JSON object>"
      ]
     },
     "metadata": {
      "application/json": {
       "expanded": false,
       "root": "root"
      }
     },
     "output_type": "display_data"
    },
    {
     "data": {
      "application/json": {
       "etablissements": {
        "hits": {
         "hits": [
          {
           "_id": "356000224",
           "_index": "siren-blue",
           "_nested": {
            "field": "etablissements",
            "offset": 0
           },
           "_score": 12.480395,
           "_source": {
            "activite_principale": "53.10Z",
            "activite_principale_registre_metier": null,
            "adresse": "RUE CLOITRE 02058 BEAURIEUX",
            "cedex": null,
            "cedex_2": null,
            "code_pays_etranger": null,
            "code_pays_etranger_2": null,
            "code_postal": "02160",
            "commune": "02058",
            "commune_2": null,
            "complement_adresse": null,
            "complement_adresse_2": null,
            "concat_nom_enseigne_adresse_siren_siret": "la poste BUREAU DE POSTE   RUE CLOITRE 02058 BEAURIEUX 356000224 35600022400515",
            "coordonnees": "49.393336,3.737795",
            "date_creation": "1991-01-01",
            "date_debut_activite": "2009-03-18",
            "departement": "02",
            "distribution_speciale": null,
            "distribution_speciale_2": null,
            "enseigne_1": "BUREAU DE POSTE",
            "enseigne_2": null,
            "enseigne_3": null,
            "est_siege": "false",
            "etat_administratif": "F",
            "geo_adresse": "Rue du Cloitre 02160 Beaurieux",
            "geo_id": "02058_0008",
            "id_cc": null,
            "indice_repetition": null,
            "indice_repetition_2": null,
            "latitude": "49.393336",
            "libelle_cedex": null,
            "libelle_cedex_2": null,
            "libelle_commune": "BEAURIEUX",
            "libelle_commune_2": null,
            "libelle_commune_etranger": null,
            "libelle_commune_etranger_2": null,
            "libelle_pays_etranger": null,
            "libelle_pays_etranger_2": null,
            "libelle_voie": "CLOITRE",
            "libelle_voie_2": null,
            "longitude": "3.737795",
            "nom_commercial": null,
            "nom_complet": "la poste",
            "numero_voie": null,
            "numero_voie_2": null,
            "siren": "356000224",
            "siret": "35600022400515",
            "tranche_effectif_salarie": "NN",
            "type_voie": "RUE",
            "type_voie_2": null
           },
           "_type": "_doc"
          },
          {
           "_id": "356000224",
           "_index": "siren-blue",
           "_nested": {
            "field": "etablissements",
            "offset": 1
           },
           "_score": 12.480395,
           "_source": {
            "activite_principale": "53.10Z",
            "activite_principale_registre_metier": null,
            "adresse": "15 RUE TERGNIER 02059 BEAUTOR",
            "cedex": null,
            "cedex_2": null,
            "code_pays_etranger": null,
            "code_pays_etranger_2": null,
            "code_postal": "02800",
            "commune": "02059",
            "commune_2": null,
            "complement_adresse": null,
            "complement_adresse_2": null,
            "concat_nom_enseigne_adresse_siren_siret": "la poste BUREAU DE POSTE   15 RUE TERGNIER 02059 BEAUTOR 356000224 35600022400523",
            "coordonnees": "49.658845,3.344798",
            "date_creation": "1991-01-01",
            "date_debut_activite": "2009-03-18",
            "departement": "02",
            "distribution_speciale": null,
            "distribution_speciale_2": null,
            "enseigne_1": "BUREAU DE POSTE",
            "enseigne_2": null,
            "enseigne_3": null,
            "est_siege": "false",
            "etat_administratif": "F",
            "geo_adresse": "15 Rue de Tergnier 02800 Beautor",
            "geo_id": "02059_0185_00015",
            "id_cc": null,
            "indice_repetition": null,
            "indice_repetition_2": null,
            "latitude": "49.658845",
            "libelle_cedex": null,
            "libelle_cedex_2": null,
            "libelle_commune": "BEAUTOR",
            "libelle_commune_2": null,
            "libelle_commune_etranger": null,
            "libelle_commune_etranger_2": null,
            "libelle_pays_etranger": null,
            "libelle_pays_etranger_2": null,
            "libelle_voie": "TERGNIER",
            "libelle_voie_2": null,
            "longitude": "3.344798",
            "nom_commercial": null,
            "nom_complet": "la poste",
            "numero_voie": "15",
            "numero_voie_2": null,
            "siren": "356000224",
            "siret": "35600022400523",
            "tranche_effectif_salarie": "NN",
            "type_voie": "RUE",
            "type_voie_2": null
           },
           "_type": "_doc"
          },
          {
           "_id": "356000224",
           "_index": "siren-blue",
           "_nested": {
            "field": "etablissements",
            "offset": 2
           },
           "_score": 12.480395,
           "_source": {
            "activite_principale": "53.10Z",
            "activite_principale_registre_metier": null,
            "adresse": "3 T RUE DU VAL 02064 BELLEU",
            "cedex": null,
            "cedex_2": null,
            "code_pays_etranger": null,
            "code_pays_etranger_2": null,
            "code_postal": "02200",
            "commune": "02064",
            "commune_2": null,
            "complement_adresse": null,
            "complement_adresse_2": null,
            "concat_nom_enseigne_adresse_siren_siret": "la poste BUREAU DE POSTE   3 T RUE DU VAL 02064 BELLEU 356000224 35600022400531",
            "coordonnees": "49.358304,3.33886",
            "date_creation": "1991-01-01",
            "date_debut_activite": "2009-03-18",
            "departement": "02",
            "distribution_speciale": null,
            "distribution_speciale_2": null,
            "enseigne_1": "BUREAU DE POSTE",
            "enseigne_2": null,
            "enseigne_3": null,
            "est_siege": "false",
            "etat_administratif": "F",
            "geo_adresse": "3ter Rue du Val 02200 Belleu",
            "geo_id": "02064_0490_00003_ter",
            "id_cc": null,
            "indice_repetition": "T",
            "indice_repetition_2": null,
            "latitude": "49.358304",
            "libelle_cedex": null,
            "libelle_cedex_2": null,
            "libelle_commune": "BELLEU",
            "libelle_commune_2": null,
            "libelle_commune_etranger": null,
            "libelle_commune_etranger_2": null,
            "libelle_pays_etranger": null,
            "libelle_pays_etranger_2": null,
            "libelle_voie": "DU VAL",
            "libelle_voie_2": null,
            "longitude": "3.33886",
            "nom_commercial": null,
            "nom_complet": "la poste",
            "numero_voie": "3",
            "numero_voie_2": null,
            "siren": "356000224",
            "siret": "35600022400531",
            "tranche_effectif_salarie": "NN",
            "type_voie": "RUE",
            "type_voie_2": null
           },
           "_type": "_doc"
          }
         ],
         "max_score": 12.480395,
         "total": {
          "relation": "eq",
          "value": 546
         }
        }
       }
      },
      "text/plain": [
       "<IPython.core.display.JSON object>"
      ]
     },
     "metadata": {
      "application/json": {
       "expanded": false,
       "root": "root"
      }
     },
     "output_type": "display_data"
    }
   ],
   "source": [
    "# expanded=True\n",
    "for hit in response['hits']['hits']:\n",
    "    display(JSON(hit[\"inner_hits\"]))"
   ]
  },
  {
   "cell_type": "code",
   "execution_count": null,
   "id": "a3bf5297-55e7-49f9-8862-9c4d3f994c98",
   "metadata": {},
   "outputs": [],
   "source": []
  }
 ],
 "metadata": {
  "kernelspec": {
   "display_name": "Python 3 (ipykernel)",
   "language": "python",
   "name": "python3"
  },
  "language_info": {
   "codemirror_mode": {
    "name": "ipython",
    "version": 3
   },
   "file_extension": ".py",
   "mimetype": "text/x-python",
   "name": "python",
   "nbconvert_exporter": "python",
   "pygments_lexer": "ipython3",
   "version": "3.9.7"
  }
 },
 "nbformat": 4,
 "nbformat_minor": 5
}
