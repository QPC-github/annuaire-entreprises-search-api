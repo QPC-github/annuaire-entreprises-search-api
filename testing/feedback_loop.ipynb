{
 "cells": [
  {
   "cell_type": "code",
   "execution_count": 305,
   "id": "1abe62d3",
   "metadata": {},
   "outputs": [],
   "source": [
    "import numpy as np\n",
    "import pandas as pd\n",
    "import requests\n",
    "import json\n",
    "import plotly.figure_factory as ff\n",
    "import plotly.express as px\n",
    "import plotly.graph_objects as go\n",
    "import seaborn as sns\n",
    "import matplotlib.pyplot as plt\n",
    "import kaleido\n",
    "import plotly"
   ]
  },
  {
   "cell_type": "markdown",
   "id": "d4c9dcc3-5509-4d8b-8e8d-b7bd3c199792",
   "metadata": {},
   "source": [
    "## Define search engine version"
   ]
  },
  {
   "cell_type": "code",
   "execution_count": 306,
   "id": "b1c501b7-edf8-4abf-807e-f1181ff1ca7d",
   "metadata": {
    "tags": [
     "parameters"
    ]
   },
   "outputs": [
    {
     "name": "stdout",
     "output_type": "stream",
     "text": [
      "2.1\n"
     ]
    }
   ],
   "source": [
    "if \"SEARCH_VERSION\" not in locals():\n",
    "    SEARCH_VERSION = \"new\"\n",
    "else:\n",
    "    print(SEARCH_VERSION)"
   ]
  },
  {
   "cell_type": "code",
   "execution_count": 307,
   "id": "e72c6a3e-0557-42d6-a119-9bfe9e1f8052",
   "metadata": {},
   "outputs": [
    {
     "data": {
      "text/plain": [
       "'2.1'"
      ]
     },
     "execution_count": 307,
     "metadata": {},
     "output_type": "execute_result"
    }
   ],
   "source": [
    "SEARCH_VERSION"
   ]
  },
  {
   "cell_type": "markdown",
   "id": "c509567f",
   "metadata": {},
   "source": [
    "## Import lastest elastic data"
   ]
  },
  {
   "cell_type": "code",
   "execution_count": 308,
   "id": "b9a68881",
   "metadata": {
    "tags": []
   },
   "outputs": [],
   "source": [
    "df_test = pd.read_csv(\"./data/elastic_wars.csv\", dtype=str)"
   ]
  },
  {
   "cell_type": "code",
   "execution_count": 309,
   "id": "fcb107d8-fb57-400f-a0b4-a10db8010994",
   "metadata": {},
   "outputs": [],
   "source": [
    "df_test.drop([911], axis=0, inplace=True)"
   ]
  },
  {
   "cell_type": "code",
   "execution_count": 310,
   "id": "eae78910-bef3-4c13-8a00-1bd0f563c5cd",
   "metadata": {},
   "outputs": [
    {
     "data": {
      "text/html": [
       "<div>\n",
       "<style scoped>\n",
       "    .dataframe tbody tr th:only-of-type {\n",
       "        vertical-align: middle;\n",
       "    }\n",
       "\n",
       "    .dataframe tbody tr th {\n",
       "        vertical-align: top;\n",
       "    }\n",
       "\n",
       "    .dataframe thead th {\n",
       "        text-align: right;\n",
       "    }\n",
       "</style>\n",
       "<table border=\"1\" class=\"dataframe\">\n",
       "  <thead>\n",
       "    <tr style=\"text-align: right;\">\n",
       "      <th></th>\n",
       "      <th>terms</th>\n",
       "      <th>siren</th>\n",
       "      <th>results_elastic_1.1</th>\n",
       "      <th>pages_elastic_1.1</th>\n",
       "      <th>siren_elastic_1.1</th>\n",
       "      <th>resp_time_elastic_1.1</th>\n",
       "      <th>rank_elastic_1.1</th>\n",
       "      <th>results_elastic_2.0</th>\n",
       "      <th>pages_elastic_2.0</th>\n",
       "      <th>siren_elastic_2.0</th>\n",
       "      <th>resp_time_elastic_2.0</th>\n",
       "      <th>rank_elastic_2.0</th>\n",
       "    </tr>\n",
       "  </thead>\n",
       "  <tbody>\n",
       "    <tr>\n",
       "      <th>0</th>\n",
       "      <td>stellantis</td>\n",
       "      <td>879786085</td>\n",
       "      <td>1383.0</td>\n",
       "      <td>70.0</td>\n",
       "      <td>['879786085', '803902485', '500019898', '37911...</td>\n",
       "      <td>0.042709</td>\n",
       "      <td>0</td>\n",
       "      <td>2007.0</td>\n",
       "      <td>101.0</td>\n",
       "      <td>['879786085', '897940953', '912425493', '91005...</td>\n",
       "      <td>0.044964</td>\n",
       "      <td>0</td>\n",
       "    </tr>\n",
       "    <tr>\n",
       "      <th>1</th>\n",
       "      <td>STELLANTIS</td>\n",
       "      <td>879786085</td>\n",
       "      <td>1383.0</td>\n",
       "      <td>70.0</td>\n",
       "      <td>['879786085', '803902485', '500019898', '37911...</td>\n",
       "      <td>0.041482</td>\n",
       "      <td>0</td>\n",
       "      <td>2007.0</td>\n",
       "      <td>101.0</td>\n",
       "      <td>['879786085', '897940953', '912425493', '91005...</td>\n",
       "      <td>0.046229</td>\n",
       "      <td>0</td>\n",
       "    </tr>\n",
       "    <tr>\n",
       "      <th>2</th>\n",
       "      <td>Stellantis</td>\n",
       "      <td>879786085</td>\n",
       "      <td>1383.0</td>\n",
       "      <td>70.0</td>\n",
       "      <td>['879786085', '803902485', '500019898', '37911...</td>\n",
       "      <td>0.040855</td>\n",
       "      <td>0</td>\n",
       "      <td>2007.0</td>\n",
       "      <td>101.0</td>\n",
       "      <td>['879786085', '897940953', '912425493', '91005...</td>\n",
       "      <td>0.047226</td>\n",
       "      <td>0</td>\n",
       "    </tr>\n",
       "  </tbody>\n",
       "</table>\n",
       "</div>"
      ],
      "text/plain": [
       "        terms      siren results_elastic_1.1 pages_elastic_1.1  \\\n",
       "0  stellantis  879786085              1383.0              70.0   \n",
       "1  STELLANTIS  879786085              1383.0              70.0   \n",
       "2  Stellantis  879786085              1383.0              70.0   \n",
       "\n",
       "                                   siren_elastic_1.1 resp_time_elastic_1.1  \\\n",
       "0  ['879786085', '803902485', '500019898', '37911...              0.042709   \n",
       "1  ['879786085', '803902485', '500019898', '37911...              0.041482   \n",
       "2  ['879786085', '803902485', '500019898', '37911...              0.040855   \n",
       "\n",
       "  rank_elastic_1.1 results_elastic_2.0 pages_elastic_2.0  \\\n",
       "0                0              2007.0             101.0   \n",
       "1                0              2007.0             101.0   \n",
       "2                0              2007.0             101.0   \n",
       "\n",
       "                                   siren_elastic_2.0 resp_time_elastic_2.0  \\\n",
       "0  ['879786085', '897940953', '912425493', '91005...              0.044964   \n",
       "1  ['879786085', '897940953', '912425493', '91005...              0.046229   \n",
       "2  ['879786085', '897940953', '912425493', '91005...              0.047226   \n",
       "\n",
       "  rank_elastic_2.0  \n",
       "0                0  \n",
       "1                0  \n",
       "2                0  "
      ]
     },
     "execution_count": 310,
     "metadata": {},
     "output_type": "execute_result"
    }
   ],
   "source": [
    "df_test.head(3)"
   ]
  },
  {
   "cell_type": "code",
   "execution_count": 311,
   "id": "fd6bc9db",
   "metadata": {},
   "outputs": [
    {
     "data": {
      "text/plain": [
       "Index(['terms', 'siren', 'results_elastic_1.1', 'pages_elastic_1.1',\n",
       "       'siren_elastic_1.1', 'resp_time_elastic_1.1', 'rank_elastic_1.1',\n",
       "       'results_elastic_2.0', 'pages_elastic_2.0', 'siren_elastic_2.0',\n",
       "       'resp_time_elastic_2.0', 'rank_elastic_2.0'],\n",
       "      dtype='object')"
      ]
     },
     "execution_count": 311,
     "metadata": {},
     "output_type": "execute_result"
    }
   ],
   "source": [
    "df_test.columns"
   ]
  },
  {
   "cell_type": "code",
   "execution_count": 312,
   "id": "c6b2aadc",
   "metadata": {},
   "outputs": [
    {
     "data": {
      "text/plain": [
       "(926, 12)"
      ]
     },
     "execution_count": 312,
     "metadata": {},
     "output_type": "execute_result"
    }
   ],
   "source": [
    "df_test.shape"
   ]
  },
  {
   "cell_type": "code",
   "execution_count": 313,
   "id": "ab67306b",
   "metadata": {},
   "outputs": [
    {
     "data": {
      "text/plain": [
       "terms                    object\n",
       "siren                    object\n",
       "results_elastic_1.1      object\n",
       "pages_elastic_1.1        object\n",
       "siren_elastic_1.1        object\n",
       "resp_time_elastic_1.1    object\n",
       "rank_elastic_1.1         object\n",
       "results_elastic_2.0      object\n",
       "pages_elastic_2.0        object\n",
       "siren_elastic_2.0        object\n",
       "resp_time_elastic_2.0    object\n",
       "rank_elastic_2.0         object\n",
       "dtype: object"
      ]
     },
     "execution_count": 313,
     "metadata": {},
     "output_type": "execute_result"
    }
   ],
   "source": [
    "df_test.dtypes"
   ]
  },
  {
   "cell_type": "markdown",
   "id": "6acda589",
   "metadata": {},
   "source": [
    "## Call last search functions (maybe add description)"
   ]
  },
  {
   "cell_type": "code",
   "execution_count": 314,
   "id": "e9e02564",
   "metadata": {},
   "outputs": [],
   "source": [
    "def find(key, dictionary):\n",
    "    for k, v in dictionary.items():\n",
    "        if k == key:\n",
    "            yield v\n",
    "        elif isinstance(v, dict):\n",
    "            for result in find(key, v):\n",
    "                yield result\n",
    "        elif isinstance(v, list):\n",
    "            for d in v:\n",
    "                for result in find(key, d):\n",
    "                    yield result"
   ]
  },
  {
   "cell_type": "code",
   "execution_count": 315,
   "id": "f2ec5342",
   "metadata": {},
   "outputs": [],
   "source": [
    "def get_response(url, q):\n",
    "    params[\"q\"] = q\n",
    "    response = requests.get(url, params=params)\n",
    "    time_elapsed = response.elapsed.total_seconds()\n",
    "    content = json.loads(response.content)\n",
    "    total_results = content[\"total_results\"]\n",
    "    total_pages = content[\"total_pages\"]\n",
    "    siren_list = [unite[\"siren\"] for unite in content[\"results\"]]\n",
    "    return total_results, total_pages, siren_list, time_elapsed"
   ]
  },
  {
   "cell_type": "code",
   "execution_count": 316,
   "id": "cd6c9f39",
   "metadata": {},
   "outputs": [],
   "source": [
    "url_elastic = \"http://api.sirene.dataeng.etalab.studio/search\""
   ]
  },
  {
   "cell_type": "code",
   "execution_count": 317,
   "id": "829243a2",
   "metadata": {},
   "outputs": [],
   "source": [
    "# Get first 20 results\n",
    "params = {\"q\": \"\", \"page\": \"1\", \"per_page\": \"20\"}"
   ]
  },
  {
   "cell_type": "code",
   "execution_count": 318,
   "id": "a019a1f9",
   "metadata": {},
   "outputs": [],
   "source": [
    "(\n",
    "    df_test[f\"results_elastic_{SEARCH_VERSION}\"],\n",
    "    df_test[f\"pages_elastic_{SEARCH_VERSION}\"],\n",
    "    df_test[f\"siren_elastic_{SEARCH_VERSION}\"],\n",
    "    df_test[f\"resp_time_elastic_{SEARCH_VERSION}\"],\n",
    ") = (\"\", \"\", \"\", \"\")"
   ]
  },
  {
   "cell_type": "code",
   "execution_count": 319,
   "id": "4550569c",
   "metadata": {},
   "outputs": [
    {
     "data": {
      "text/plain": [
       "Index(['terms', 'siren', 'results_elastic_1.1', 'pages_elastic_1.1',\n",
       "       'siren_elastic_1.1', 'resp_time_elastic_1.1', 'rank_elastic_1.1',\n",
       "       'results_elastic_2.0', 'pages_elastic_2.0', 'siren_elastic_2.0',\n",
       "       'resp_time_elastic_2.0', 'rank_elastic_2.0', 'results_elastic_2.1',\n",
       "       'pages_elastic_2.1', 'siren_elastic_2.1', 'resp_time_elastic_2.1'],\n",
       "      dtype='object')"
      ]
     },
     "execution_count": 319,
     "metadata": {},
     "output_type": "execute_result"
    }
   ],
   "source": [
    "df_test.columns"
   ]
  },
  {
   "cell_type": "code",
   "execution_count": 320,
   "id": "64e94c91-a169-4df8-acb8-d78e02a078d6",
   "metadata": {},
   "outputs": [
    {
     "data": {
      "text/html": [
       "<div>\n",
       "<style scoped>\n",
       "    .dataframe tbody tr th:only-of-type {\n",
       "        vertical-align: middle;\n",
       "    }\n",
       "\n",
       "    .dataframe tbody tr th {\n",
       "        vertical-align: top;\n",
       "    }\n",
       "\n",
       "    .dataframe thead th {\n",
       "        text-align: right;\n",
       "    }\n",
       "</style>\n",
       "<table border=\"1\" class=\"dataframe\">\n",
       "  <thead>\n",
       "    <tr style=\"text-align: right;\">\n",
       "      <th></th>\n",
       "      <th>terms</th>\n",
       "      <th>siren</th>\n",
       "      <th>results_elastic_1.1</th>\n",
       "      <th>pages_elastic_1.1</th>\n",
       "      <th>siren_elastic_1.1</th>\n",
       "      <th>resp_time_elastic_1.1</th>\n",
       "      <th>rank_elastic_1.1</th>\n",
       "      <th>results_elastic_2.0</th>\n",
       "      <th>pages_elastic_2.0</th>\n",
       "      <th>siren_elastic_2.0</th>\n",
       "      <th>resp_time_elastic_2.0</th>\n",
       "      <th>rank_elastic_2.0</th>\n",
       "      <th>results_elastic_2.1</th>\n",
       "      <th>pages_elastic_2.1</th>\n",
       "      <th>siren_elastic_2.1</th>\n",
       "      <th>resp_time_elastic_2.1</th>\n",
       "    </tr>\n",
       "  </thead>\n",
       "  <tbody>\n",
       "    <tr>\n",
       "      <th>0</th>\n",
       "      <td>stellantis</td>\n",
       "      <td>879786085</td>\n",
       "      <td>1383.0</td>\n",
       "      <td>70.0</td>\n",
       "      <td>['879786085', '803902485', '500019898', '37911...</td>\n",
       "      <td>0.042709</td>\n",
       "      <td>0</td>\n",
       "      <td>2007.0</td>\n",
       "      <td>101.0</td>\n",
       "      <td>['879786085', '897940953', '912425493', '91005...</td>\n",
       "      <td>0.044964</td>\n",
       "      <td>0</td>\n",
       "      <td></td>\n",
       "      <td></td>\n",
       "      <td></td>\n",
       "      <td></td>\n",
       "    </tr>\n",
       "    <tr>\n",
       "      <th>1</th>\n",
       "      <td>STELLANTIS</td>\n",
       "      <td>879786085</td>\n",
       "      <td>1383.0</td>\n",
       "      <td>70.0</td>\n",
       "      <td>['879786085', '803902485', '500019898', '37911...</td>\n",
       "      <td>0.041482</td>\n",
       "      <td>0</td>\n",
       "      <td>2007.0</td>\n",
       "      <td>101.0</td>\n",
       "      <td>['879786085', '897940953', '912425493', '91005...</td>\n",
       "      <td>0.046229</td>\n",
       "      <td>0</td>\n",
       "      <td></td>\n",
       "      <td></td>\n",
       "      <td></td>\n",
       "      <td></td>\n",
       "    </tr>\n",
       "    <tr>\n",
       "      <th>2</th>\n",
       "      <td>Stellantis</td>\n",
       "      <td>879786085</td>\n",
       "      <td>1383.0</td>\n",
       "      <td>70.0</td>\n",
       "      <td>['879786085', '803902485', '500019898', '37911...</td>\n",
       "      <td>0.040855</td>\n",
       "      <td>0</td>\n",
       "      <td>2007.0</td>\n",
       "      <td>101.0</td>\n",
       "      <td>['879786085', '897940953', '912425493', '91005...</td>\n",
       "      <td>0.047226</td>\n",
       "      <td>0</td>\n",
       "      <td></td>\n",
       "      <td></td>\n",
       "      <td></td>\n",
       "      <td></td>\n",
       "    </tr>\n",
       "  </tbody>\n",
       "</table>\n",
       "</div>"
      ],
      "text/plain": [
       "        terms      siren results_elastic_1.1 pages_elastic_1.1  \\\n",
       "0  stellantis  879786085              1383.0              70.0   \n",
       "1  STELLANTIS  879786085              1383.0              70.0   \n",
       "2  Stellantis  879786085              1383.0              70.0   \n",
       "\n",
       "                                   siren_elastic_1.1 resp_time_elastic_1.1  \\\n",
       "0  ['879786085', '803902485', '500019898', '37911...              0.042709   \n",
       "1  ['879786085', '803902485', '500019898', '37911...              0.041482   \n",
       "2  ['879786085', '803902485', '500019898', '37911...              0.040855   \n",
       "\n",
       "  rank_elastic_1.1 results_elastic_2.0 pages_elastic_2.0  \\\n",
       "0                0              2007.0             101.0   \n",
       "1                0              2007.0             101.0   \n",
       "2                0              2007.0             101.0   \n",
       "\n",
       "                                   siren_elastic_2.0 resp_time_elastic_2.0  \\\n",
       "0  ['879786085', '897940953', '912425493', '91005...              0.044964   \n",
       "1  ['879786085', '897940953', '912425493', '91005...              0.046229   \n",
       "2  ['879786085', '897940953', '912425493', '91005...              0.047226   \n",
       "\n",
       "  rank_elastic_2.0 results_elastic_2.1 pages_elastic_2.1 siren_elastic_2.1  \\\n",
       "0                0                                                           \n",
       "1                0                                                           \n",
       "2                0                                                           \n",
       "\n",
       "  resp_time_elastic_2.1  \n",
       "0                        \n",
       "1                        \n",
       "2                        "
      ]
     },
     "execution_count": 320,
     "metadata": {},
     "output_type": "execute_result"
    }
   ],
   "source": [
    "df_test.head(3)"
   ]
  },
  {
   "cell_type": "code",
   "execution_count": null,
   "id": "182548a1",
   "metadata": {},
   "outputs": [],
   "source": [
    "for index, row in df_test.iterrows():\n",
    "    (\n",
    "        df_test[f\"results_elastic_{SEARCH_VERSION}\"][index],\n",
    "        df_test[f\"pages_elastic_{SEARCH_VERSION}\"][index],\n",
    "        df_test[f\"siren_elastic_{SEARCH_VERSION}\"][index],\n",
    "        df_test[f\"resp_time_elastic_{SEARCH_VERSION}\"][index],\n",
    "    ) = get_response(url_elastic, row[\"terms\"])\n",
    "    if index % 5 == 0: \n",
    "        time.sleep(0.5)"
   ]
  },
  {
   "cell_type": "code",
   "execution_count": null,
   "id": "706fb9b8-6962-475b-a1b8-153aacf714f8",
   "metadata": {},
   "outputs": [],
   "source": [
    "df_test"
   ]
  },
  {
   "cell_type": "code",
   "execution_count": null,
   "id": "986216c7-7328-4c0b-aeee-9385a6146eee",
   "metadata": {},
   "outputs": [],
   "source": [
    "elastic_columns = [\n",
    "    col\n",
    "    for col in df_test.columns\n",
    "    if \"elastic\" in col and (\"result\" in col or \"pages\" in col or \"resp_time\" in col)\n",
    "]"
   ]
  },
  {
   "cell_type": "code",
   "execution_count": null,
   "id": "b4f1cda5-074c-4728-8a86-33a19cc81c58",
   "metadata": {},
   "outputs": [],
   "source": [
    "elastic_columns"
   ]
  },
  {
   "cell_type": "code",
   "execution_count": null,
   "id": "b9bf6d76-a1d9-45f3-ae99-f2c8051f46a1",
   "metadata": {},
   "outputs": [],
   "source": [
    "for col in elastic_columns:\n",
    "    df_test[col] = df_test[col].astype(\"float64\")"
   ]
  },
  {
   "cell_type": "code",
   "execution_count": null,
   "id": "1003b80b-ad10-4246-bbdd-212a79440246",
   "metadata": {},
   "outputs": [],
   "source": [
    "df_test.dtypes"
   ]
  },
  {
   "cell_type": "code",
   "execution_count": null,
   "id": "50ce9b4b",
   "metadata": {},
   "outputs": [],
   "source": [
    "df_test.describe()"
   ]
  },
  {
   "cell_type": "code",
   "execution_count": null,
   "id": "4a07db27-cec4-486a-aff9-8220f765ea41",
   "metadata": {},
   "outputs": [],
   "source": [
    "df_test.describe().to_csv(\n",
    "    f\"./output/describe/describe_{SEARCH_VERSION}.csv\", header=True, index=True\n",
    ")"
   ]
  },
  {
   "cell_type": "markdown",
   "id": "14a3bd49",
   "metadata": {},
   "source": [
    "## Ranks"
   ]
  },
  {
   "cell_type": "code",
   "execution_count": null,
   "id": "52db634a",
   "metadata": {},
   "outputs": [],
   "source": [
    "df_test[f\"rank_elastic_{SEARCH_VERSION}\"] = \"\""
   ]
  },
  {
   "cell_type": "code",
   "execution_count": null,
   "id": "678b9849",
   "metadata": {},
   "outputs": [],
   "source": [
    "for ind, row in df_test.iterrows():\n",
    "    if str(row[\"siren\"]) in row[f\"siren_elastic_{SEARCH_VERSION}\"]:\n",
    "        df_test[f\"rank_elastic_{SEARCH_VERSION}\"][ind] = row[\n",
    "            f\"siren_elastic_{SEARCH_VERSION}\"\n",
    "        ].index(str(row[\"siren\"]))\n",
    "    else:\n",
    "        df_test[f\"rank_elastic_{SEARCH_VERSION}\"][ind] = -1"
   ]
  },
  {
   "cell_type": "code",
   "execution_count": null,
   "id": "70da432f",
   "metadata": {},
   "outputs": [],
   "source": [
    "df_test[f\"rank_elastic_{SEARCH_VERSION}\"] = df_test[\n",
    "    f\"rank_elastic_{SEARCH_VERSION}\"\n",
    "].astype(\"int32\")"
   ]
  },
  {
   "cell_type": "markdown",
   "id": "e4f2f922",
   "metadata": {},
   "source": [
    "## KPIs"
   ]
  },
  {
   "cell_type": "code",
   "execution_count": null,
   "id": "86d44fd0",
   "metadata": {},
   "outputs": [],
   "source": [
    "fig = px.histogram(\n",
    "    df_test.sort_values(by=[f\"rank_elastic_{SEARCH_VERSION}\"]),\n",
    "    x=f\"rank_elastic_{SEARCH_VERSION}\",\n",
    "    color_discrete_sequence=[\"indianred\"],\n",
    "    title=\"Distribution Elasticsearch des rangs du bon résultat\",\n",
    ")\n",
    "fig.update_layout(bargap=0.5)\n",
    "fig.update_xaxes(type=\"category\")\n",
    "fig.show()\n",
    "plotly.offline.plot(fig, filename=f\"./output/plots/rank_{SEARCH_VERSION}.html\")"
   ]
  },
  {
   "cell_type": "code",
   "execution_count": null,
   "id": "3882d9d9-cc1c-4381-a425-0af8398c3fff",
   "metadata": {},
   "outputs": [],
   "source": [
    "rank_columns = [col for col in df_test.columns if \"rank_elastic\" in col]"
   ]
  },
  {
   "cell_type": "code",
   "execution_count": null,
   "id": "5ed07669-d5bc-4916-976d-434d64de62db",
   "metadata": {},
   "outputs": [],
   "source": [
    "rank_columns"
   ]
  },
  {
   "cell_type": "code",
   "execution_count": null,
   "id": "10f35698-471c-4a02-b354-5cddda968a4f",
   "metadata": {
    "tags": []
   },
   "outputs": [],
   "source": [
    "fig = go.Figure()\n",
    "rank_dict = {}\n",
    "for rank in rank_columns:\n",
    "    df_test[rank] = df_test[rank].astype(\"int32\")\n",
    "    rank_dict[rank] = df_test.sort_values(by=[rank])[rank]\n",
    "    fig.add_trace(\n",
    "        go.Histogram(\n",
    "            histfunc=\"count\",\n",
    "            x=rank_dict[rank],\n",
    "            name=rank,\n",
    "        )\n",
    "    )\n",
    "fig.update_layout(\n",
    "    title_text=\"Fréquence des rangs des résultats de la recherche\",  # title of plot\n",
    "    xaxis_title_text=\"Rang du résulat dans la page\",  # xaxis label\n",
    "    yaxis_title_text=\"Nombre de requêtes\",  # yaxis label\n",
    "    bargap=0.2,  # gap between bars of adjacent location coordinates\n",
    "    bargroupgap=0.1,  # gap between bars of the same location coordinates\n",
    ")\n",
    "fig.update_xaxes(type=\"category\")\n",
    "fig.show()\n",
    "# fig.write_image(f\"./output/plots/rank_{SEARCH_VERSION}.png\")\n",
    "plotly.offline.plot(fig, filename=f\"./output/plots/rank_war_{SEARCH_VERSION}.html\")"
   ]
  },
  {
   "cell_type": "code",
   "execution_count": null,
   "id": "6cd23f6e",
   "metadata": {},
   "outputs": [],
   "source": [
    "fig = px.pie(\n",
    "    df_test,\n",
    "    names=rank_columns[-1],\n",
    "    hole=0.7,\n",
    "    color=rank_columns[-1],\n",
    "    title=\"Pourcentages des rangs du bon résultat dans la recherche elasticsearch\",\n",
    ")\n",
    "fig.update_traces(textposition=\"inside\", textinfo=\"percent+label\")\n",
    "fig.show()\n",
    "plotly.offline.plot(fig, filename=f\"./output/plots/pie_{SEARCH_VERSION}.html\")"
   ]
  },
  {
   "cell_type": "markdown",
   "id": "4277c164",
   "metadata": {},
   "source": [
    "### Nombre maximale de requête\n"
   ]
  },
  {
   "cell_type": "code",
   "execution_count": null,
   "id": "eb360faa",
   "metadata": {},
   "outputs": [],
   "source": [
    "df_max = (\n",
    "    df_test[f\"results_elastic_{SEARCH_VERSION}\"].value_counts(normalize=True) * 100\n",
    ").reset_index()\n",
    "df_max[df_max[\"index\"] == \"10000.0\"].to_csv(\n",
    "    f\"./output/describe/max_requetes_{SEARCH_VERSION}.csv\", header=True, index=True\n",
    ")\n",
    "df_max[df_max[\"index\"] == \"10000.0\"]"
   ]
  },
  {
   "cell_type": "markdown",
   "id": "1fecc80b",
   "metadata": {},
   "source": [
    "### Sauvegarder les dataframes"
   ]
  },
  {
   "cell_type": "code",
   "execution_count": null,
   "id": "680132f0-448e-47b1-8bc3-0c0d04e66f84",
   "metadata": {},
   "outputs": [],
   "source": [
    "df_test.to_csv(f\"./data/elastic_wars_{SEARCH_VERSION}.csv\", header=True, index=False)"
   ]
  },
  {
   "cell_type": "code",
   "execution_count": null,
   "id": "01a82721-12d1-45de-9a7e-5429b00b4e96",
   "metadata": {},
   "outputs": [],
   "source": [
    "elastic_columns = [col for col in df_test.columns if \"elastic\" in col]\n",
    "columns_to_save = [\"terms\", \"siren\"]\n",
    "columns_to_save = columns_to_save + elastic_columns[-10:]\n",
    "columns_to_save"
   ]
  },
  {
   "cell_type": "code",
   "execution_count": null,
   "id": "414ddc1d-785f-4db2-804f-2c6d43808c91",
   "metadata": {},
   "outputs": [],
   "source": [
    "df_test.to_csv(\n",
    "    f\"./data/elastic_wars.csv\", header=True, index=False, columns=columns_to_save\n",
    ")"
   ]
  },
  {
   "cell_type": "code",
   "execution_count": null,
   "id": "de4136f8-8f5e-4742-bd01-fb5704b37944",
   "metadata": {},
   "outputs": [],
   "source": []
  }
 ],
 "metadata": {
  "kernelspec": {
   "display_name": "Python 3 (ipykernel)",
   "language": "python",
   "name": "python3"
  },
  "language_info": {
   "codemirror_mode": {
    "name": "ipython",
    "version": 3
   },
   "file_extension": ".py",
   "mimetype": "text/x-python",
   "name": "python",
   "nbconvert_exporter": "python",
   "pygments_lexer": "ipython3",
   "version": "3.9.7"
  },
  "toc-showmarkdowntxt": false,
  "toc-showtags": true
 },
 "nbformat": 4,
 "nbformat_minor": 5
}
