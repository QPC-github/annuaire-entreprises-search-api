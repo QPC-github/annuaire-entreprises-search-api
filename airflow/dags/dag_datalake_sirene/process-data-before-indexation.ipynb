{
 "cells": [
  {
   "cell_type": "markdown",
   "metadata": {},
   "source": [
    "### Imports"
   ]
  },
  {
   "cell_type": "code",
   "execution_count": 1,
   "metadata": {},
   "outputs": [],
   "source": [
    "import pandas as pd\n",
    "import glob\n",
    "import datetime\n",
    "import os, shutil"
   ]
  },
  {
   "cell_type": "markdown",
   "metadata": {},
   "source": [
    "### Path set-up"
   ]
  },
  {
   "cell_type": "code",
   "execution_count": 2,
   "metadata": {},
   "outputs": [],
   "source": [
    "if 'DATA_DIR' not in locals():\n",
    "    DATA_DIR = './data/'\n",
    "else:\n",
    "    print(DATA_DIR)\n",
    "\n",
    "if os.path.exists(DATA_DIR) and os.path.isdir(DATA_DIR):\n",
    "    shutil.rmtree(DATA_DIR)\n",
    "os.makedirs(os.path.dirname(DATA_DIR), exist_ok=True)"
   ]
  },
  {
   "cell_type": "code",
   "execution_count": 3,
   "metadata": {},
   "outputs": [],
   "source": [
    "if 'OUTPUT_DATA_FOLDER' not in locals():\n",
    "    OUTPUT_DATA_FOLDER = './output/'\n",
    "else:\n",
    "    print(OUTPUT_DATA_FOLDER)\n",
    "\n",
    "if os.path.exists(OUTPUT_DATA_FOLDER) and os.path.isdir(OUTPUT_DATA_FOLDER):\n",
    "    shutil.rmtree(OUTPUT_DATA_FOLDER)\n",
    "os.makedirs(os.path.dirname(OUTPUT_DATA_FOLDER), exist_ok=True)"
   ]
  },
  {
   "cell_type": "code",
   "execution_count": 4,
   "metadata": {},
   "outputs": [],
   "source": [
    "if 'ELASTIC_INDEX' not in locals():\n",
    "    ELASTIC_INDEX = 'siren'\n",
    "else:\n",
    "    print(ELASTIC_INDEX)"
   ]
  },
  {
   "cell_type": "markdown",
   "metadata": {},
   "source": [
    "### Import data"
   ]
  },
  {
   "cell_type": "code",
   "execution_count": 5,
   "metadata": {},
   "outputs": [],
   "source": [
    "# Import Stock Unite Legale data\n",
    "df_unite_legale = pd.read_csv('https://files.data.gouv.fr/insee-sirene/StockUniteLegale_utf8.zip', compression='zip', dtype=str, usecols=['siren', \n",
    "       'dateCreationUniteLegale', 'sigleUniteLegale',\n",
    "       'prenom1UniteLegale','identifiantAssociationUniteLegale', 'trancheEffectifsUniteLegale', \n",
    "       'dateDernierTraitementUniteLegale', 'categorieEntreprise','etatAdministratifUniteLegale',\n",
    "       'nomUniteLegale', 'denominationUniteLegale', 'categorieJuridiqueUniteLegale',\n",
    "       'activitePrincipaleUniteLegale', 'economieSocialeSolidaireUniteLegale'])"
   ]
  },
  {
   "cell_type": "code",
   "execution_count": 6,
   "metadata": {},
   "outputs": [],
   "source": [
    "# Rename columns\n",
    "df_unite_legale = df_unite_legale.rename(columns={\n",
    "    'dateCreationUniteLegale': 'date_creation_entreprise', \n",
    "    'sigleUniteLegale': 'sigle',\n",
    "    'prenom1UniteLegale': 'prenom',\n",
    "    'trancheEffectifsUniteLegale': 'tranche_effectif_salarie_entreprise',\n",
    "    'dateDernierTraitementUniteLegale': 'date_mise_a_jour',\n",
    "    'categorieEntreprise': 'categorie_entreprise',\n",
    "    'nomUniteLegale': 'nom',\n",
    "    'denominationUniteLegale': 'nom_raison_sociale',\n",
    "    'categorieJuridiqueUniteLegale': 'nature_juridique_entreprise',\n",
    "    'activitePrincipaleUniteLegale': 'activite_principale_entreprise'\n",
    "})"
   ]
  },
  {
   "cell_type": "markdown",
   "metadata": {},
   "source": [
    "### Data preprocessing"
   ]
  },
  {
   "cell_type": "code",
   "execution_count": 7,
   "metadata": {},
   "outputs": [],
   "source": [
    " def nom_complet(x):\n",
    "    if(x['nature_juridique_entreprise'] == '1000'):\n",
    "        if(x['sigle'] == x['sigle']):\n",
    "            if((x['prenom'] == x['prenom']) & (x['nom'] == x['nom'])):\n",
    "                return x['prenom'].lower()+' '+x['nom'].lower()+' ('+x['sigle'].lower()+')'\n",
    "            else:\n",
    "                return None\n",
    "        else:\n",
    "            if((x['prenom'] == x['prenom']) & (x['nom'] == x['nom'])):\n",
    "                return x['prenom'].lower()+' '+x['nom'].lower()\n",
    "            else: \n",
    "                return None\n",
    "    else:\n",
    "        if(x['sigle'] == x['sigle']):\n",
    "            if(x['nom_raison_sociale'] == x['nom_raison_sociale']):\n",
    "                return x['nom_raison_sociale'].lower()+' ('+x['sigle'].lower()+')'\n",
    "            else:\n",
    "                return None\n",
    "        else:\n",
    "            if(x['nom_raison_sociale'] == x['nom_raison_sociale']):\n",
    "                return x['nom_raison_sociale'].lower()\n",
    "            else:\n",
    "                return None"
   ]
  },
  {
   "cell_type": "code",
   "execution_count": 8,
   "metadata": {},
   "outputs": [],
   "source": [
    "# Add nom_complet column to df_unite_legale\n",
    "df_unite_legale['nom_complet'] = df_unite_legale.apply(lambda row: nom_complet(row), axis=1)"
   ]
  },
  {
   "cell_type": "code",
   "execution_count": null,
   "metadata": {},
   "outputs": [],
   "source": [
    "# Create list of departement zip codes\n",
    "all_deps = [*'-0'.join(list(str(x) for x in range(0, 10))).split('-')[1:],\n",
    "    *list(str(x) for x in range(10,20)),\n",
    "    *['2A','2B'],\n",
    "    *list(str(x) for x in range(21,95)),\n",
    "    *'-7510'.join(list(str(x) for x in range(0, 10))).split('-')[1:],\n",
    "    *'-751'.join(list(str(x) for x in range(10, 21))).split('-')[1:],\n",
    "    *['']\n",
    "    ]\n",
    "# Remove Paris zip code\n",
    "all_deps.remove('75')"
   ]
  },
  {
   "cell_type": "code",
   "execution_count": 9,
   "metadata": {},
   "outputs": [],
   "source": [
    "all_deps=['11', '23', '37', '57', '69']"
   ]
  },
  {
   "cell_type": "code",
   "execution_count": 10,
   "metadata": {},
   "outputs": [
    {
     "name": "stdout",
     "output_type": "stream",
     "text": [
      "https://files.data.gouv.fr/geo-sirene/last/dep/geo_siret_11.csv.gz\n",
      "https://files.data.gouv.fr/geo-sirene/last/dep/geo_siret_23.csv.gz\n",
      "https://files.data.gouv.fr/geo-sirene/last/dep/geo_siret_37.csv.gz\n",
      "https://files.data.gouv.fr/geo-sirene/last/dep/geo_siret_57.csv.gz\n",
      "https://files.data.gouv.fr/geo-sirene/last/dep/geo_siret_69.csv.gz\n"
     ]
    }
   ],
   "source": [
    "# Upload geo data by departement\n",
    "for dep in all_deps:\n",
    "    url = 'https://files.data.gouv.fr/geo-sirene/last/dep/geo_siret_'+dep+'.csv.gz'\n",
    "    print(url)\n",
    "    df_dep = pd.read_csv(\n",
    "            url,\n",
    "            compression=\"gzip\",\n",
    "            dtype=str,\n",
    "            usecols=['siren', 'siret',\n",
    "           'dateCreationEtablissement', 'trancheEffectifsEtablissement',\n",
    "           'activitePrincipaleRegistreMetiersEtablissement',\n",
    "           'etablissementSiege',\n",
    "           'numeroVoieEtablissement',\n",
    "           'libelleVoieEtablissement',\n",
    "           'codePostalEtablissement', 'libelleCommuneEtablissement',\n",
    "            'codeCommuneEtablissement',\n",
    "            'dateDebut', 'etatAdministratifEtablissement', 'enseigne1Etablissement',\n",
    "           'activitePrincipaleEtablissement',\n",
    "           'geo_adresse', 'longitude', 'latitude', 'indiceRepetitionEtablissement']\n",
    "        )\n",
    "    df_dep = df_dep.rename(columns={\n",
    "            'dateCreationEtablissement': 'date_creation',\n",
    "            'trancheEffectifsEtablissement': 'tranche_effectif_salarie',\n",
    "            'activitePrincipaleRegistreMetiersEtablissement': 'activite_principale_registre_metier',\n",
    "            'etablissementSiege': 'is_siege',\n",
    "            'numeroVoieEtablissement': 'numero_voie',\n",
    "            'typeVoieEtablissement': 'type_voie',\n",
    "            'libelleVoieEtablissement': 'libelle_voie',\n",
    "            'codePostalEtablissement': 'code_postal',\n",
    "            'libelleCommuneEtablissement': 'libelle_commune',\n",
    "            'codeCommuneEtablissement': 'commune',\n",
    "            'codeCedexEtablissement': 'cedex',\n",
    "            'dateDebut_x': 'date_debut_activite', \n",
    "            'etatAdministratifEtablissement': 'etat_administratif_etablissement',\n",
    "            'enseigne1Etablissement': 'enseigne',\n",
    "            'activitePrincipaleEtablissement': 'activite_principale',\n",
    "            'indiceRepetitionEtablissement': 'indice_repetition'\n",
    "        \n",
    "        })\n",
    "    df_dep.to_csv(DATA_DIR+'geo_siret_'+dep+'.csv',index=False)"
   ]
  },
  {
   "cell_type": "code",
   "execution_count": 11,
   "metadata": {},
   "outputs": [],
   "source": [
    "# Get geo data file paths\n",
    "geo_files = glob.glob(DATA_DIR+\"geo_siret*.csv\")"
   ]
  },
  {
   "cell_type": "code",
   "execution_count": 12,
   "metadata": {},
   "outputs": [],
   "source": [
    "geo_files.sort()"
   ]
  },
  {
   "cell_type": "code",
   "execution_count": 56,
   "metadata": {},
   "outputs": [
    {
     "name": "stdout",
     "output_type": "stream",
     "text": [
      "./data/geo_siret_11.csv\n",
      "./data/geo_siret_23.csv\n",
      "./data/geo_siret_37.csv\n",
      "./data/geo_siret_57.csv\n",
      "./data/geo_siret_69.csv\n"
     ]
    }
   ],
   "source": [
    "# Compute nbre d'établissements' per 'siren'\n",
    "df_out=pd.DataFrame()\n",
    "for geo_file in geo_files:\n",
    "    print(geo_file)\n",
    "    df_geo = pd.read_csv(geo_file,dtype=str)\n",
    "    df_geo['file'] = geo_file\n",
    "    df_geo['nombre_etablissements'] = df_geo.groupby(['siren','file'])['siret'].transform('count')\n",
    "    df_enseigne = df_geo.groupby(['siren','file'])['enseigne'].apply(set).reset_index(name='liste_enseigne_dep').drop(columns=['file'], axis=1)\n",
    "    df_geo = df_geo.merge(df_enseigne, left_on='siren', right_on='siren')\n",
    "    df_adresse = df_geo.groupby(['siren','file'])['geo_adresse'].apply(set).reset_index(name='liste_adresse_dep').drop(columns=['file'], axis=1)\n",
    "    df_geo = df_geo.merge(df_adresse, left_on='siren', right_on='siren')\n",
    "    df_inter = df_geo[['siren','file','nombre_etablissements', 'liste_enseigne_dep', 'liste_adresse_dep']]\n",
    "    df_out = pd.concat([df_out, df_inter])"
   ]
  },
  {
   "cell_type": "code",
   "execution_count": 57,
   "metadata": {},
   "outputs": [],
   "source": [
    "df_out = df_out.drop_duplicates(subset=['siren','file'], keep='first')\n",
    "df_liste = df_out.groupby(['siren'])['liste_enseigne_dep'].apply(list).reset_index(name='liste_enseigne')\n",
    "df_out = df_out.merge(df_liste, left_on='siren', right_on='siren')\n",
    "df_liste = df_out.groupby(['siren'])['liste_adresse_dep'].apply(list).reset_index(name='liste_adresse')\n",
    "df_out = df_out.merge(df_liste, left_on='siren', right_on='siren')"
   ]
  },
  {
   "cell_type": "code",
   "execution_count": 58,
   "metadata": {},
   "outputs": [],
   "source": [
    "df_out2 = df_out[['siren','nombre_etablissements']].groupby(['siren'],as_index=False).sum()"
   ]
  },
  {
   "cell_type": "code",
   "execution_count": 59,
   "metadata": {},
   "outputs": [],
   "source": [
    "df_out2 = df_out2.merge(df_out[['liste_enseigne', 'liste_adresse','siren']], on='siren', how='left')\n",
    "df_out2 = df_out2.drop_duplicates(subset=['siren'], keep='first')"
   ]
  },
  {
   "cell_type": "code",
   "execution_count": null,
   "metadata": {},
   "outputs": [],
   "source": [
    "df_out2['liste_enseigne'] = df_out2.apply(lambda x: set(c for b in x.liste_enseigne for c in b), axis=1)\n",
    "df_out2['liste_adresse'] = df_out2.apply(lambda x: set(c for b in x.liste_adresse for c in b), axis=1)"
   ]
  },
  {
   "cell_type": "code",
   "execution_count": 79,
   "metadata": {},
   "outputs": [
    {
     "data": {
      "text/html": [
       "<div>\n",
       "<style scoped>\n",
       "    .dataframe tbody tr th:only-of-type {\n",
       "        vertical-align: middle;\n",
       "    }\n",
       "\n",
       "    .dataframe tbody tr th {\n",
       "        vertical-align: top;\n",
       "    }\n",
       "\n",
       "    .dataframe thead th {\n",
       "        text-align: right;\n",
       "    }\n",
       "</style>\n",
       "<table border=\"1\" class=\"dataframe\">\n",
       "  <thead>\n",
       "    <tr style=\"text-align: right;\">\n",
       "      <th></th>\n",
       "      <th>siren</th>\n",
       "      <th>nombre_etablissements</th>\n",
       "      <th>liste_enseigne</th>\n",
       "      <th>liste_adresse</th>\n",
       "    </tr>\n",
       "  </thead>\n",
       "  <tbody>\n",
       "    <tr>\n",
       "      <th>0</th>\n",
       "      <td>005720651</td>\n",
       "      <td>1</td>\n",
       "      <td>{nan}</td>\n",
       "      <td>{10 Rue Général Plessier 69002 Lyon}</td>\n",
       "    </tr>\n",
       "    <tr>\n",
       "      <th>1</th>\n",
       "      <td>006311617</td>\n",
       "      <td>1</td>\n",
       "      <td>{nan}</td>\n",
       "      <td>{Place Mirabeau 37500 Chinon}</td>\n",
       "    </tr>\n",
       "    <tr>\n",
       "      <th>2</th>\n",
       "      <td>006350037</td>\n",
       "      <td>1</td>\n",
       "      <td>{nan}</td>\n",
       "      <td>{66 Rue Béchevelin 69007 Lyon}</td>\n",
       "    </tr>\n",
       "    <tr>\n",
       "      <th>3</th>\n",
       "      <td>006580195</td>\n",
       "      <td>1</td>\n",
       "      <td>{SIDES}</td>\n",
       "      <td>{7 Chemin de Genas 69800 Saint-Priest}</td>\n",
       "    </tr>\n",
       "    <tr>\n",
       "      <th>4</th>\n",
       "      <td>006970859</td>\n",
       "      <td>1</td>\n",
       "      <td>{nan}</td>\n",
       "      <td>{54 Cours Vitton 69006 Lyon}</td>\n",
       "    </tr>\n",
       "    <tr>\n",
       "      <th>...</th>\n",
       "      <td>...</td>\n",
       "      <td>...</td>\n",
       "      <td>...</td>\n",
       "      <td>...</td>\n",
       "    </tr>\n",
       "    <tr>\n",
       "      <th>1449328</th>\n",
       "      <td>998912307</td>\n",
       "      <td>1</td>\n",
       "      <td>{nan}</td>\n",
       "      <td>{30 Rue de Lorquin 57400 Imling}</td>\n",
       "    </tr>\n",
       "    <tr>\n",
       "      <th>1449329</th>\n",
       "      <td>998922108</td>\n",
       "      <td>4</td>\n",
       "      <td>{nan, CHAUSSURES LAITI, SAN MARINA}</td>\n",
       "      <td>{Voie Romaine 57280 Semécourt, 21 Rue de Paris...</td>\n",
       "    </tr>\n",
       "    <tr>\n",
       "      <th>1449330</th>\n",
       "      <td>999990005</td>\n",
       "      <td>6</td>\n",
       "      <td>{nan, STEF LOGISTIQUE, STEF}</td>\n",
       "      <td>{nan, 14 Rue Marcel Mérieux 69960 Corbas, 67 A...</td>\n",
       "    </tr>\n",
       "    <tr>\n",
       "      <th>1449332</th>\n",
       "      <td>999990468</td>\n",
       "      <td>5</td>\n",
       "      <td>{nan}</td>\n",
       "      <td>{62 Rue de Bonnel 69003 Lyon, 11 Rue de la Rép...</td>\n",
       "    </tr>\n",
       "    <tr>\n",
       "      <th>1449334</th>\n",
       "      <td>999990625</td>\n",
       "      <td>1</td>\n",
       "      <td>{nan}</td>\n",
       "      <td>{Route de Manom 57100 Thionville}</td>\n",
       "    </tr>\n",
       "  </tbody>\n",
       "</table>\n",
       "<p>1440468 rows × 4 columns</p>\n",
       "</div>"
      ],
      "text/plain": [
       "             siren  nombre_etablissements  \\\n",
       "0        005720651                      1   \n",
       "1        006311617                      1   \n",
       "2        006350037                      1   \n",
       "3        006580195                      1   \n",
       "4        006970859                      1   \n",
       "...            ...                    ...   \n",
       "1449328  998912307                      1   \n",
       "1449329  998922108                      4   \n",
       "1449330  999990005                      6   \n",
       "1449332  999990468                      5   \n",
       "1449334  999990625                      1   \n",
       "\n",
       "                              liste_enseigne  \\\n",
       "0                                      {nan}   \n",
       "1                                      {nan}   \n",
       "2                                      {nan}   \n",
       "3                                    {SIDES}   \n",
       "4                                      {nan}   \n",
       "...                                      ...   \n",
       "1449328                                {nan}   \n",
       "1449329  {nan, CHAUSSURES LAITI, SAN MARINA}   \n",
       "1449330         {nan, STEF LOGISTIQUE, STEF}   \n",
       "1449332                                {nan}   \n",
       "1449334                                {nan}   \n",
       "\n",
       "                                             liste_adresse  \n",
       "0                     {10 Rue Général Plessier 69002 Lyon}  \n",
       "1                            {Place Mirabeau 37500 Chinon}  \n",
       "2                           {66 Rue Béchevelin 69007 Lyon}  \n",
       "3                   {7 Chemin de Genas 69800 Saint-Priest}  \n",
       "4                             {54 Cours Vitton 69006 Lyon}  \n",
       "...                                                    ...  \n",
       "1449328                   {30 Rue de Lorquin 57400 Imling}  \n",
       "1449329  {Voie Romaine 57280 Semécourt, 21 Rue de Paris...  \n",
       "1449330  {nan, 14 Rue Marcel Mérieux 69960 Corbas, 67 A...  \n",
       "1449332  {62 Rue de Bonnel 69003 Lyon, 11 Rue de la Rép...  \n",
       "1449334                  {Route de Manom 57100 Thionville}  \n",
       "\n",
       "[1440468 rows x 4 columns]"
      ]
     },
     "execution_count": 79,
     "metadata": {},
     "output_type": "execute_result"
    }
   ],
   "source": [
    "df_out2"
   ]
  },
  {
   "cell_type": "code",
   "execution_count": 80,
   "metadata": {},
   "outputs": [],
   "source": [
    "df_unite_legale = pd.merge(df_unite_legale,df_out2,on='siren',how='left')"
   ]
  },
  {
   "cell_type": "code",
   "execution_count": null,
   "metadata": {},
   "outputs": [],
   "source": [
    "# Compute 'nombre etablissements ouvert' per 'siren'\n",
    "df_out=pd.DataFrame()\n",
    "for geo_file in geo_files:\n",
    "    print(geo_file)\n",
    "    df_geo = pd.read_csv(geo_file,dtype=str)\n",
    "    df_geo = df_geo[df_geo['etat_administratif_etablissement'] == 'A']\n",
    "    df_geo['file'] = geo_file\n",
    "    df_geo['nombre_etablissements_ouvert'] = df_geo.groupby(['siren','file'])['siret'].transform('count')\n",
    "    df_inter = df_geo[['siren','file','nombre_etablissements_ouvert']]\n",
    "    df_out = pd.concat([df_out, df_inter])\n",
    "df_out = df_out.drop_duplicates(keep='first')\n",
    "df_out2 = df_out[['siren','nombre_etablissements_ouvert']].groupby(['siren'],as_index=False).sum()\n",
    "df_unite_legale = pd.merge(df_unite_legale,df_out2,on='siren',how='left')"
   ]
  },
  {
   "cell_type": "code",
   "execution_count": null,
   "metadata": {},
   "outputs": [],
   "source": [
    "# Merge geo files with above dataframe\n",
    "for geo_file in geo_files:\n",
    "    print(geo_file)\n",
    "    df_geo = pd.read_csv(geo_file,dtype=str)\n",
    "    df_inter = pd.merge(df_geo,df_unite_legale,on='siren',how='left')\n",
    "    df_inter2 = df_inter[df_inter['is_siege'] == 'true']\n",
    "    df_inter2['concat_nom_adr_siren'] = df_inter2['nom_complet'] + ' ' + df_inter2['geo_adresse'] + ' ' + df_inter2['siren']\n",
    "    df_inter2['concat_enseigne_adresse'] = df_inter2.apply(lambda x: x.liste_enseigne.union(x.liste_adresse), axis=1)\n",
    "    df_inter.to_csv(OUTPUT_DATA_FOLDER+'siret_'+geo_file.replace(DATA_DIR+'geo_siret_',''), index=False)\n",
    "    df_inter2.to_csv(OUTPUT_DATA_FOLDER+ELASTIC_INDEX+'_'+geo_file.replace(DATA_DIR+'geo_siret_',''), index=False)"
   ]
  }
 ],
 "metadata": {
  "interpreter": {
   "hash": "19ece5f74f8baf7d074e990d308e7c75b7ac8b98c7c6e76faedd0c3526d006f2"
  },
  "kernelspec": {
   "display_name": "Python 3 (ipykernel)",
   "language": "python",
   "name": "python3"
  },
  "language_info": {
   "codemirror_mode": {
    "name": "ipython",
    "version": 3
   },
   "file_extension": ".py",
   "mimetype": "text/x-python",
   "name": "python",
   "nbconvert_exporter": "python",
   "pygments_lexer": "ipython3",
   "version": "3.9.7"
  }
 },
 "nbformat": 4,
 "nbformat_minor": 4
}
